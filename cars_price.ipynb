{
  "cells": [
    {
      "cell_type": "markdown",
      "metadata": {
        "id": "view-in-github",
        "colab_type": "text"
      },
      "source": [
        "<a href=\"https://colab.research.google.com/github/chjameskumar/cars_price_project/blob/main/cars_price.ipynb\" target=\"_parent\"><img src=\"https://colab.research.google.com/assets/colab-badge.svg\" alt=\"Open In Colab\"/></a>"
      ]
    },
    {
      "cell_type": "code",
      "execution_count": 3,
      "metadata": {
        "id": "q0H1X-upeqlm"
      },
      "outputs": [],
      "source": [
        "import pandas as pd\n",
        "import numpy as np"
      ]
    },
    {
      "cell_type": "code",
      "execution_count": 4,
      "metadata": {
        "id": "Jnx2DFzv0kEq"
      },
      "outputs": [],
      "source": [
        "# loading the data\n",
        "data = pd.read_csv('cars_price.csv')"
      ]
    },
    {
      "cell_type": "code",
      "execution_count": 5,
      "metadata": {
        "colab": {
          "base_uri": "https://localhost:8080/",
          "height": 523
        },
        "id": "1WJKVwVJ1TAE",
        "outputId": "eee220ec-638f-491a-8199-d1479d5978cb"
      },
      "outputs": [
        {
          "output_type": "execute_result",
          "data": {
            "text/plain": [
              "   symboling normalized-losses         make fuel-type aspiration num-of-doors  \\\n",
              "0          3                 ?  alfa-romero       gas        std          two   \n",
              "1          3                 ?  alfa-romero       gas        std          two   \n",
              "2          1                 ?  alfa-romero       gas        std          two   \n",
              "3          2               164         audi       gas        std         four   \n",
              "4          2               164         audi       gas        std         four   \n",
              "5          2                 ?         audi       gas        std          two   \n",
              "6          1               158         audi       gas        std         four   \n",
              "7          1                 ?         audi       gas        std         four   \n",
              "8          1               158         audi       gas      turbo         four   \n",
              "9          0                 ?         audi       gas      turbo          two   \n",
              "\n",
              "    body-style drive-wheels engine-location  wheel-base  ...  engine-size  \\\n",
              "0  convertible          rwd           front        88.6  ...          130   \n",
              "1  convertible          rwd           front        88.6  ...          130   \n",
              "2    hatchback          rwd           front        94.5  ...          152   \n",
              "3        sedan          fwd           front        99.8  ...          109   \n",
              "4        sedan          4wd           front        99.4  ...          136   \n",
              "5        sedan          fwd           front        99.8  ...          136   \n",
              "6        sedan          fwd           front       105.8  ...          136   \n",
              "7        wagon          fwd           front       105.8  ...          136   \n",
              "8        sedan          fwd           front       105.8  ...          131   \n",
              "9    hatchback          4wd           front        99.5  ...          131   \n",
              "\n",
              "   fuel-system  bore  stroke compression-ratio horsepower  peak-rpm city-mpg  \\\n",
              "0         mpfi  3.47    2.68               9.0        111      5000       21   \n",
              "1         mpfi  3.47    2.68               9.0        111      5000       21   \n",
              "2         mpfi  2.68    3.47               9.0        154      5000       19   \n",
              "3         mpfi  3.19     3.4              10.0        102      5500       24   \n",
              "4         mpfi  3.19     3.4               8.0        115      5500       18   \n",
              "5         mpfi  3.19     3.4               8.5        110      5500       19   \n",
              "6         mpfi  3.19     3.4               8.5        110      5500       19   \n",
              "7         mpfi  3.19     3.4               8.5        110      5500       19   \n",
              "8         mpfi  3.13     3.4               8.3        140      5500       17   \n",
              "9         mpfi  3.13     3.4               7.0        160      5500       16   \n",
              "\n",
              "  highway-mpg  price  \n",
              "0          27  13495  \n",
              "1          27  16500  \n",
              "2          26  16500  \n",
              "3          30  13950  \n",
              "4          22  17450  \n",
              "5          25  15250  \n",
              "6          25  17710  \n",
              "7          25  18920  \n",
              "8          20  23875  \n",
              "9          22      ?  \n",
              "\n",
              "[10 rows x 26 columns]"
            ],
            "text/html": [
              "\n",
              "  <div id=\"df-d860a1b3-45d5-49d7-bc83-62ff825d60b5\">\n",
              "    <div class=\"colab-df-container\">\n",
              "      <div>\n",
              "<style scoped>\n",
              "    .dataframe tbody tr th:only-of-type {\n",
              "        vertical-align: middle;\n",
              "    }\n",
              "\n",
              "    .dataframe tbody tr th {\n",
              "        vertical-align: top;\n",
              "    }\n",
              "\n",
              "    .dataframe thead th {\n",
              "        text-align: right;\n",
              "    }\n",
              "</style>\n",
              "<table border=\"1\" class=\"dataframe\">\n",
              "  <thead>\n",
              "    <tr style=\"text-align: right;\">\n",
              "      <th></th>\n",
              "      <th>symboling</th>\n",
              "      <th>normalized-losses</th>\n",
              "      <th>make</th>\n",
              "      <th>fuel-type</th>\n",
              "      <th>aspiration</th>\n",
              "      <th>num-of-doors</th>\n",
              "      <th>body-style</th>\n",
              "      <th>drive-wheels</th>\n",
              "      <th>engine-location</th>\n",
              "      <th>wheel-base</th>\n",
              "      <th>...</th>\n",
              "      <th>engine-size</th>\n",
              "      <th>fuel-system</th>\n",
              "      <th>bore</th>\n",
              "      <th>stroke</th>\n",
              "      <th>compression-ratio</th>\n",
              "      <th>horsepower</th>\n",
              "      <th>peak-rpm</th>\n",
              "      <th>city-mpg</th>\n",
              "      <th>highway-mpg</th>\n",
              "      <th>price</th>\n",
              "    </tr>\n",
              "  </thead>\n",
              "  <tbody>\n",
              "    <tr>\n",
              "      <th>0</th>\n",
              "      <td>3</td>\n",
              "      <td>?</td>\n",
              "      <td>alfa-romero</td>\n",
              "      <td>gas</td>\n",
              "      <td>std</td>\n",
              "      <td>two</td>\n",
              "      <td>convertible</td>\n",
              "      <td>rwd</td>\n",
              "      <td>front</td>\n",
              "      <td>88.6</td>\n",
              "      <td>...</td>\n",
              "      <td>130</td>\n",
              "      <td>mpfi</td>\n",
              "      <td>3.47</td>\n",
              "      <td>2.68</td>\n",
              "      <td>9.0</td>\n",
              "      <td>111</td>\n",
              "      <td>5000</td>\n",
              "      <td>21</td>\n",
              "      <td>27</td>\n",
              "      <td>13495</td>\n",
              "    </tr>\n",
              "    <tr>\n",
              "      <th>1</th>\n",
              "      <td>3</td>\n",
              "      <td>?</td>\n",
              "      <td>alfa-romero</td>\n",
              "      <td>gas</td>\n",
              "      <td>std</td>\n",
              "      <td>two</td>\n",
              "      <td>convertible</td>\n",
              "      <td>rwd</td>\n",
              "      <td>front</td>\n",
              "      <td>88.6</td>\n",
              "      <td>...</td>\n",
              "      <td>130</td>\n",
              "      <td>mpfi</td>\n",
              "      <td>3.47</td>\n",
              "      <td>2.68</td>\n",
              "      <td>9.0</td>\n",
              "      <td>111</td>\n",
              "      <td>5000</td>\n",
              "      <td>21</td>\n",
              "      <td>27</td>\n",
              "      <td>16500</td>\n",
              "    </tr>\n",
              "    <tr>\n",
              "      <th>2</th>\n",
              "      <td>1</td>\n",
              "      <td>?</td>\n",
              "      <td>alfa-romero</td>\n",
              "      <td>gas</td>\n",
              "      <td>std</td>\n",
              "      <td>two</td>\n",
              "      <td>hatchback</td>\n",
              "      <td>rwd</td>\n",
              "      <td>front</td>\n",
              "      <td>94.5</td>\n",
              "      <td>...</td>\n",
              "      <td>152</td>\n",
              "      <td>mpfi</td>\n",
              "      <td>2.68</td>\n",
              "      <td>3.47</td>\n",
              "      <td>9.0</td>\n",
              "      <td>154</td>\n",
              "      <td>5000</td>\n",
              "      <td>19</td>\n",
              "      <td>26</td>\n",
              "      <td>16500</td>\n",
              "    </tr>\n",
              "    <tr>\n",
              "      <th>3</th>\n",
              "      <td>2</td>\n",
              "      <td>164</td>\n",
              "      <td>audi</td>\n",
              "      <td>gas</td>\n",
              "      <td>std</td>\n",
              "      <td>four</td>\n",
              "      <td>sedan</td>\n",
              "      <td>fwd</td>\n",
              "      <td>front</td>\n",
              "      <td>99.8</td>\n",
              "      <td>...</td>\n",
              "      <td>109</td>\n",
              "      <td>mpfi</td>\n",
              "      <td>3.19</td>\n",
              "      <td>3.4</td>\n",
              "      <td>10.0</td>\n",
              "      <td>102</td>\n",
              "      <td>5500</td>\n",
              "      <td>24</td>\n",
              "      <td>30</td>\n",
              "      <td>13950</td>\n",
              "    </tr>\n",
              "    <tr>\n",
              "      <th>4</th>\n",
              "      <td>2</td>\n",
              "      <td>164</td>\n",
              "      <td>audi</td>\n",
              "      <td>gas</td>\n",
              "      <td>std</td>\n",
              "      <td>four</td>\n",
              "      <td>sedan</td>\n",
              "      <td>4wd</td>\n",
              "      <td>front</td>\n",
              "      <td>99.4</td>\n",
              "      <td>...</td>\n",
              "      <td>136</td>\n",
              "      <td>mpfi</td>\n",
              "      <td>3.19</td>\n",
              "      <td>3.4</td>\n",
              "      <td>8.0</td>\n",
              "      <td>115</td>\n",
              "      <td>5500</td>\n",
              "      <td>18</td>\n",
              "      <td>22</td>\n",
              "      <td>17450</td>\n",
              "    </tr>\n",
              "    <tr>\n",
              "      <th>5</th>\n",
              "      <td>2</td>\n",
              "      <td>?</td>\n",
              "      <td>audi</td>\n",
              "      <td>gas</td>\n",
              "      <td>std</td>\n",
              "      <td>two</td>\n",
              "      <td>sedan</td>\n",
              "      <td>fwd</td>\n",
              "      <td>front</td>\n",
              "      <td>99.8</td>\n",
              "      <td>...</td>\n",
              "      <td>136</td>\n",
              "      <td>mpfi</td>\n",
              "      <td>3.19</td>\n",
              "      <td>3.4</td>\n",
              "      <td>8.5</td>\n",
              "      <td>110</td>\n",
              "      <td>5500</td>\n",
              "      <td>19</td>\n",
              "      <td>25</td>\n",
              "      <td>15250</td>\n",
              "    </tr>\n",
              "    <tr>\n",
              "      <th>6</th>\n",
              "      <td>1</td>\n",
              "      <td>158</td>\n",
              "      <td>audi</td>\n",
              "      <td>gas</td>\n",
              "      <td>std</td>\n",
              "      <td>four</td>\n",
              "      <td>sedan</td>\n",
              "      <td>fwd</td>\n",
              "      <td>front</td>\n",
              "      <td>105.8</td>\n",
              "      <td>...</td>\n",
              "      <td>136</td>\n",
              "      <td>mpfi</td>\n",
              "      <td>3.19</td>\n",
              "      <td>3.4</td>\n",
              "      <td>8.5</td>\n",
              "      <td>110</td>\n",
              "      <td>5500</td>\n",
              "      <td>19</td>\n",
              "      <td>25</td>\n",
              "      <td>17710</td>\n",
              "    </tr>\n",
              "    <tr>\n",
              "      <th>7</th>\n",
              "      <td>1</td>\n",
              "      <td>?</td>\n",
              "      <td>audi</td>\n",
              "      <td>gas</td>\n",
              "      <td>std</td>\n",
              "      <td>four</td>\n",
              "      <td>wagon</td>\n",
              "      <td>fwd</td>\n",
              "      <td>front</td>\n",
              "      <td>105.8</td>\n",
              "      <td>...</td>\n",
              "      <td>136</td>\n",
              "      <td>mpfi</td>\n",
              "      <td>3.19</td>\n",
              "      <td>3.4</td>\n",
              "      <td>8.5</td>\n",
              "      <td>110</td>\n",
              "      <td>5500</td>\n",
              "      <td>19</td>\n",
              "      <td>25</td>\n",
              "      <td>18920</td>\n",
              "    </tr>\n",
              "    <tr>\n",
              "      <th>8</th>\n",
              "      <td>1</td>\n",
              "      <td>158</td>\n",
              "      <td>audi</td>\n",
              "      <td>gas</td>\n",
              "      <td>turbo</td>\n",
              "      <td>four</td>\n",
              "      <td>sedan</td>\n",
              "      <td>fwd</td>\n",
              "      <td>front</td>\n",
              "      <td>105.8</td>\n",
              "      <td>...</td>\n",
              "      <td>131</td>\n",
              "      <td>mpfi</td>\n",
              "      <td>3.13</td>\n",
              "      <td>3.4</td>\n",
              "      <td>8.3</td>\n",
              "      <td>140</td>\n",
              "      <td>5500</td>\n",
              "      <td>17</td>\n",
              "      <td>20</td>\n",
              "      <td>23875</td>\n",
              "    </tr>\n",
              "    <tr>\n",
              "      <th>9</th>\n",
              "      <td>0</td>\n",
              "      <td>?</td>\n",
              "      <td>audi</td>\n",
              "      <td>gas</td>\n",
              "      <td>turbo</td>\n",
              "      <td>two</td>\n",
              "      <td>hatchback</td>\n",
              "      <td>4wd</td>\n",
              "      <td>front</td>\n",
              "      <td>99.5</td>\n",
              "      <td>...</td>\n",
              "      <td>131</td>\n",
              "      <td>mpfi</td>\n",
              "      <td>3.13</td>\n",
              "      <td>3.4</td>\n",
              "      <td>7.0</td>\n",
              "      <td>160</td>\n",
              "      <td>5500</td>\n",
              "      <td>16</td>\n",
              "      <td>22</td>\n",
              "      <td>?</td>\n",
              "    </tr>\n",
              "  </tbody>\n",
              "</table>\n",
              "<p>10 rows × 26 columns</p>\n",
              "</div>\n",
              "      <button class=\"colab-df-convert\" onclick=\"convertToInteractive('df-d860a1b3-45d5-49d7-bc83-62ff825d60b5')\"\n",
              "              title=\"Convert this dataframe to an interactive table.\"\n",
              "              style=\"display:none;\">\n",
              "        \n",
              "  <svg xmlns=\"http://www.w3.org/2000/svg\" height=\"24px\"viewBox=\"0 0 24 24\"\n",
              "       width=\"24px\">\n",
              "    <path d=\"M0 0h24v24H0V0z\" fill=\"none\"/>\n",
              "    <path d=\"M18.56 5.44l.94 2.06.94-2.06 2.06-.94-2.06-.94-.94-2.06-.94 2.06-2.06.94zm-11 1L8.5 8.5l.94-2.06 2.06-.94-2.06-.94L8.5 2.5l-.94 2.06-2.06.94zm10 10l.94 2.06.94-2.06 2.06-.94-2.06-.94-.94-2.06-.94 2.06-2.06.94z\"/><path d=\"M17.41 7.96l-1.37-1.37c-.4-.4-.92-.59-1.43-.59-.52 0-1.04.2-1.43.59L10.3 9.45l-7.72 7.72c-.78.78-.78 2.05 0 2.83L4 21.41c.39.39.9.59 1.41.59.51 0 1.02-.2 1.41-.59l7.78-7.78 2.81-2.81c.8-.78.8-2.07 0-2.86zM5.41 20L4 18.59l7.72-7.72 1.47 1.35L5.41 20z\"/>\n",
              "  </svg>\n",
              "      </button>\n",
              "      \n",
              "  <style>\n",
              "    .colab-df-container {\n",
              "      display:flex;\n",
              "      flex-wrap:wrap;\n",
              "      gap: 12px;\n",
              "    }\n",
              "\n",
              "    .colab-df-convert {\n",
              "      background-color: #E8F0FE;\n",
              "      border: none;\n",
              "      border-radius: 50%;\n",
              "      cursor: pointer;\n",
              "      display: none;\n",
              "      fill: #1967D2;\n",
              "      height: 32px;\n",
              "      padding: 0 0 0 0;\n",
              "      width: 32px;\n",
              "    }\n",
              "\n",
              "    .colab-df-convert:hover {\n",
              "      background-color: #E2EBFA;\n",
              "      box-shadow: 0px 1px 2px rgba(60, 64, 67, 0.3), 0px 1px 3px 1px rgba(60, 64, 67, 0.15);\n",
              "      fill: #174EA6;\n",
              "    }\n",
              "\n",
              "    [theme=dark] .colab-df-convert {\n",
              "      background-color: #3B4455;\n",
              "      fill: #D2E3FC;\n",
              "    }\n",
              "\n",
              "    [theme=dark] .colab-df-convert:hover {\n",
              "      background-color: #434B5C;\n",
              "      box-shadow: 0px 1px 3px 1px rgba(0, 0, 0, 0.15);\n",
              "      filter: drop-shadow(0px 1px 2px rgba(0, 0, 0, 0.3));\n",
              "      fill: #FFFFFF;\n",
              "    }\n",
              "  </style>\n",
              "\n",
              "      <script>\n",
              "        const buttonEl =\n",
              "          document.querySelector('#df-d860a1b3-45d5-49d7-bc83-62ff825d60b5 button.colab-df-convert');\n",
              "        buttonEl.style.display =\n",
              "          google.colab.kernel.accessAllowed ? 'block' : 'none';\n",
              "\n",
              "        async function convertToInteractive(key) {\n",
              "          const element = document.querySelector('#df-d860a1b3-45d5-49d7-bc83-62ff825d60b5');\n",
              "          const dataTable =\n",
              "            await google.colab.kernel.invokeFunction('convertToInteractive',\n",
              "                                                     [key], {});\n",
              "          if (!dataTable) return;\n",
              "\n",
              "          const docLinkHtml = 'Like what you see? Visit the ' +\n",
              "            '<a target=\"_blank\" href=https://colab.research.google.com/notebooks/data_table.ipynb>data table notebook</a>'\n",
              "            + ' to learn more about interactive tables.';\n",
              "          element.innerHTML = '';\n",
              "          dataTable['output_type'] = 'display_data';\n",
              "          await google.colab.output.renderOutput(dataTable, element);\n",
              "          const docLink = document.createElement('div');\n",
              "          docLink.innerHTML = docLinkHtml;\n",
              "          element.appendChild(docLink);\n",
              "        }\n",
              "      </script>\n",
              "    </div>\n",
              "  </div>\n",
              "  "
            ]
          },
          "metadata": {},
          "execution_count": 5
        }
      ],
      "source": [
        "data.head(10)"
      ]
    },
    {
      "cell_type": "code",
      "execution_count": 6,
      "metadata": {
        "colab": {
          "base_uri": "https://localhost:8080/"
        },
        "id": "o_wQfNNc8Nxb",
        "outputId": "75764eb7-5534-4071-d48a-68e9be2f1862"
      },
      "outputs": [
        {
          "output_type": "execute_result",
          "data": {
            "text/plain": [
              "(205, 26)"
            ]
          },
          "metadata": {},
          "execution_count": 6
        }
      ],
      "source": [
        "data.shape"
      ]
    },
    {
      "cell_type": "code",
      "execution_count": 7,
      "metadata": {
        "colab": {
          "base_uri": "https://localhost:8080/",
          "height": 300
        },
        "id": "Uk0cYPvlDICo",
        "outputId": "13ef90ff-0c3c-4d89-f3ee-18846807c789"
      },
      "outputs": [
        {
          "output_type": "execute_result",
          "data": {
            "text/plain": [
              "        symboling  wheel-base      length       width      height  \\\n",
              "count  205.000000  205.000000  205.000000  205.000000  205.000000   \n",
              "mean     0.834146   98.756585  174.049268   65.907805   53.724878   \n",
              "std      1.245307    6.021776   12.337289    2.145204    2.443522   \n",
              "min     -2.000000   86.600000  141.100000   60.300000   47.800000   \n",
              "25%      0.000000   94.500000  166.300000   64.100000   52.000000   \n",
              "50%      1.000000   97.000000  173.200000   65.500000   54.100000   \n",
              "75%      2.000000  102.400000  183.100000   66.900000   55.500000   \n",
              "max      3.000000  120.900000  208.100000   72.300000   59.800000   \n",
              "\n",
              "       curb-weight  engine-size  compression-ratio    city-mpg  highway-mpg  \n",
              "count   205.000000   205.000000         205.000000  205.000000   205.000000  \n",
              "mean   2555.565854   126.907317          10.142537   25.219512    30.751220  \n",
              "std     520.680204    41.642693           3.972040    6.542142     6.886443  \n",
              "min    1488.000000    61.000000           7.000000   13.000000    16.000000  \n",
              "25%    2145.000000    97.000000           8.600000   19.000000    25.000000  \n",
              "50%    2414.000000   120.000000           9.000000   24.000000    30.000000  \n",
              "75%    2935.000000   141.000000           9.400000   30.000000    34.000000  \n",
              "max    4066.000000   326.000000          23.000000   49.000000    54.000000  "
            ],
            "text/html": [
              "\n",
              "  <div id=\"df-475a5dc9-f2ff-4d3a-ae0a-695021d0830e\">\n",
              "    <div class=\"colab-df-container\">\n",
              "      <div>\n",
              "<style scoped>\n",
              "    .dataframe tbody tr th:only-of-type {\n",
              "        vertical-align: middle;\n",
              "    }\n",
              "\n",
              "    .dataframe tbody tr th {\n",
              "        vertical-align: top;\n",
              "    }\n",
              "\n",
              "    .dataframe thead th {\n",
              "        text-align: right;\n",
              "    }\n",
              "</style>\n",
              "<table border=\"1\" class=\"dataframe\">\n",
              "  <thead>\n",
              "    <tr style=\"text-align: right;\">\n",
              "      <th></th>\n",
              "      <th>symboling</th>\n",
              "      <th>wheel-base</th>\n",
              "      <th>length</th>\n",
              "      <th>width</th>\n",
              "      <th>height</th>\n",
              "      <th>curb-weight</th>\n",
              "      <th>engine-size</th>\n",
              "      <th>compression-ratio</th>\n",
              "      <th>city-mpg</th>\n",
              "      <th>highway-mpg</th>\n",
              "    </tr>\n",
              "  </thead>\n",
              "  <tbody>\n",
              "    <tr>\n",
              "      <th>count</th>\n",
              "      <td>205.000000</td>\n",
              "      <td>205.000000</td>\n",
              "      <td>205.000000</td>\n",
              "      <td>205.000000</td>\n",
              "      <td>205.000000</td>\n",
              "      <td>205.000000</td>\n",
              "      <td>205.000000</td>\n",
              "      <td>205.000000</td>\n",
              "      <td>205.000000</td>\n",
              "      <td>205.000000</td>\n",
              "    </tr>\n",
              "    <tr>\n",
              "      <th>mean</th>\n",
              "      <td>0.834146</td>\n",
              "      <td>98.756585</td>\n",
              "      <td>174.049268</td>\n",
              "      <td>65.907805</td>\n",
              "      <td>53.724878</td>\n",
              "      <td>2555.565854</td>\n",
              "      <td>126.907317</td>\n",
              "      <td>10.142537</td>\n",
              "      <td>25.219512</td>\n",
              "      <td>30.751220</td>\n",
              "    </tr>\n",
              "    <tr>\n",
              "      <th>std</th>\n",
              "      <td>1.245307</td>\n",
              "      <td>6.021776</td>\n",
              "      <td>12.337289</td>\n",
              "      <td>2.145204</td>\n",
              "      <td>2.443522</td>\n",
              "      <td>520.680204</td>\n",
              "      <td>41.642693</td>\n",
              "      <td>3.972040</td>\n",
              "      <td>6.542142</td>\n",
              "      <td>6.886443</td>\n",
              "    </tr>\n",
              "    <tr>\n",
              "      <th>min</th>\n",
              "      <td>-2.000000</td>\n",
              "      <td>86.600000</td>\n",
              "      <td>141.100000</td>\n",
              "      <td>60.300000</td>\n",
              "      <td>47.800000</td>\n",
              "      <td>1488.000000</td>\n",
              "      <td>61.000000</td>\n",
              "      <td>7.000000</td>\n",
              "      <td>13.000000</td>\n",
              "      <td>16.000000</td>\n",
              "    </tr>\n",
              "    <tr>\n",
              "      <th>25%</th>\n",
              "      <td>0.000000</td>\n",
              "      <td>94.500000</td>\n",
              "      <td>166.300000</td>\n",
              "      <td>64.100000</td>\n",
              "      <td>52.000000</td>\n",
              "      <td>2145.000000</td>\n",
              "      <td>97.000000</td>\n",
              "      <td>8.600000</td>\n",
              "      <td>19.000000</td>\n",
              "      <td>25.000000</td>\n",
              "    </tr>\n",
              "    <tr>\n",
              "      <th>50%</th>\n",
              "      <td>1.000000</td>\n",
              "      <td>97.000000</td>\n",
              "      <td>173.200000</td>\n",
              "      <td>65.500000</td>\n",
              "      <td>54.100000</td>\n",
              "      <td>2414.000000</td>\n",
              "      <td>120.000000</td>\n",
              "      <td>9.000000</td>\n",
              "      <td>24.000000</td>\n",
              "      <td>30.000000</td>\n",
              "    </tr>\n",
              "    <tr>\n",
              "      <th>75%</th>\n",
              "      <td>2.000000</td>\n",
              "      <td>102.400000</td>\n",
              "      <td>183.100000</td>\n",
              "      <td>66.900000</td>\n",
              "      <td>55.500000</td>\n",
              "      <td>2935.000000</td>\n",
              "      <td>141.000000</td>\n",
              "      <td>9.400000</td>\n",
              "      <td>30.000000</td>\n",
              "      <td>34.000000</td>\n",
              "    </tr>\n",
              "    <tr>\n",
              "      <th>max</th>\n",
              "      <td>3.000000</td>\n",
              "      <td>120.900000</td>\n",
              "      <td>208.100000</td>\n",
              "      <td>72.300000</td>\n",
              "      <td>59.800000</td>\n",
              "      <td>4066.000000</td>\n",
              "      <td>326.000000</td>\n",
              "      <td>23.000000</td>\n",
              "      <td>49.000000</td>\n",
              "      <td>54.000000</td>\n",
              "    </tr>\n",
              "  </tbody>\n",
              "</table>\n",
              "</div>\n",
              "      <button class=\"colab-df-convert\" onclick=\"convertToInteractive('df-475a5dc9-f2ff-4d3a-ae0a-695021d0830e')\"\n",
              "              title=\"Convert this dataframe to an interactive table.\"\n",
              "              style=\"display:none;\">\n",
              "        \n",
              "  <svg xmlns=\"http://www.w3.org/2000/svg\" height=\"24px\"viewBox=\"0 0 24 24\"\n",
              "       width=\"24px\">\n",
              "    <path d=\"M0 0h24v24H0V0z\" fill=\"none\"/>\n",
              "    <path d=\"M18.56 5.44l.94 2.06.94-2.06 2.06-.94-2.06-.94-.94-2.06-.94 2.06-2.06.94zm-11 1L8.5 8.5l.94-2.06 2.06-.94-2.06-.94L8.5 2.5l-.94 2.06-2.06.94zm10 10l.94 2.06.94-2.06 2.06-.94-2.06-.94-.94-2.06-.94 2.06-2.06.94z\"/><path d=\"M17.41 7.96l-1.37-1.37c-.4-.4-.92-.59-1.43-.59-.52 0-1.04.2-1.43.59L10.3 9.45l-7.72 7.72c-.78.78-.78 2.05 0 2.83L4 21.41c.39.39.9.59 1.41.59.51 0 1.02-.2 1.41-.59l7.78-7.78 2.81-2.81c.8-.78.8-2.07 0-2.86zM5.41 20L4 18.59l7.72-7.72 1.47 1.35L5.41 20z\"/>\n",
              "  </svg>\n",
              "      </button>\n",
              "      \n",
              "  <style>\n",
              "    .colab-df-container {\n",
              "      display:flex;\n",
              "      flex-wrap:wrap;\n",
              "      gap: 12px;\n",
              "    }\n",
              "\n",
              "    .colab-df-convert {\n",
              "      background-color: #E8F0FE;\n",
              "      border: none;\n",
              "      border-radius: 50%;\n",
              "      cursor: pointer;\n",
              "      display: none;\n",
              "      fill: #1967D2;\n",
              "      height: 32px;\n",
              "      padding: 0 0 0 0;\n",
              "      width: 32px;\n",
              "    }\n",
              "\n",
              "    .colab-df-convert:hover {\n",
              "      background-color: #E2EBFA;\n",
              "      box-shadow: 0px 1px 2px rgba(60, 64, 67, 0.3), 0px 1px 3px 1px rgba(60, 64, 67, 0.15);\n",
              "      fill: #174EA6;\n",
              "    }\n",
              "\n",
              "    [theme=dark] .colab-df-convert {\n",
              "      background-color: #3B4455;\n",
              "      fill: #D2E3FC;\n",
              "    }\n",
              "\n",
              "    [theme=dark] .colab-df-convert:hover {\n",
              "      background-color: #434B5C;\n",
              "      box-shadow: 0px 1px 3px 1px rgba(0, 0, 0, 0.15);\n",
              "      filter: drop-shadow(0px 1px 2px rgba(0, 0, 0, 0.3));\n",
              "      fill: #FFFFFF;\n",
              "    }\n",
              "  </style>\n",
              "\n",
              "      <script>\n",
              "        const buttonEl =\n",
              "          document.querySelector('#df-475a5dc9-f2ff-4d3a-ae0a-695021d0830e button.colab-df-convert');\n",
              "        buttonEl.style.display =\n",
              "          google.colab.kernel.accessAllowed ? 'block' : 'none';\n",
              "\n",
              "        async function convertToInteractive(key) {\n",
              "          const element = document.querySelector('#df-475a5dc9-f2ff-4d3a-ae0a-695021d0830e');\n",
              "          const dataTable =\n",
              "            await google.colab.kernel.invokeFunction('convertToInteractive',\n",
              "                                                     [key], {});\n",
              "          if (!dataTable) return;\n",
              "\n",
              "          const docLinkHtml = 'Like what you see? Visit the ' +\n",
              "            '<a target=\"_blank\" href=https://colab.research.google.com/notebooks/data_table.ipynb>data table notebook</a>'\n",
              "            + ' to learn more about interactive tables.';\n",
              "          element.innerHTML = '';\n",
              "          dataTable['output_type'] = 'display_data';\n",
              "          await google.colab.output.renderOutput(dataTable, element);\n",
              "          const docLink = document.createElement('div');\n",
              "          docLink.innerHTML = docLinkHtml;\n",
              "          element.appendChild(docLink);\n",
              "        }\n",
              "      </script>\n",
              "    </div>\n",
              "  </div>\n",
              "  "
            ]
          },
          "metadata": {},
          "execution_count": 7
        }
      ],
      "source": [
        "data.describe()"
      ]
    },
    {
      "cell_type": "code",
      "execution_count": 8,
      "metadata": {
        "colab": {
          "base_uri": "https://localhost:8080/"
        },
        "id": "DXz9IFap8SCw",
        "outputId": "bf56a874-95ba-4d30-d90e-45c0a145d3ff"
      },
      "outputs": [
        {
          "output_type": "stream",
          "name": "stdout",
          "text": [
            "<class 'pandas.core.frame.DataFrame'>\n",
            "RangeIndex: 205 entries, 0 to 204\n",
            "Data columns (total 26 columns):\n",
            " #   Column             Non-Null Count  Dtype  \n",
            "---  ------             --------------  -----  \n",
            " 0   symboling          205 non-null    int64  \n",
            " 1   normalized-losses  205 non-null    object \n",
            " 2   make               205 non-null    object \n",
            " 3   fuel-type          205 non-null    object \n",
            " 4   aspiration         205 non-null    object \n",
            " 5   num-of-doors       205 non-null    object \n",
            " 6   body-style         205 non-null    object \n",
            " 7   drive-wheels       205 non-null    object \n",
            " 8   engine-location    205 non-null    object \n",
            " 9   wheel-base         205 non-null    float64\n",
            " 10  length             205 non-null    float64\n",
            " 11  width              205 non-null    float64\n",
            " 12  height             205 non-null    float64\n",
            " 13  curb-weight        205 non-null    int64  \n",
            " 14  engine-type        205 non-null    object \n",
            " 15  num-of-cylinders   205 non-null    object \n",
            " 16  engine-size        205 non-null    int64  \n",
            " 17  fuel-system        205 non-null    object \n",
            " 18  bore               205 non-null    object \n",
            " 19  stroke             205 non-null    object \n",
            " 20  compression-ratio  205 non-null    float64\n",
            " 21  horsepower         205 non-null    object \n",
            " 22  peak-rpm           205 non-null    object \n",
            " 23  city-mpg           205 non-null    int64  \n",
            " 24  highway-mpg        205 non-null    int64  \n",
            " 25  price              205 non-null    object \n",
            "dtypes: float64(5), int64(5), object(16)\n",
            "memory usage: 41.8+ KB\n"
          ]
        }
      ],
      "source": [
        "data.info()"
      ]
    },
    {
      "cell_type": "code",
      "execution_count": 9,
      "metadata": {
        "colab": {
          "base_uri": "https://localhost:8080/"
        },
        "id": "jbFBYMoQDXRR",
        "outputId": "9a8c7467-4f07-495d-bdfb-2cdc0d46e92d"
      },
      "outputs": [
        {
          "output_type": "execute_result",
          "data": {
            "text/plain": [
              "Index(['symboling', 'normalized-losses', 'make', 'fuel-type', 'aspiration',\n",
              "       'num-of-doors', 'body-style', 'drive-wheels', 'engine-location',\n",
              "       'wheel-base', 'length', 'width', 'height', 'curb-weight', 'engine-type',\n",
              "       'num-of-cylinders', 'engine-size', 'fuel-system', 'bore', 'stroke',\n",
              "       'compression-ratio', 'horsepower', 'peak-rpm', 'city-mpg',\n",
              "       'highway-mpg', 'price'],\n",
              "      dtype='object')"
            ]
          },
          "metadata": {},
          "execution_count": 9
        }
      ],
      "source": [
        "cols = data.columns\n",
        "cols"
      ]
    },
    {
      "cell_type": "code",
      "execution_count": 10,
      "metadata": {
        "colab": {
          "base_uri": "https://localhost:8080/"
        },
        "id": "k4eP5k30Dd6o",
        "outputId": "128f7957-7a63-48ca-cea6-ce09c9b725f3"
      },
      "outputs": [
        {
          "output_type": "stream",
          "name": "stdout",
          "text": [
            "symboling 6\n",
            "normalized-losses 52\n",
            "make 22\n",
            "fuel-type 2\n",
            "aspiration 2\n",
            "num-of-doors 3\n",
            "body-style 5\n",
            "drive-wheels 3\n",
            "engine-location 2\n",
            "wheel-base 53\n",
            "length 75\n",
            "width 44\n",
            "height 49\n",
            "curb-weight 171\n",
            "engine-type 7\n",
            "num-of-cylinders 7\n",
            "engine-size 44\n",
            "fuel-system 8\n",
            "bore 39\n",
            "stroke 37\n",
            "compression-ratio 32\n",
            "horsepower 60\n",
            "peak-rpm 24\n",
            "city-mpg 29\n",
            "highway-mpg 30\n",
            "price 187\n"
          ]
        }
      ],
      "source": [
        "for col in cols:\n",
        "  print(col, data[col].nunique())"
      ]
    },
    {
      "cell_type": "code",
      "execution_count": 11,
      "metadata": {
        "id": "4H8BRItx8yHU"
      },
      "outputs": [],
      "source": [
        "# we will seperate target feature\n",
        "X = data.iloc[:, :-1]\n",
        "y = data.iloc[:, -1]"
      ]
    },
    {
      "cell_type": "code",
      "execution_count": 12,
      "metadata": {
        "colab": {
          "base_uri": "https://localhost:8080/",
          "height": 386
        },
        "id": "e7V4DVHj9CLM",
        "outputId": "af0acbc4-dbf2-4c31-d112-c4e4b9c2eb9f"
      },
      "outputs": [
        {
          "output_type": "execute_result",
          "data": {
            "text/plain": [
              "   symboling normalized-losses         make fuel-type aspiration num-of-doors  \\\n",
              "0          3                 ?  alfa-romero       gas        std          two   \n",
              "1          3                 ?  alfa-romero       gas        std          two   \n",
              "2          1                 ?  alfa-romero       gas        std          two   \n",
              "3          2               164         audi       gas        std         four   \n",
              "4          2               164         audi       gas        std         four   \n",
              "\n",
              "    body-style drive-wheels engine-location  wheel-base  ...  \\\n",
              "0  convertible          rwd           front        88.6  ...   \n",
              "1  convertible          rwd           front        88.6  ...   \n",
              "2    hatchback          rwd           front        94.5  ...   \n",
              "3        sedan          fwd           front        99.8  ...   \n",
              "4        sedan          4wd           front        99.4  ...   \n",
              "\n",
              "   num-of-cylinders  engine-size  fuel-system  bore stroke compression-ratio  \\\n",
              "0              four          130         mpfi  3.47   2.68               9.0   \n",
              "1              four          130         mpfi  3.47   2.68               9.0   \n",
              "2               six          152         mpfi  2.68   3.47               9.0   \n",
              "3              four          109         mpfi  3.19    3.4              10.0   \n",
              "4              five          136         mpfi  3.19    3.4               8.0   \n",
              "\n",
              "   horsepower peak-rpm city-mpg highway-mpg  \n",
              "0         111     5000       21          27  \n",
              "1         111     5000       21          27  \n",
              "2         154     5000       19          26  \n",
              "3         102     5500       24          30  \n",
              "4         115     5500       18          22  \n",
              "\n",
              "[5 rows x 25 columns]"
            ],
            "text/html": [
              "\n",
              "  <div id=\"df-041b7096-d06c-415e-a0d1-80d08d6b9e89\">\n",
              "    <div class=\"colab-df-container\">\n",
              "      <div>\n",
              "<style scoped>\n",
              "    .dataframe tbody tr th:only-of-type {\n",
              "        vertical-align: middle;\n",
              "    }\n",
              "\n",
              "    .dataframe tbody tr th {\n",
              "        vertical-align: top;\n",
              "    }\n",
              "\n",
              "    .dataframe thead th {\n",
              "        text-align: right;\n",
              "    }\n",
              "</style>\n",
              "<table border=\"1\" class=\"dataframe\">\n",
              "  <thead>\n",
              "    <tr style=\"text-align: right;\">\n",
              "      <th></th>\n",
              "      <th>symboling</th>\n",
              "      <th>normalized-losses</th>\n",
              "      <th>make</th>\n",
              "      <th>fuel-type</th>\n",
              "      <th>aspiration</th>\n",
              "      <th>num-of-doors</th>\n",
              "      <th>body-style</th>\n",
              "      <th>drive-wheels</th>\n",
              "      <th>engine-location</th>\n",
              "      <th>wheel-base</th>\n",
              "      <th>...</th>\n",
              "      <th>num-of-cylinders</th>\n",
              "      <th>engine-size</th>\n",
              "      <th>fuel-system</th>\n",
              "      <th>bore</th>\n",
              "      <th>stroke</th>\n",
              "      <th>compression-ratio</th>\n",
              "      <th>horsepower</th>\n",
              "      <th>peak-rpm</th>\n",
              "      <th>city-mpg</th>\n",
              "      <th>highway-mpg</th>\n",
              "    </tr>\n",
              "  </thead>\n",
              "  <tbody>\n",
              "    <tr>\n",
              "      <th>0</th>\n",
              "      <td>3</td>\n",
              "      <td>?</td>\n",
              "      <td>alfa-romero</td>\n",
              "      <td>gas</td>\n",
              "      <td>std</td>\n",
              "      <td>two</td>\n",
              "      <td>convertible</td>\n",
              "      <td>rwd</td>\n",
              "      <td>front</td>\n",
              "      <td>88.6</td>\n",
              "      <td>...</td>\n",
              "      <td>four</td>\n",
              "      <td>130</td>\n",
              "      <td>mpfi</td>\n",
              "      <td>3.47</td>\n",
              "      <td>2.68</td>\n",
              "      <td>9.0</td>\n",
              "      <td>111</td>\n",
              "      <td>5000</td>\n",
              "      <td>21</td>\n",
              "      <td>27</td>\n",
              "    </tr>\n",
              "    <tr>\n",
              "      <th>1</th>\n",
              "      <td>3</td>\n",
              "      <td>?</td>\n",
              "      <td>alfa-romero</td>\n",
              "      <td>gas</td>\n",
              "      <td>std</td>\n",
              "      <td>two</td>\n",
              "      <td>convertible</td>\n",
              "      <td>rwd</td>\n",
              "      <td>front</td>\n",
              "      <td>88.6</td>\n",
              "      <td>...</td>\n",
              "      <td>four</td>\n",
              "      <td>130</td>\n",
              "      <td>mpfi</td>\n",
              "      <td>3.47</td>\n",
              "      <td>2.68</td>\n",
              "      <td>9.0</td>\n",
              "      <td>111</td>\n",
              "      <td>5000</td>\n",
              "      <td>21</td>\n",
              "      <td>27</td>\n",
              "    </tr>\n",
              "    <tr>\n",
              "      <th>2</th>\n",
              "      <td>1</td>\n",
              "      <td>?</td>\n",
              "      <td>alfa-romero</td>\n",
              "      <td>gas</td>\n",
              "      <td>std</td>\n",
              "      <td>two</td>\n",
              "      <td>hatchback</td>\n",
              "      <td>rwd</td>\n",
              "      <td>front</td>\n",
              "      <td>94.5</td>\n",
              "      <td>...</td>\n",
              "      <td>six</td>\n",
              "      <td>152</td>\n",
              "      <td>mpfi</td>\n",
              "      <td>2.68</td>\n",
              "      <td>3.47</td>\n",
              "      <td>9.0</td>\n",
              "      <td>154</td>\n",
              "      <td>5000</td>\n",
              "      <td>19</td>\n",
              "      <td>26</td>\n",
              "    </tr>\n",
              "    <tr>\n",
              "      <th>3</th>\n",
              "      <td>2</td>\n",
              "      <td>164</td>\n",
              "      <td>audi</td>\n",
              "      <td>gas</td>\n",
              "      <td>std</td>\n",
              "      <td>four</td>\n",
              "      <td>sedan</td>\n",
              "      <td>fwd</td>\n",
              "      <td>front</td>\n",
              "      <td>99.8</td>\n",
              "      <td>...</td>\n",
              "      <td>four</td>\n",
              "      <td>109</td>\n",
              "      <td>mpfi</td>\n",
              "      <td>3.19</td>\n",
              "      <td>3.4</td>\n",
              "      <td>10.0</td>\n",
              "      <td>102</td>\n",
              "      <td>5500</td>\n",
              "      <td>24</td>\n",
              "      <td>30</td>\n",
              "    </tr>\n",
              "    <tr>\n",
              "      <th>4</th>\n",
              "      <td>2</td>\n",
              "      <td>164</td>\n",
              "      <td>audi</td>\n",
              "      <td>gas</td>\n",
              "      <td>std</td>\n",
              "      <td>four</td>\n",
              "      <td>sedan</td>\n",
              "      <td>4wd</td>\n",
              "      <td>front</td>\n",
              "      <td>99.4</td>\n",
              "      <td>...</td>\n",
              "      <td>five</td>\n",
              "      <td>136</td>\n",
              "      <td>mpfi</td>\n",
              "      <td>3.19</td>\n",
              "      <td>3.4</td>\n",
              "      <td>8.0</td>\n",
              "      <td>115</td>\n",
              "      <td>5500</td>\n",
              "      <td>18</td>\n",
              "      <td>22</td>\n",
              "    </tr>\n",
              "  </tbody>\n",
              "</table>\n",
              "<p>5 rows × 25 columns</p>\n",
              "</div>\n",
              "      <button class=\"colab-df-convert\" onclick=\"convertToInteractive('df-041b7096-d06c-415e-a0d1-80d08d6b9e89')\"\n",
              "              title=\"Convert this dataframe to an interactive table.\"\n",
              "              style=\"display:none;\">\n",
              "        \n",
              "  <svg xmlns=\"http://www.w3.org/2000/svg\" height=\"24px\"viewBox=\"0 0 24 24\"\n",
              "       width=\"24px\">\n",
              "    <path d=\"M0 0h24v24H0V0z\" fill=\"none\"/>\n",
              "    <path d=\"M18.56 5.44l.94 2.06.94-2.06 2.06-.94-2.06-.94-.94-2.06-.94 2.06-2.06.94zm-11 1L8.5 8.5l.94-2.06 2.06-.94-2.06-.94L8.5 2.5l-.94 2.06-2.06.94zm10 10l.94 2.06.94-2.06 2.06-.94-2.06-.94-.94-2.06-.94 2.06-2.06.94z\"/><path d=\"M17.41 7.96l-1.37-1.37c-.4-.4-.92-.59-1.43-.59-.52 0-1.04.2-1.43.59L10.3 9.45l-7.72 7.72c-.78.78-.78 2.05 0 2.83L4 21.41c.39.39.9.59 1.41.59.51 0 1.02-.2 1.41-.59l7.78-7.78 2.81-2.81c.8-.78.8-2.07 0-2.86zM5.41 20L4 18.59l7.72-7.72 1.47 1.35L5.41 20z\"/>\n",
              "  </svg>\n",
              "      </button>\n",
              "      \n",
              "  <style>\n",
              "    .colab-df-container {\n",
              "      display:flex;\n",
              "      flex-wrap:wrap;\n",
              "      gap: 12px;\n",
              "    }\n",
              "\n",
              "    .colab-df-convert {\n",
              "      background-color: #E8F0FE;\n",
              "      border: none;\n",
              "      border-radius: 50%;\n",
              "      cursor: pointer;\n",
              "      display: none;\n",
              "      fill: #1967D2;\n",
              "      height: 32px;\n",
              "      padding: 0 0 0 0;\n",
              "      width: 32px;\n",
              "    }\n",
              "\n",
              "    .colab-df-convert:hover {\n",
              "      background-color: #E2EBFA;\n",
              "      box-shadow: 0px 1px 2px rgba(60, 64, 67, 0.3), 0px 1px 3px 1px rgba(60, 64, 67, 0.15);\n",
              "      fill: #174EA6;\n",
              "    }\n",
              "\n",
              "    [theme=dark] .colab-df-convert {\n",
              "      background-color: #3B4455;\n",
              "      fill: #D2E3FC;\n",
              "    }\n",
              "\n",
              "    [theme=dark] .colab-df-convert:hover {\n",
              "      background-color: #434B5C;\n",
              "      box-shadow: 0px 1px 3px 1px rgba(0, 0, 0, 0.15);\n",
              "      filter: drop-shadow(0px 1px 2px rgba(0, 0, 0, 0.3));\n",
              "      fill: #FFFFFF;\n",
              "    }\n",
              "  </style>\n",
              "\n",
              "      <script>\n",
              "        const buttonEl =\n",
              "          document.querySelector('#df-041b7096-d06c-415e-a0d1-80d08d6b9e89 button.colab-df-convert');\n",
              "        buttonEl.style.display =\n",
              "          google.colab.kernel.accessAllowed ? 'block' : 'none';\n",
              "\n",
              "        async function convertToInteractive(key) {\n",
              "          const element = document.querySelector('#df-041b7096-d06c-415e-a0d1-80d08d6b9e89');\n",
              "          const dataTable =\n",
              "            await google.colab.kernel.invokeFunction('convertToInteractive',\n",
              "                                                     [key], {});\n",
              "          if (!dataTable) return;\n",
              "\n",
              "          const docLinkHtml = 'Like what you see? Visit the ' +\n",
              "            '<a target=\"_blank\" href=https://colab.research.google.com/notebooks/data_table.ipynb>data table notebook</a>'\n",
              "            + ' to learn more about interactive tables.';\n",
              "          element.innerHTML = '';\n",
              "          dataTable['output_type'] = 'display_data';\n",
              "          await google.colab.output.renderOutput(dataTable, element);\n",
              "          const docLink = document.createElement('div');\n",
              "          docLink.innerHTML = docLinkHtml;\n",
              "          element.appendChild(docLink);\n",
              "        }\n",
              "      </script>\n",
              "    </div>\n",
              "  </div>\n",
              "  "
            ]
          },
          "metadata": {},
          "execution_count": 12
        }
      ],
      "source": [
        "X.head()"
      ]
    },
    {
      "cell_type": "code",
      "execution_count": 13,
      "metadata": {
        "colab": {
          "base_uri": "https://localhost:8080/"
        },
        "id": "lxDG1vaD9G3M",
        "outputId": "61e9f007-6bcd-4479-bcaa-2f82a280af08"
      },
      "outputs": [
        {
          "output_type": "execute_result",
          "data": {
            "text/plain": [
              "0    13495\n",
              "1    16500\n",
              "2    16500\n",
              "3    13950\n",
              "4    17450\n",
              "Name: price, dtype: object"
            ]
          },
          "metadata": {},
          "execution_count": 13
        }
      ],
      "source": [
        "y.head()"
      ]
    },
    {
      "cell_type": "code",
      "execution_count": 14,
      "metadata": {
        "colab": {
          "base_uri": "https://localhost:8080/"
        },
        "id": "BXvOJYTq9KtZ",
        "outputId": "90c91303-eff7-4294-e174-41db1228f8dc"
      },
      "outputs": [
        {
          "output_type": "execute_result",
          "data": {
            "text/plain": [
              "(205, 25)"
            ]
          },
          "metadata": {},
          "execution_count": 14
        }
      ],
      "source": [
        "X.shape"
      ]
    },
    {
      "cell_type": "code",
      "execution_count": 15,
      "metadata": {
        "colab": {
          "base_uri": "https://localhost:8080/"
        },
        "id": "HNBGJYoN9Mr3",
        "outputId": "02538930-d724-4b20-d987-fc801de67041"
      },
      "outputs": [
        {
          "output_type": "execute_result",
          "data": {
            "text/plain": [
              "(205,)"
            ]
          },
          "metadata": {},
          "execution_count": 15
        }
      ],
      "source": [
        "y.shape"
      ]
    },
    {
      "cell_type": "code",
      "execution_count": 16,
      "metadata": {
        "id": "QSzlRWNc9Pjw"
      },
      "outputs": [],
      "source": [
        "from sklearn.model_selection import train_test_split\n",
        "X_train, X_test, y_train, y_test = train_test_split(X, y, test_size = 0.2, random_state = 0)"
      ]
    },
    {
      "cell_type": "code",
      "execution_count": 17,
      "metadata": {
        "colab": {
          "base_uri": "https://localhost:8080/"
        },
        "id": "_CORYfBj-rU5",
        "outputId": "6751d509-30b3-4071-9c87-b2e8e83a47b8"
      },
      "outputs": [
        {
          "output_type": "execute_result",
          "data": {
            "text/plain": [
              "(164, 25)"
            ]
          },
          "metadata": {},
          "execution_count": 17
        }
      ],
      "source": [
        "X_train.shape"
      ]
    },
    {
      "cell_type": "code",
      "execution_count": 18,
      "metadata": {
        "colab": {
          "base_uri": "https://localhost:8080/"
        },
        "id": "gGiMaDJtBBcw",
        "outputId": "a665e3cc-dd40-4922-cecf-6bac3c67ac99"
      },
      "outputs": [
        {
          "output_type": "execute_result",
          "data": {
            "text/plain": [
              "symboling            0\n",
              "normalized-losses    0\n",
              "make                 0\n",
              "fuel-type            0\n",
              "aspiration           0\n",
              "num-of-doors         0\n",
              "body-style           0\n",
              "drive-wheels         0\n",
              "engine-location      0\n",
              "wheel-base           0\n",
              "length               0\n",
              "width                0\n",
              "height               0\n",
              "curb-weight          0\n",
              "engine-type          0\n",
              "num-of-cylinders     0\n",
              "engine-size          0\n",
              "fuel-system          0\n",
              "bore                 0\n",
              "stroke               0\n",
              "compression-ratio    0\n",
              "horsepower           0\n",
              "peak-rpm             0\n",
              "city-mpg             0\n",
              "highway-mpg          0\n",
              "dtype: int64"
            ]
          },
          "metadata": {},
          "execution_count": 18
        }
      ],
      "source": [
        "X_train.isnull().sum()"
      ]
    },
    {
      "cell_type": "code",
      "execution_count": 19,
      "metadata": {
        "colab": {
          "base_uri": "https://localhost:8080/"
        },
        "id": "b7iNwMo_VdHJ",
        "outputId": "2fcc38be-519d-4e45-ef7e-16b312f970ef"
      },
      "outputs": [
        {
          "output_type": "execute_result",
          "data": {
            "text/plain": [
              "symboling            0\n",
              "normalized-losses    0\n",
              "make                 0\n",
              "fuel-type            0\n",
              "aspiration           0\n",
              "num-of-doors         0\n",
              "body-style           0\n",
              "drive-wheels         0\n",
              "engine-location      0\n",
              "wheel-base           0\n",
              "length               0\n",
              "width                0\n",
              "height               0\n",
              "curb-weight          0\n",
              "engine-type          0\n",
              "num-of-cylinders     0\n",
              "engine-size          0\n",
              "fuel-system          0\n",
              "bore                 0\n",
              "stroke               0\n",
              "compression-ratio    0\n",
              "horsepower           0\n",
              "peak-rpm             0\n",
              "city-mpg             0\n",
              "highway-mpg          0\n",
              "dtype: int64"
            ]
          },
          "metadata": {},
          "execution_count": 19
        }
      ],
      "source": [
        "X_train.isnull().sum()"
      ]
    },
    {
      "cell_type": "code",
      "execution_count": 20,
      "metadata": {
        "colab": {
          "base_uri": "https://localhost:8080/"
        },
        "id": "-vwkcKrdCWwR",
        "outputId": "d9978af5-700d-499b-8c35-2dcb39fb7563"
      },
      "outputs": [
        {
          "output_type": "execute_result",
          "data": {
            "text/plain": [
              "symboling              int64\n",
              "normalized-losses     object\n",
              "make                  object\n",
              "fuel-type             object\n",
              "aspiration            object\n",
              "num-of-doors          object\n",
              "body-style            object\n",
              "drive-wheels          object\n",
              "engine-location       object\n",
              "wheel-base           float64\n",
              "length               float64\n",
              "width                float64\n",
              "height               float64\n",
              "curb-weight            int64\n",
              "engine-type           object\n",
              "num-of-cylinders      object\n",
              "engine-size            int64\n",
              "fuel-system           object\n",
              "bore                  object\n",
              "stroke                object\n",
              "compression-ratio    float64\n",
              "horsepower            object\n",
              "peak-rpm              object\n",
              "city-mpg               int64\n",
              "highway-mpg            int64\n",
              "dtype: object"
            ]
          },
          "metadata": {},
          "execution_count": 20
        }
      ],
      "source": [
        "X_train.dtypes"
      ]
    },
    {
      "cell_type": "code",
      "execution_count": 21,
      "metadata": {
        "id": "4XO8ald3vXFl"
      },
      "outputs": [],
      "source": [
        "X_train.reset_index(drop = True, inplace = True)\n",
        "X_test.reset_index(drop = True, inplace = True)"
      ]
    },
    {
      "cell_type": "markdown",
      "metadata": {
        "id": "R8F0ypCWEpp0"
      },
      "source": [
        "# Unique value check"
      ]
    },
    {
      "cell_type": "code",
      "execution_count": 22,
      "metadata": {
        "colab": {
          "base_uri": "https://localhost:8080/"
        },
        "id": "vLbfNzvQEFgG",
        "outputId": "07f8b867-273b-4fb9-bf17-830bbd508ed0"
      },
      "outputs": [
        {
          "output_type": "execute_result",
          "data": {
            "text/plain": [
              "array([ 2, -1,  3,  0,  1, -2])"
            ]
          },
          "metadata": {},
          "execution_count": 22
        }
      ],
      "source": [
        "X_train['symboling'].unique()"
      ]
    },
    {
      "cell_type": "code",
      "execution_count": 23,
      "metadata": {
        "colab": {
          "base_uri": "https://localhost:8080/"
        },
        "id": "Y3ck07g2D52u",
        "outputId": "ded6b54a-838a-43db-fad5-a9286b6906f2"
      },
      "outputs": [
        {
          "output_type": "execute_result",
          "data": {
            "text/plain": [
              "array(['164', '?', '150', '102', '154', '148', '85', '94', '158', '128',\n",
              "       '168', '129', '231', '103', '137', '104', '115', '125', '98', '91',\n",
              "       '113', '83', '161', '122', '89', '197', '95', '74', '192', '87',\n",
              "       '119', '93', '188', '77', '118', '256', '81', '106', '65', '108',\n",
              "       '110', '107', '194', '101', '134', '90', '145', '142', '153', '78'],\n",
              "      dtype=object)"
            ]
          },
          "metadata": {},
          "execution_count": 23
        }
      ],
      "source": [
        "X_train['normalized-losses'].unique()"
      ]
    },
    {
      "cell_type": "code",
      "execution_count": 24,
      "metadata": {
        "colab": {
          "base_uri": "https://localhost:8080/"
        },
        "id": "x-11345LD1ee",
        "outputId": "215d208a-2767-4bb7-8ba2-ed5034559207"
      },
      "outputs": [
        {
          "output_type": "execute_result",
          "data": {
            "text/plain": [
              "array(['audi', 'mercedes-benz', 'saab', 'subaru', 'plymouth', 'dodge',\n",
              "       'mitsubishi', 'volkswagen', 'nissan', 'toyota', 'mazda', 'mercury',\n",
              "       'volvo', 'honda', 'chevrolet', 'peugot', 'bmw', 'porsche', 'isuzu',\n",
              "       'alfa-romero', 'jaguar'], dtype=object)"
            ]
          },
          "metadata": {},
          "execution_count": 24
        }
      ],
      "source": [
        "X_train['make'].unique()"
      ]
    },
    {
      "cell_type": "code",
      "execution_count": 25,
      "metadata": {
        "colab": {
          "base_uri": "https://localhost:8080/"
        },
        "id": "mWVujNubDx_l",
        "outputId": "6b199cc1-13c2-4102-a357-20aacdcaba1d"
      },
      "outputs": [
        {
          "output_type": "execute_result",
          "data": {
            "text/plain": [
              "array(['gas', 'diesel'], dtype=object)"
            ]
          },
          "metadata": {},
          "execution_count": 25
        }
      ],
      "source": [
        "X_train['fuel-type'].unique()"
      ]
    },
    {
      "cell_type": "code",
      "execution_count": 26,
      "metadata": {
        "colab": {
          "base_uri": "https://localhost:8080/"
        },
        "id": "GeR34jH1R7aP",
        "outputId": "a96b1e0a-05fc-44a4-d3c7-805f661e0c82"
      },
      "outputs": [
        {
          "output_type": "execute_result",
          "data": {
            "text/plain": [
              "array(['std', 'turbo'], dtype=object)"
            ]
          },
          "metadata": {},
          "execution_count": 26
        }
      ],
      "source": [
        "X_train['aspiration'].unique()"
      ]
    },
    {
      "cell_type": "code",
      "execution_count": 27,
      "metadata": {
        "colab": {
          "base_uri": "https://localhost:8080/"
        },
        "id": "TEGB7EOzSNZQ",
        "outputId": "468347c7-bf93-4469-ddfc-23c066407ab5"
      },
      "outputs": [
        {
          "output_type": "execute_result",
          "data": {
            "text/plain": [
              "array(['four', 'two', '?'], dtype=object)"
            ]
          },
          "metadata": {},
          "execution_count": 27
        }
      ],
      "source": [
        "X_train['num-of-doors'].unique()"
      ]
    },
    {
      "cell_type": "code",
      "execution_count": 28,
      "metadata": {
        "colab": {
          "base_uri": "https://localhost:8080/"
        },
        "id": "wG9-yzL-SfJH",
        "outputId": "23042eda-410c-48d9-d343-6badfd93c0bc"
      },
      "outputs": [
        {
          "output_type": "execute_result",
          "data": {
            "text/plain": [
              "array(['sedan', 'hatchback', 'wagon', 'hardtop', 'convertible'],\n",
              "      dtype=object)"
            ]
          },
          "metadata": {},
          "execution_count": 28
        }
      ],
      "source": [
        "X_train['body-style'].unique()"
      ]
    },
    {
      "cell_type": "code",
      "execution_count": 29,
      "metadata": {
        "colab": {
          "base_uri": "https://localhost:8080/"
        },
        "id": "hTQzrvGbSpe4",
        "outputId": "5be8affc-af01-4562-d27c-4f647a83db8f"
      },
      "outputs": [
        {
          "output_type": "execute_result",
          "data": {
            "text/plain": [
              "array(['4wd', 'rwd', 'fwd'], dtype=object)"
            ]
          },
          "metadata": {},
          "execution_count": 29
        }
      ],
      "source": [
        "X_train['drive-wheels'].unique()"
      ]
    },
    {
      "cell_type": "code",
      "execution_count": 30,
      "metadata": {
        "colab": {
          "base_uri": "https://localhost:8080/"
        },
        "id": "gR5m4O5ISykt",
        "outputId": "b12e9a12-d498-418a-afc7-24356441c51d"
      },
      "outputs": [
        {
          "output_type": "execute_result",
          "data": {
            "text/plain": [
              "array(['front', 'rear'], dtype=object)"
            ]
          },
          "metadata": {},
          "execution_count": 30
        }
      ],
      "source": [
        "X_train['engine-location'].unique()"
      ]
    },
    {
      "cell_type": "code",
      "execution_count": 31,
      "metadata": {
        "colab": {
          "base_uri": "https://localhost:8080/"
        },
        "id": "3Jh2VKlCS7KN",
        "outputId": "7144289d-e654-436a-e6a1-b59d1d6cb13b"
      },
      "outputs": [
        {
          "output_type": "execute_result",
          "data": {
            "text/plain": [
              "array([ 99.4, 115.6,  99.1,  97. ,  93.7,  95.9,  96.9,  97.3, 105.8,\n",
              "        94.5,  98.8, 102.7,  99.2, 104.3,  97.2,  86.6,  96.5,  95.3,\n",
              "       100.4,  96.3,  95.7,  93.1, 107.9, 114.2, 102.9, 103.5,  89.5,\n",
              "        96. , 109.1, 103.3,  94.3, 101.2, 120.9,  95.1,  99.8,  88.6,\n",
              "       106.7, 102. , 113. , 110. , 102.4, 104.9,  91.3,  98.4, 104.5,\n",
              "        93. ,  96.6,  93.3,  99.5, 108. ])"
            ]
          },
          "metadata": {},
          "execution_count": 31
        }
      ],
      "source": [
        "X_train['wheel-base'].unique()"
      ]
    },
    {
      "cell_type": "code",
      "execution_count": 32,
      "metadata": {
        "colab": {
          "base_uri": "https://localhost:8080/"
        },
        "id": "_jBtTbiKTGPv",
        "outputId": "45e9ad50-0b7d-4074-c3bf-322c5c4f74c9"
      },
      "outputs": [
        {
          "output_type": "execute_result",
          "data": {
            "text/plain": [
              "array([176.6, 202.6, 186.6, 172. , 167.3, 157.3, 173.2, 173.6, 171.7,\n",
              "       192.7, 165.3, 168.7, 177.8, 178.4, 178.5, 188.8, 144.6, 175.4,\n",
              "       169. , 181.7, 172.4, 155.9, 169.7, 170.2, 166.8, 159.1, 157.9,\n",
              "       186.7, 173.5, 198.9, 183.5, 189. , 168.9, 172.6, 180.2, 166.3,\n",
              "       171.2, 174.6, 170.7, 176.8, 208.1, 158.7, 162.4, 168.8, 165.6,\n",
              "       187.5, 191.7, 199.6, 165.7, 158.8, 173.4, 190.9, 175.6, 184.6,\n",
              "       163.4, 175. , 169.1, 197. , 167.5, 150. , 176.2, 187.8, 180.3,\n",
              "       173. , 157.1, 178.2])"
            ]
          },
          "metadata": {},
          "execution_count": 32
        }
      ],
      "source": [
        "X_train['length'].unique()"
      ]
    },
    {
      "cell_type": "code",
      "execution_count": 33,
      "metadata": {
        "colab": {
          "base_uri": "https://localhost:8080/"
        },
        "id": "QeEwrQrATOBJ",
        "outputId": "257a0092-3bda-451d-927e-c7433f06d83c"
      },
      "outputs": [
        {
          "output_type": "execute_result",
          "data": {
            "text/plain": [
              "array([66.4, 71.7, 66.5, 65.4, 63.8, 66.3, 65.5, 71.4, 64. , 68. , 67.9,\n",
              "       67.2, 63.9, 62.5, 65.7, 63.6, 64.2, 68.4, 67.7, 66.9, 65. , 65.2,\n",
              "       68.9, 64.4, 64.6, 61.8, 64.8, 66.2, 64.1, 70.3, 70.6, 69.6, 66.1,\n",
              "       66. , 70.9, 65.6, 70.5, 68.8, 68.3])"
            ]
          },
          "metadata": {},
          "execution_count": 33
        }
      ],
      "source": [
        "X_train['width'].unique()"
      ]
    },
    {
      "cell_type": "code",
      "execution_count": 34,
      "metadata": {
        "colab": {
          "base_uri": "https://localhost:8080/"
        },
        "id": "TuQ6E5aCTWoW",
        "outputId": "c2d456e4-b646-47dc-89da-cb20d55ad8cc"
      },
      "outputs": [
        {
          "output_type": "execute_result",
          "data": {
            "text/plain": [
              "array([54.3, 56.5, 56.1, 50.8, 50.6, 50.2, 54.9, 55.7, 55.9, 54.5, 52.6,\n",
              "       53.7, 54.8, 49.7, 55.5, 56.2, 52.5, 54.1, 49.6, 55.1, 51.6, 52. ,\n",
              "       59.1, 53.5, 56.7, 53. , 58.7, 51.4, 52.8, 52.4, 59.8, 53.3, 57.5,\n",
              "       48.8, 47.8, 54.7, 54.4, 51. , 53.9, 56.3, 49.4, 58.3, 56. ])"
            ]
          },
          "metadata": {},
          "execution_count": 34
        }
      ],
      "source": [
        "X_train['height'].unique()"
      ]
    },
    {
      "cell_type": "code",
      "execution_count": 35,
      "metadata": {
        "colab": {
          "base_uri": "https://localhost:8080/"
        },
        "id": "AADSpE01Tek_",
        "outputId": "de1ae995-d0bf-431f-b78d-c539da5dc3c7"
      },
      "outputs": [
        {
          "output_type": "execute_result",
          "data": {
            "text/plain": [
              "array([2824, 3740, 2707, 2510, 2191, 1989, 2921, 2650, 2275, 3086, 2017,\n",
              "       2169, 2385, 2910, 3139, 2443, 3045, 2340, 1967, 1713, 2758, 2372,\n",
              "       2410, 2380, 3095, 2405, 1874, 3110, 2037, 1950, 2264, 1900, 2120,\n",
              "       2145, 3252, 1971, 3020, 2290, 3430, 2976, 3055, 3197, 2212, 2756,\n",
              "       2734, 2661, 2952, 2140, 2823, 2535, 2818, 2337, 2395, 3230, 3900,\n",
              "       2935, 2261, 1985, 2008, 2024, 1918, 2094, 3157, 1890, 2548, 1951,\n",
              "       2028, 2425, 2465, 3495, 3950, 4066, 2365, 3012, 2765, 2280, 2128,\n",
              "       2221, 2847, 1909, 2004, 2302, 2300, 3217, 2844, 3750, 2926, 2109,\n",
              "       2319, 2414, 3296, 2010, 2670, 2204, 2293, 2658, 2458, 3505, 2289,\n",
              "       2695, 1945, 2800, 1956, 3485, 2040, 1819, 2536, 3131, 1837, 2540,\n",
              "       2190, 3062, 2455, 2811, 2324, 2833, 3075, 2420, 3042, 3685, 1944,\n",
              "       2265, 2328, 3049, 2480, 2912, 2304, 2500, 2240, 2403, 3770, 1876,\n",
              "       3053, 3060, 3034, 3515, 2579, 3130, 2975])"
            ]
          },
          "metadata": {},
          "execution_count": 35
        }
      ],
      "source": [
        "X_train['curb-weight'].unique()"
      ]
    },
    {
      "cell_type": "code",
      "execution_count": 36,
      "metadata": {
        "colab": {
          "base_uri": "https://localhost:8080/"
        },
        "id": "z_ZMAuejTlV-",
        "outputId": "4bb9455a-f11b-4ea2-d6da-d10a3d955ea8"
      },
      "outputs": [
        {
          "output_type": "execute_result",
          "data": {
            "text/plain": [
              "array(['ohc', 'ohcv', 'ohcf', 'rotor', 'l', 'dohc'], dtype=object)"
            ]
          },
          "metadata": {},
          "execution_count": 36
        }
      ],
      "source": [
        "X_train['engine-type'].unique()"
      ]
    },
    {
      "cell_type": "code",
      "execution_count": 37,
      "metadata": {
        "colab": {
          "base_uri": "https://localhost:8080/"
        },
        "id": "gFO517MRTvkv",
        "outputId": "e83345fc-341f-4363-995f-128071be6949"
      },
      "outputs": [
        {
          "output_type": "execute_result",
          "data": {
            "text/plain": [
              "array(['five', 'eight', 'four', 'six', 'two', 'twelve'], dtype=object)"
            ]
          },
          "metadata": {},
          "execution_count": 37
        }
      ],
      "source": [
        "X_train['num-of-cylinders'].unique()"
      ]
    },
    {
      "cell_type": "code",
      "execution_count": 38,
      "metadata": {
        "colab": {
          "base_uri": "https://localhost:8080/"
        },
        "id": "PziP6aPuT82q",
        "outputId": "f62142ca-040a-4379-ad9b-ccc4c563add6"
      },
      "outputs": [
        {
          "output_type": "execute_result",
          "data": {
            "text/plain": [
              "array([136, 234, 121, 108,  98,  90, 156, 109, 131, 103, 122, 140, 181,\n",
              "       130,  92, 110,  70,  97,  91, 152, 120, 171, 164, 194, 119, 141,\n",
              "       111, 308, 183, 326, 258, 173, 209, 145, 146,  79,  80, 134])"
            ]
          },
          "metadata": {},
          "execution_count": 38
        }
      ],
      "source": [
        "X_train['engine-size'].unique()"
      ]
    },
    {
      "cell_type": "code",
      "execution_count": 39,
      "metadata": {
        "colab": {
          "base_uri": "https://localhost:8080/"
        },
        "id": "V-tPEM7lUGl0",
        "outputId": "65c1360e-aa7e-4a84-9f0d-5c52abfb9211"
      },
      "outputs": [
        {
          "output_type": "execute_result",
          "data": {
            "text/plain": [
              "array(['mpfi', '2bbl', 'spdi', 'idi', '1bbl', '4bbl', 'spfi', 'mfi'],\n",
              "      dtype=object)"
            ]
          },
          "metadata": {},
          "execution_count": 39
        }
      ],
      "source": [
        "X_train['fuel-system'].unique()"
      ]
    },
    {
      "cell_type": "code",
      "execution_count": 40,
      "metadata": {
        "colab": {
          "base_uri": "https://localhost:8080/"
        },
        "id": "CZPX-6NKUPnl",
        "outputId": "ba5ea4a2-e3e0-49a4-b48c-d605358d8045"
      },
      "outputs": [
        {
          "output_type": "execute_result",
          "data": {
            "text/plain": [
              "array(['3.19', '3.46', '2.54', '3.62', '2.97', '3.59', '3.13', '2.99',\n",
              "       '3.39', '3.78', '3.43', '2.91', '3.54', '3.15', '?', '3.35',\n",
              "       '3.03', '3.05', '3.08', '3.01', '3.7', '3.27', '3.31', '3.74',\n",
              "       '2.68', '3.5', '3.8', '3.47', '3.58', '3.63', '3.33', '3.24',\n",
              "       '3.76', '3.34', '3.6', '3.17', '2.92', '3.61'], dtype=object)"
            ]
          },
          "metadata": {},
          "execution_count": 40
        }
      ],
      "source": [
        "X_train['bore'].unique()"
      ]
    },
    {
      "cell_type": "code",
      "execution_count": 41,
      "metadata": {
        "colab": {
          "base_uri": "https://localhost:8080/"
        },
        "id": "MGYi45oVUgqk",
        "outputId": "578a7a0e-44f0-44a9-ea7e-9e44382083bf"
      },
      "outputs": [
        {
          "output_type": "execute_result",
          "data": {
            "text/plain": [
              "array(['3.4', '3.1', '2.07', '2.64', '3.23', '3.86', '3.47', '3.03',\n",
              "       '3.39', '3.12', '3.27', '3.15', '3.41', '3.07', '3.58', '?',\n",
              "       '3.46', '3.11', '3.29', '3.52', '3.19', '3.35', '2.9', '2.8',\n",
              "       '2.68', '3.64', '2.76', '4.17', '2.87', '3.08', '3.54', '3.16',\n",
              "       '3.5', '3.9', '3.21'], dtype=object)"
            ]
          },
          "metadata": {},
          "execution_count": 41
        }
      ],
      "source": [
        "X_train['stroke'].unique()"
      ]
    },
    {
      "cell_type": "code",
      "execution_count": 42,
      "metadata": {
        "colab": {
          "base_uri": "https://localhost:8080/"
        },
        "id": "DE7MBtkvUnyo",
        "outputId": "2cea4500-9ff4-4b9a-a594-fd91f9949a21"
      },
      "outputs": [
        {
          "output_type": "execute_result",
          "data": {
            "text/plain": [
              "array([ 8.  ,  8.3 ,  9.3 ,  7.7 ,  9.4 ,  7.  ,  9.  , 21.9 ,  8.6 ,\n",
              "       22.7 ,  7.5 ,  9.6 ,  8.5 , 23.  ,  8.7 ,  9.5 , 21.  ,  8.4 ,\n",
              "        7.6 ,  9.2 ,  8.8 , 10.  , 21.5 , 11.5 ,  8.1 , 22.5 ,  9.1 ,\n",
              "        7.8 ,  9.31, 10.1 ,  9.41])"
            ]
          },
          "metadata": {},
          "execution_count": 42
        }
      ],
      "source": [
        "X_train['compression-ratio'].unique()"
      ]
    },
    {
      "cell_type": "code",
      "execution_count": 43,
      "metadata": {
        "colab": {
          "base_uri": "https://localhost:8080/"
        },
        "id": "T3r_UIbGUvDm",
        "outputId": "a1e8ce65-8d5b-435f-87d8-d1e2d6a6e6a2"
      },
      "outputs": [
        {
          "output_type": "execute_result",
          "data": {
            "text/plain": [
              "array(['115', '155', '110', '111', '68', '145', '85', '140', '55', '70',\n",
              "       '84', '175', '160', '64', '162', '94', '58', '86', '101', '152',\n",
              "       '88', '62', '69', '52', '73', '82', '95', '97', '161', '121',\n",
              "       '102', '207', '90', '114', '154', '78', '184', '123', '262', '176',\n",
              "       '134', '182', '112', '106', '56', '92', '76', '120', '100', '200',\n",
              "       '116', '156', '60', '135', '142'], dtype=object)"
            ]
          },
          "metadata": {},
          "execution_count": 43
        }
      ],
      "source": [
        "X_train['horsepower'].unique()"
      ]
    },
    {
      "cell_type": "code",
      "execution_count": 44,
      "metadata": {
        "colab": {
          "base_uri": "https://localhost:8080/"
        },
        "id": "vhckykSxU2ly",
        "outputId": "83160245-1d54-4996-cfcf-841baa4acb5c"
      },
      "outputs": [
        {
          "output_type": "execute_result",
          "data": {
            "text/plain": [
              "array(['5500', '4750', '5250', '4800', '5000', '5200', '4650', '5100',\n",
              "       '5800', '6000', '5400', '4400', '4150', '4250', '5900', '4500',\n",
              "       '4350', '6600', '4200', '5300', '5600'], dtype=object)"
            ]
          },
          "metadata": {},
          "execution_count": 44
        }
      ],
      "source": [
        "X_train['peak-rpm'].unique()"
      ]
    },
    {
      "cell_type": "code",
      "execution_count": 45,
      "metadata": {
        "colab": {
          "base_uri": "https://localhost:8080/"
        },
        "id": "CHhfcMAOU-gW",
        "outputId": "399d8e6b-9d90-4c95-fe61-e44710099ec2"
      },
      "outputs": [
        {
          "output_type": "execute_result",
          "data": {
            "text/plain": [
              "array([18, 16, 21, 24, 31, 19, 23, 27, 17, 45, 29, 26, 36, 49, 25, 38, 37,\n",
              "       32, 28, 20, 14, 35, 30, 22, 13, 15, 34, 33])"
            ]
          },
          "metadata": {},
          "execution_count": 45
        }
      ],
      "source": [
        "X_train['city-mpg'].unique()"
      ]
    },
    {
      "cell_type": "code",
      "execution_count": 46,
      "metadata": {
        "colab": {
          "base_uri": "https://localhost:8080/"
        },
        "id": "T4jCtv5GVED_",
        "outputId": "bfc5985e-badd-4a08-e63f-c43265c2d77a"
      },
      "outputs": [
        {
          "output_type": "execute_result",
          "data": {
            "text/plain": [
              "array([22, 18, 28, 29, 38, 24, 23, 34, 20, 50, 32, 25, 42, 54, 33, 43, 37,\n",
              "       46, 31, 30, 26, 16, 39, 41, 47, 27, 17, 19, 36])"
            ]
          },
          "metadata": {},
          "execution_count": 46
        }
      ],
      "source": [
        "X_train['highway-mpg'].unique()"
      ]
    },
    {
      "cell_type": "code",
      "execution_count": 47,
      "metadata": {
        "colab": {
          "base_uri": "https://localhost:8080/"
        },
        "id": "GAum_aNRzj84",
        "outputId": "6e7c195c-6fde-4cd9-c77a-4f8c95d07e8b"
      },
      "outputs": [
        {
          "output_type": "execute_result",
          "data": {
            "text/plain": [
              "array(['17450', '34184', '15040', '11259', '7609', '14869', '11694',\n",
              "       '8495', '23875', '7099', '8058', '10595', '16503', '18399',\n",
              "       '10795', '18420', '9960', '6229', '6479', '15510', '10295',\n",
              "       '11845', '13499', '8189', '6295', '8778', '7999', '7395', '7995',\n",
              "       '6095', '7053', '7126', '16900', '7499', '11900', '7463', '13860',\n",
              "       '16558', '24565', '8558', '13200', '8195', '32528', '11048',\n",
              "       '13295', '16845', '9258', '10245', '16500', '8845', '8921',\n",
              "       '12764', '6785', '16430', '12440', '40960', '15985', '7775',\n",
              "       '5348', '8249', '13950', '7349', '5572', '7738', '18950', '5195',\n",
              "       '13495', '7299', '17950', '7799', '11245', '9233', '12945',\n",
              "       '28176', '36000', '35550', '6989', '21485', '21105', '6918',\n",
              "       '7957', '9980', '18620', '6575', '30760', '6669', '9549', '9538',\n",
              "       '22470', '17710', '28248', '14489', '6692', '7198', '9495', '7898',\n",
              "       '6649', '10898', '16925', '14399', '7295', '13645', '18280',\n",
              "       '8238', '10345', '19699', '11850', '11248', '36880', '9095',\n",
              "       '12170', '6695', '7788', '37028', '7129', '17075', '6338', '6855',\n",
              "       '9639', '34028', '15690', '5399', '8449', '22625', '10198',\n",
              "       '12964', '8949', '12629', '9988', '7689', '16630', '8013', '16515',\n",
              "       '35056', '6189', '9298', '8499', '19045', '10698', '12940',\n",
              "       '15645', '7603', '9279', '31600', '?', '13415', '25552', '13845',\n",
              "       '18150', '32250', '17669'], dtype=object)"
            ]
          },
          "metadata": {},
          "execution_count": 47
        }
      ],
      "source": [
        "y_train.unique()"
      ]
    },
    {
      "cell_type": "markdown",
      "metadata": {
        "id": "NOvT_ctnSRot"
      },
      "source": [
        "\n",
        "\n",
        "---\n",
        "\n"
      ]
    },
    {
      "cell_type": "code",
      "execution_count": 48,
      "metadata": {
        "colab": {
          "base_uri": "https://localhost:8080/"
        },
        "id": "WeU0JN-4Qjpn",
        "outputId": "e35e1a1b-82a5-4bca-ba69-ebb0d78c23d4"
      },
      "outputs": [
        {
          "output_type": "execute_result",
          "data": {
            "text/plain": [
              "array([ 1, -1,  2,  0,  3])"
            ]
          },
          "metadata": {},
          "execution_count": 48
        }
      ],
      "source": [
        "X_test['symboling'].unique()"
      ]
    },
    {
      "cell_type": "code",
      "execution_count": 49,
      "metadata": {
        "colab": {
          "base_uri": "https://localhost:8080/"
        },
        "id": "TRlr1d_TQhCd",
        "outputId": "f3330731-1689-4da8-882e-69b628384a43"
      },
      "outputs": [
        {
          "output_type": "execute_result",
          "data": {
            "text/plain": [
              "array(['104', '?', '121', '94', '134', '161', '81', '194', '101', '188',\n",
              "       '150', '106', '74', '153', '197', '83', '91', '128', '122', '186',\n",
              "       '65', '118'], dtype=object)"
            ]
          },
          "metadata": {},
          "execution_count": 49
        }
      ],
      "source": [
        "X_test['normalized-losses'].unique()"
      ]
    },
    {
      "cell_type": "code",
      "execution_count": 50,
      "metadata": {
        "colab": {
          "base_uri": "https://localhost:8080/"
        },
        "id": "RYtI06hCQeX-",
        "outputId": "3e20d113-044c-457e-a549-ff6696f6491b"
      },
      "outputs": [
        {
          "output_type": "execute_result",
          "data": {
            "text/plain": [
              "array(['mazda', 'toyota', 'audi', 'chevrolet', 'volkswagen', 'mitsubishi',\n",
              "       'nissan', 'honda', 'bmw', 'porsche', 'isuzu', 'renault', 'peugot',\n",
              "       'subaru', 'saab', 'dodge', 'mercedes-benz'], dtype=object)"
            ]
          },
          "metadata": {},
          "execution_count": 50
        }
      ],
      "source": [
        "X_test['make'].unique()"
      ]
    },
    {
      "cell_type": "code",
      "execution_count": 51,
      "metadata": {
        "colab": {
          "base_uri": "https://localhost:8080/"
        },
        "id": "6wrW1TpfQbOW",
        "outputId": "21aa0782-aee0-4d47-d67a-450d5806d2a7"
      },
      "outputs": [
        {
          "output_type": "execute_result",
          "data": {
            "text/plain": [
              "array(['gas', 'diesel'], dtype=object)"
            ]
          },
          "metadata": {},
          "execution_count": 51
        }
      ],
      "source": [
        "X_test['fuel-type'].unique()"
      ]
    },
    {
      "cell_type": "code",
      "execution_count": 52,
      "metadata": {
        "colab": {
          "base_uri": "https://localhost:8080/"
        },
        "id": "mMQG15s9SC2H",
        "outputId": "2299faea-426d-4def-939a-c405816a58cb"
      },
      "outputs": [
        {
          "output_type": "execute_result",
          "data": {
            "text/plain": [
              "array(['std', 'turbo'], dtype=object)"
            ]
          },
          "metadata": {},
          "execution_count": 52
        }
      ],
      "source": [
        "X_test['aspiration'].unique()"
      ]
    },
    {
      "cell_type": "code",
      "execution_count": 53,
      "metadata": {
        "colab": {
          "base_uri": "https://localhost:8080/"
        },
        "id": "eitEiBZGSJIW",
        "outputId": "7215f852-468d-46c0-e52e-2652575e9283"
      },
      "outputs": [
        {
          "output_type": "execute_result",
          "data": {
            "text/plain": [
              "array(['two', 'four'], dtype=object)"
            ]
          },
          "metadata": {},
          "execution_count": 53
        }
      ],
      "source": [
        "X_test['num-of-doors'].unique()"
      ]
    },
    {
      "cell_type": "code",
      "execution_count": 54,
      "metadata": {
        "colab": {
          "base_uri": "https://localhost:8080/"
        },
        "id": "1mITUTuVSaju",
        "outputId": "192514fc-6d28-40fd-a4ea-bbbcc78b568d"
      },
      "outputs": [
        {
          "output_type": "execute_result",
          "data": {
            "text/plain": [
              "array(['hatchback', 'wagon', 'sedan', 'hardtop', 'convertible'],\n",
              "      dtype=object)"
            ]
          },
          "metadata": {},
          "execution_count": 54
        }
      ],
      "source": [
        "X_test['body-style'].unique()"
      ]
    },
    {
      "cell_type": "code",
      "execution_count": 55,
      "metadata": {
        "colab": {
          "base_uri": "https://localhost:8080/"
        },
        "id": "G6DhfBWISlDf",
        "outputId": "fbf7c237-c6d2-4563-a9bb-c119edf59ec4"
      },
      "outputs": [
        {
          "output_type": "execute_result",
          "data": {
            "text/plain": [
              "array(['fwd', 'rwd', '4wd'], dtype=object)"
            ]
          },
          "metadata": {},
          "execution_count": 55
        }
      ],
      "source": [
        "X_test['drive-wheels'].unique()"
      ]
    },
    {
      "cell_type": "code",
      "execution_count": 56,
      "metadata": {
        "colab": {
          "base_uri": "https://localhost:8080/"
        },
        "id": "HgG_BC65SuDw",
        "outputId": "9302673e-6179-4ce3-8a27-b8c7cc05e534"
      },
      "outputs": [
        {
          "output_type": "execute_result",
          "data": {
            "text/plain": [
              "array(['front'], dtype=object)"
            ]
          },
          "metadata": {},
          "execution_count": 56
        }
      ],
      "source": [
        "X_test['engine-location'].unique()"
      ]
    },
    {
      "cell_type": "code",
      "execution_count": 57,
      "metadata": {
        "colab": {
          "base_uri": "https://localhost:8080/"
        },
        "id": "D9cnxlP6S2ol",
        "outputId": "5be76b46-8533-46f1-ef43-972b7bf36e8b"
      },
      "outputs": [
        {
          "output_type": "execute_result",
          "data": {
            "text/plain": [
              "array([ 93.1, 104.5,  99.8,  88.4,  97.3,  98.4,  93.7,  95.7,  91.3,\n",
              "       101.2,  95.3, 104.9,  94.5,  96.1, 105.8,  96.5,  96.3, 107.9,\n",
              "       102.9, 114.2, 100.4, 102.4, 103.5,  99.1, 112. ])"
            ]
          },
          "metadata": {},
          "execution_count": 57
        }
      ],
      "source": [
        "X_test['wheel-base'].unique()"
      ]
    },
    {
      "cell_type": "code",
      "execution_count": 58,
      "metadata": {
        "colab": {
          "base_uri": "https://localhost:8080/"
        },
        "id": "h9BejV45TCMN",
        "outputId": "4035767e-ab73-4358-92a1-5658e2bd0f22"
      },
      "outputs": [
        {
          "output_type": "execute_result",
          "data": {
            "text/plain": [
              "array([159.1, 187.8, 177.3, 141.1, 171.7, 176.2, 157.3, 169.7, 170.7,\n",
              "       150. , 176.8, 175.7, 169. , 175. , 155.9, 181.5, 192.7, 167.5,\n",
              "       158.7, 173. , 186.7, 183.5, 156.9, 166.3, 198.9, 165.3, 183.1,\n",
              "       168.9, 175.6, 193.8, 159.3, 186.6, 199.2])"
            ]
          },
          "metadata": {},
          "execution_count": 58
        }
      ],
      "source": [
        "X_test['length'].unique()"
      ]
    },
    {
      "cell_type": "code",
      "execution_count": 59,
      "metadata": {
        "colab": {
          "base_uri": "https://localhost:8080/"
        },
        "id": "1prvq3K6TKXG",
        "outputId": "47572408-ce72-4a82-eee8-3158434a0ac7"
      },
      "outputs": [
        {
          "output_type": "execute_result",
          "data": {
            "text/plain": [
              "array([64.2, 66.5, 66.3, 60.3, 65.5, 65.6, 64.4, 63.6, 67.9, 64. , 64.8,\n",
              "       72.3, 65.7, 66.1, 71.4, 65.2, 65.4, 68.4, 66.6, 67.7, 63.4, 63.8,\n",
              "       66.9, 68.3, 72. ])"
            ]
          },
          "metadata": {},
          "execution_count": 59
        }
      ],
      "source": [
        "X_test['width'].unique()"
      ]
    },
    {
      "cell_type": "code",
      "execution_count": 60,
      "metadata": {
        "colab": {
          "base_uri": "https://localhost:8080/"
        },
        "id": "Kg_MJcXWTS81",
        "outputId": "9289e63c-c228-4137-e2a5-2eb80bd10e3d"
      },
      "outputs": [
        {
          "output_type": "execute_result",
          "data": {
            "text/plain": [
              "array([54.1, 53.1, 53.2, 55.7, 52. , 50.8, 59.1, 49.7, 52.6, 54.3, 50.5,\n",
              "       49.6, 54.4, 55.2, 53.3, 54.5, 49.4, 56.7, 53.7, 53. , 52.8, 55.1,\n",
              "       50.2, 54.9, 55.6, 56.1, 55.4])"
            ]
          },
          "metadata": {},
          "execution_count": 60
        }
      ],
      "source": [
        "X_test['height'].unique()"
      ]
    },
    {
      "cell_type": "code",
      "execution_count": 61,
      "metadata": {
        "colab": {
          "base_uri": "https://localhost:8080/"
        },
        "id": "J3OwL1eKTbHt",
        "outputId": "8dda3a1a-4009-46b0-dc5b-fcded823dd31"
      },
      "outputs": [
        {
          "output_type": "execute_result",
          "data": {
            "text/plain": [
              "array([1905, 3151, 2507, 1488, 2300, 2679, 1918, 2290, 3071, 1940, 2710,\n",
              "       3366, 2380, 2700, 1909, 2551, 2579, 2954, 2236, 2015, 2370, 3075,\n",
              "       2460, 2714, 3016, 2050, 2081, 3285, 2122, 1889, 2209, 2563, 2778,\n",
              "       2326, 1938, 3380, 2254, 2808, 1876, 3715, 1874])"
            ]
          },
          "metadata": {},
          "execution_count": 61
        }
      ],
      "source": [
        "X_test['curb-weight'].unique()"
      ]
    },
    {
      "cell_type": "code",
      "execution_count": 62,
      "metadata": {
        "colab": {
          "base_uri": "https://localhost:8080/"
        },
        "id": "PePB_xTpTi79",
        "outputId": "76125765-ce48-4ba2-de93-767cb284d19f"
      },
      "outputs": [
        {
          "output_type": "execute_result",
          "data": {
            "text/plain": [
              "array(['ohc', 'dohc', 'l', 'ohcv', 'dohcv', 'rotor', 'ohcf'], dtype=object)"
            ]
          },
          "metadata": {},
          "execution_count": 62
        }
      ],
      "source": [
        "X_test['engine-type'].unique()"
      ]
    },
    {
      "cell_type": "code",
      "execution_count": 63,
      "metadata": {
        "colab": {
          "base_uri": "https://localhost:8080/"
        },
        "id": "tAamTjL_Tq5K",
        "outputId": "67bdce10-da6d-4f25-b3cd-fee31164ce9c"
      },
      "outputs": [
        {
          "output_type": "execute_result",
          "data": {
            "text/plain": [
              "array(['four', 'six', 'five', 'three', 'eight', 'two'], dtype=object)"
            ]
          },
          "metadata": {},
          "execution_count": 63
        }
      ],
      "source": [
        "X_test['num-of-cylinders'].unique()"
      ]
    },
    {
      "cell_type": "code",
      "execution_count": 64,
      "metadata": {
        "colab": {
          "base_uri": "https://localhost:8080/"
        },
        "id": "l9ILxoyfT5Fo",
        "outputId": "45fced86-56c7-46b6-925d-53d2feb6b5be"
      },
      "outputs": [
        {
          "output_type": "execute_result",
          "data": {
            "text/plain": [
              "array([ 91, 161, 136,  61, 109, 146,  92, 181, 164, 203,  70, 134,  90,\n",
              "       132, 110, 120, 171,  97,  98, 151, 122, 209, 121, 304])"
            ]
          },
          "metadata": {},
          "execution_count": 64
        }
      ],
      "source": [
        "X_test['engine-size'].unique()"
      ]
    },
    {
      "cell_type": "code",
      "execution_count": 65,
      "metadata": {
        "colab": {
          "base_uri": "https://localhost:8080/"
        },
        "id": "EhNrRjV-UCSN",
        "outputId": "cfcfe139-4eab-4978-f9ec-941c5db29b14"
      },
      "outputs": [
        {
          "output_type": "execute_result",
          "data": {
            "text/plain": [
              "array(['2bbl', 'mpfi', '1bbl', '4bbl', 'idi', 'spdi'], dtype=object)"
            ]
          },
          "metadata": {},
          "execution_count": 65
        }
      ],
      "source": [
        "X_test['fuel-system'].unique()"
      ]
    },
    {
      "cell_type": "code",
      "execution_count": 66,
      "metadata": {
        "colab": {
          "base_uri": "https://localhost:8080/"
        },
        "id": "cINmqFl4UMZV",
        "outputId": "bcd6ef74-f947-4a21-889a-04326efa3d71"
      },
      "outputs": [
        {
          "output_type": "execute_result",
          "data": {
            "text/plain": [
              "array(['3.03', '3.27', '3.19', '2.91', '3.62', '2.97', '3.05', '3.43',\n",
              "       '3.31', '3.94', '?', '3.46', '3.15', '3.17', '3.54', '3.8'],\n",
              "      dtype=object)"
            ]
          },
          "metadata": {},
          "execution_count": 66
        }
      ],
      "source": [
        "X_test['bore'].unique()"
      ]
    },
    {
      "cell_type": "code",
      "execution_count": 67,
      "metadata": {
        "colab": {
          "base_uri": "https://localhost:8080/"
        },
        "id": "qxV0h8nfUdKO",
        "outputId": "3aa466a6-6894-437c-da2f-1f272b36f5f9"
      },
      "outputs": [
        {
          "output_type": "execute_result",
          "data": {
            "text/plain": [
              "array(['3.15', '3.35', '3.4', '3.03', '3.5', '3.23', '3.27', '3.41',\n",
              "       '3.19', '3.11', '?', '3.64', '3.9', '3.58', '3.46', '2.19', '2.36',\n",
              "       '3.29', '3.54', '3.39', '3.07'], dtype=object)"
            ]
          },
          "metadata": {},
          "execution_count": 67
        }
      ],
      "source": [
        "X_test['stroke'].unique()"
      ]
    },
    {
      "cell_type": "code",
      "execution_count": 68,
      "metadata": {
        "colab": {
          "base_uri": "https://localhost:8080/"
        },
        "id": "yR-9LE0wUkrN",
        "outputId": "a480086b-90b3-4aa7-f827-655456a1fd40"
      },
      "outputs": [
        {
          "output_type": "execute_result",
          "data": {
            "text/plain": [
              "array([ 9. ,  9.2,  8.5,  9.5, 10. ,  9.3,  9.4, 22. ,  9.6,  8.7,  7.5,\n",
              "        8.4,  8. ])"
            ]
          },
          "metadata": {},
          "execution_count": 68
        }
      ],
      "source": [
        "X_test['compression-ratio'].unique()"
      ]
    },
    {
      "cell_type": "code",
      "execution_count": 69,
      "metadata": {
        "colab": {
          "base_uri": "https://localhost:8080/"
        },
        "id": "SE3F6ZzcUqzO",
        "outputId": "7134bd97-6605-4d22-ff2a-666fbf8c814e"
      },
      "outputs": [
        {
          "output_type": "execute_result",
          "data": {
            "text/plain": [
              "array(['68', '156', '110', '48', '100', '116', '62', '160', '76', '121',\n",
              "       '288', '101', '72', '70', '?', '86', '95', '161', '69', '85', '88',\n",
              "       '143', '92', '182', '90', '184'], dtype=object)"
            ]
          },
          "metadata": {},
          "execution_count": 69
        }
      ],
      "source": [
        "X_test['horsepower'].unique()"
      ]
    },
    {
      "cell_type": "code",
      "execution_count": 70,
      "metadata": {
        "colab": {
          "base_uri": "https://localhost:8080/"
        },
        "id": "8QiXIu8wUztu",
        "outputId": "f48db3e3-3a59-4a38-bd2f-b251f406b3d6"
      },
      "outputs": [
        {
          "output_type": "execute_result",
          "data": {
            "text/plain": [
              "array(['5000', '5200', '5500', '5100', '4800', '6000', '4250', '5750',\n",
              "       '4200', '5400', '?', '5800', '4900', '5250', '4500'], dtype=object)"
            ]
          },
          "metadata": {},
          "execution_count": 70
        }
      ],
      "source": [
        "X_test['peak-rpm'].unique()"
      ]
    },
    {
      "cell_type": "code",
      "execution_count": 71,
      "metadata": {
        "colab": {
          "base_uri": "https://localhost:8080/"
        },
        "id": "7ULxGqW_U7nl",
        "outputId": "881857a4-4969-4045-bd4d-1bcf0f33ddd7"
      },
      "outputs": [
        {
          "output_type": "execute_result",
          "data": {
            "text/plain": [
              "array([31, 19, 47, 26, 24, 37, 27, 30, 21, 17, 38, 23, 28, 25, 29, 16, 14])"
            ]
          },
          "metadata": {},
          "execution_count": 71
        }
      ],
      "source": [
        "X_test['city-mpg'].unique()"
      ]
    },
    {
      "cell_type": "code",
      "execution_count": 72,
      "metadata": {
        "colab": {
          "base_uri": "https://localhost:8080/"
        },
        "id": "SlEBLAK6VB2F",
        "outputId": "89e62b8b-6fb7-4b5f-b77c-ea8be2288a81"
      },
      "outputs": [
        {
          "output_type": "execute_result",
          "data": {
            "text/plain": [
              "array([38, 24, 25, 53, 32, 30, 41, 34, 28, 23, 39, 43, 31, 33, 36, 37, 27,\n",
              "       22, 29, 26, 16])"
            ]
          },
          "metadata": {},
          "execution_count": 72
        }
      ],
      "source": [
        "X_test['highway-mpg'].unique()"
      ]
    },
    {
      "cell_type": "code",
      "execution_count": 73,
      "metadata": {
        "colab": {
          "base_uri": "https://localhost:8080/"
        },
        "id": "8x4_B2-9zb2P",
        "outputId": "e6cb9173-8586-48e5-80d0-f55c96186557"
      },
      "outputs": [
        {
          "output_type": "execute_result",
          "data": {
            "text/plain": [
              "array(['6795', '15750', '15250', '5151', '9995', '11199', '5389', '7898',\n",
              "       '17199', '6529', '20970', '?', '10945', '18344', '9989', '9295',\n",
              "       '18920', '7895', '6488', '9959', '15580', '9895', '11549', '15998',\n",
              "       '5118', '6938', '16695', '8358', '5499', '7975', '12290', '22018',\n",
              "       '8948', '6849', '41315', '11595', '18150', '6377', '45400'],\n",
              "      dtype=object)"
            ]
          },
          "metadata": {},
          "execution_count": 73
        }
      ],
      "source": [
        "y_test.unique()"
      ]
    },
    {
      "cell_type": "markdown",
      "metadata": {
        "id": "d7ZSrLQNSUl7"
      },
      "source": [
        "\n",
        "\n",
        "---\n",
        "\n"
      ]
    },
    {
      "cell_type": "markdown",
      "metadata": {
        "id": "pZUHXUbOEt2A"
      },
      "source": [
        "# Replacing missing values with nan"
      ]
    },
    {
      "cell_type": "code",
      "execution_count": 74,
      "metadata": {
        "id": "NQj_E0UK_Y9t"
      },
      "outputs": [],
      "source": [
        "X_train.replace('?', np.nan, inplace = True)\n",
        "X_train['engine-type'].replace('l', np.nan, inplace = True)"
      ]
    },
    {
      "cell_type": "code",
      "execution_count": 75,
      "metadata": {
        "id": "YIfCWu15zGrs"
      },
      "outputs": [],
      "source": [
        "y_train.replace('?', np.nan, inplace = True)\n",
        "y_test.replace('?', np.nan, inplace = True)"
      ]
    },
    {
      "cell_type": "code",
      "execution_count": 76,
      "metadata": {
        "id": "HJWbrNV_OVDF"
      },
      "outputs": [],
      "source": [
        "X_test.replace('?', np.nan, inplace = True)\n",
        "X_test['engine-type'].replace('l', np.nan, inplace = True)"
      ]
    },
    {
      "cell_type": "markdown",
      "metadata": {
        "id": "M04zNgMhGIXv"
      },
      "source": [
        "# Filling nan value"
      ]
    },
    {
      "cell_type": "code",
      "execution_count": 77,
      "metadata": {
        "id": "KQgAtrwfKm2y"
      },
      "outputs": [],
      "source": [
        "X_train['normalized-losses'] = X_train['normalized-losses'].fillna(X_train['normalized-losses'].value_counts().index[0])\n",
        "X_train['bore'] = X_train['bore'].fillna(X_train['bore'].value_counts().index[0])\n",
        "X_train['stroke'] = X_train['stroke'].fillna(X_train['stroke'].value_counts().index[0])\n",
        "X_train['num-of-doors'] = X_train['num-of-doors'].fillna(X_train['num-of-doors'].value_counts().index[0])\n",
        "X_train['engine-type'] = X_train['engine-type'].fillna(X_train['engine-type'].value_counts().index[0])"
      ]
    },
    {
      "cell_type": "code",
      "execution_count": 78,
      "metadata": {
        "id": "vtt5Fk27ObC9"
      },
      "outputs": [],
      "source": [
        "X_test['normalized-losses'] = X_test['normalized-losses'].fillna(X_test['normalized-losses'].value_counts().index[0])\n",
        "X_test['bore'] = X_test['bore'].fillna(X_test['bore'].value_counts().index[0])\n",
        "X_test['stroke'] = X_test['stroke'].fillna(X_test['stroke'].value_counts().index[0])\n",
        "X_test['num-of-doors'] = X_test['num-of-doors'].fillna(X_test['num-of-doors'].value_counts().index[0])\n",
        "X_test['engine-type'] = X_test['engine-type'].fillna(X_test['engine-type'].value_counts().index[0])\n",
        "X_test['horsepower'] = X_test['horsepower'].fillna(X_test['horsepower'].value_counts().index[0])\n",
        "X_test['peak-rpm'] = X_test['peak-rpm'].fillna(X_test['peak-rpm'].value_counts().index[0])"
      ]
    },
    {
      "cell_type": "markdown",
      "metadata": {
        "id": "UyuvmYncGVH1"
      },
      "source": [
        "# Chnging int/float values which are str in data to its original data type"
      ]
    },
    {
      "cell_type": "code",
      "execution_count": 79,
      "metadata": {
        "id": "SxD7jv28SQtn"
      },
      "outputs": [],
      "source": [
        "X_train['normalized-losses'] = X_train['normalized-losses'].astype(int)\n",
        "X_train['bore'] = X_train['bore'].astype(float)\n",
        "X_train['stroke'] = X_train['stroke'].astype(float)\n",
        "X_train['horsepower'] = X_train['horsepower'].astype(int)\n",
        "X_train['peak-rpm'] = X_train['peak-rpm'].astype(int)"
      ]
    },
    {
      "cell_type": "code",
      "execution_count": 80,
      "metadata": {
        "id": "IL4TXuduOA6Z"
      },
      "outputs": [],
      "source": [
        "X_test['normalized-losses'] = X_test['normalized-losses'].astype(int)\n",
        "X_test['bore'] = X_test['bore'].astype(float)\n",
        "X_test['stroke'] = X_test['stroke'].astype(float)\n",
        "X_test['horsepower'] = X_test['horsepower'].astype(int)\n",
        "X_test['peak-rpm'] = X_test['peak-rpm'].astype(int)"
      ]
    },
    {
      "cell_type": "code",
      "execution_count": 81,
      "metadata": {
        "id": "TYl1-kM7z9Sw"
      },
      "outputs": [],
      "source": [
        "y_train = y_train.astype(float)\n",
        "y_test = y_test.astype(float)"
      ]
    },
    {
      "cell_type": "code",
      "execution_count": 82,
      "metadata": {
        "id": "3UYRS4KazuA6"
      },
      "outputs": [],
      "source": [
        "y_train = y_train.fillna(y_train.mean())\n",
        "y_test = y_test.fillna(y_test.mean())"
      ]
    },
    {
      "cell_type": "code",
      "execution_count": 83,
      "metadata": {
        "id": "N6ziDOF-GmAm"
      },
      "outputs": [],
      "source": [
        "X_train.reset_index(drop = True, inplace = True)"
      ]
    },
    {
      "cell_type": "code",
      "execution_count": 84,
      "metadata": {
        "id": "yUZFbMLcG6_W"
      },
      "outputs": [],
      "source": [
        "X_test.reset_index(drop = True, inplace = True)"
      ]
    },
    {
      "cell_type": "code",
      "execution_count": 85,
      "metadata": {
        "id": "WFdv6sZe0knG"
      },
      "outputs": [],
      "source": [
        "y_train.reset_index(drop = True, inplace = True)\n",
        "y_test.reset_index(drop = True, inplace = True)"
      ]
    },
    {
      "cell_type": "markdown",
      "metadata": {
        "id": "N0tOrO72Xy4p"
      },
      "source": [
        "# Feature removing by correlation using heatmap"
      ]
    },
    {
      "cell_type": "code",
      "execution_count": 86,
      "metadata": {
        "id": "U8rVnT-rG7eO"
      },
      "outputs": [],
      "source": [
        "import seaborn as sns\n",
        "import matplotlib.pyplot as plt"
      ]
    },
    {
      "cell_type": "code",
      "execution_count": 87,
      "metadata": {
        "id": "KHVjieZFHCAu"
      },
      "outputs": [],
      "source": [
        "correlation = X_train.corr()"
      ]
    },
    {
      "cell_type": "code",
      "execution_count": 88,
      "metadata": {
        "colab": {
          "base_uri": "https://localhost:8080/",
          "height": 964
        },
        "id": "3I6aC_FyHGHd",
        "outputId": "a75a8942-4cd2-4133-fe35-01875780c21c"
      },
      "outputs": [
        {
          "output_type": "execute_result",
          "data": {
            "text/plain": [
              "<matplotlib.axes._subplots.AxesSubplot at 0x7f1988eabd50>"
            ]
          },
          "metadata": {},
          "execution_count": 88
        },
        {
          "output_type": "display_data",
          "data": {
            "text/plain": [
              "<Figure size 1080x1080 with 2 Axes>"
            ],
            "image/png": "[encoded data removed]"
          },
          "metadata": {
            "needs_background": "light"
          }
        }
      ],
      "source": [
        "plt.figure(figsize=(15,15))\n",
        "sns.heatmap(correlation, xticklabels = correlation.columns, yticklabels = correlation.columns, annot = True)"
      ]
    },
    {
      "cell_type": "code",
      "execution_count": 89,
      "metadata": {
        "id": "nIdVCN2DIE0_"
      },
      "outputs": [],
      "source": [
        "# As per above heatmap 'city-mpg' & 'highway-mpg' these two features are correlated with 97% \n",
        "#so we will drop one of the feature."
      ]
    },
    {
      "cell_type": "code",
      "execution_count": 90,
      "metadata": {
        "id": "gdB-oCE7IgzH"
      },
      "outputs": [],
      "source": [
        "X_train.drop('city-mpg', axis = 1, inplace = True)\n",
        "X_test.drop('city-mpg', axis = 1, inplace = True)"
      ]
    },
    {
      "cell_type": "markdown",
      "metadata": {
        "id": "v1vbtujQX_OE"
      },
      "source": [
        "# Handling Categorical Features"
      ]
    },
    {
      "cell_type": "code",
      "execution_count": 91,
      "metadata": {
        "id": "QZeaaBflX_sA"
      },
      "outputs": [],
      "source": [
        "from sklearn.preprocessing import OneHotEncoder"
      ]
    },
    {
      "cell_type": "code",
      "execution_count": 92,
      "metadata": {
        "id": "3c_OpvsqYUhv"
      },
      "outputs": [],
      "source": [
        "ohe = OneHotEncoder(sparse = False)"
      ]
    },
    {
      "cell_type": "code",
      "execution_count": 93,
      "metadata": {
        "id": "bIIWnqaSYcTU"
      },
      "outputs": [],
      "source": [
        "ohe_columns = ohe.fit_transform(X_train[['make', 'fuel-type', 'aspiration', 'num-of-doors', 'body-style', 'drive-wheels', 'engine-location', 'engine-type', 'num-of-cylinders', 'fuel-system']])"
      ]
    },
    {
      "cell_type": "code",
      "execution_count": 94,
      "metadata": {
        "id": "GmMQ8_VouIak"
      },
      "outputs": [],
      "source": [
        "ohe_columns_test = ohe.fit_transform(X_test[['make', 'fuel-type', 'aspiration', 'num-of-doors', 'body-style', 'drive-wheels', 'engine-location', 'engine-type', 'num-of-cylinders', 'fuel-system']])"
      ]
    },
    {
      "cell_type": "code",
      "execution_count": 95,
      "metadata": {
        "id": "anahJnqEZqfK"
      },
      "outputs": [],
      "source": [
        "ohe_columns = pd.DataFrame(ohe_columns)"
      ]
    },
    {
      "cell_type": "code",
      "execution_count": 96,
      "metadata": {
        "id": "57CtSv7Jupvj"
      },
      "outputs": [],
      "source": [
        "ohe_columns_test = pd.DataFrame(ohe_columns_test)"
      ]
    },
    {
      "cell_type": "code",
      "execution_count": 97,
      "metadata": {
        "id": "KU4sCXmNZxl8"
      },
      "outputs": [],
      "source": [
        "X_train = X_train.drop(['make', 'fuel-type', 'aspiration', 'num-of-doors', 'body-style', 'drive-wheels', 'engine-location', 'engine-type', 'num-of-cylinders', 'fuel-system'], axis = 1)"
      ]
    },
    {
      "cell_type": "code",
      "execution_count": 98,
      "metadata": {
        "id": "K_ZFYZKRuvfi"
      },
      "outputs": [],
      "source": [
        "X_test = X_test.drop(['make', 'fuel-type', 'aspiration', 'num-of-doors', 'body-style', 'drive-wheels', 'engine-location', 'engine-type', 'num-of-cylinders', 'fuel-system'], axis = 1)"
      ]
    },
    {
      "cell_type": "code",
      "execution_count": 99,
      "metadata": {
        "id": "SoIEZ78LaOkZ"
      },
      "outputs": [],
      "source": [
        "X_train.reset_index(drop = True, inplace = True)\n",
        "ohe_columns.reset_index(drop = True, inplace = True)\n",
        "X_train = pd.concat([X_train, ohe_columns], axis = 1)"
      ]
    },
    {
      "cell_type": "code",
      "execution_count": 100,
      "metadata": {
        "id": "LEHjCUKLu1DD"
      },
      "outputs": [],
      "source": [
        "X_test.reset_index(drop = True, inplace = True)\n",
        "ohe_columns_test.reset_index(drop = True, inplace = True)\n",
        "X_test = pd.concat([X_test, ohe_columns_test], axis = 1)"
      ]
    },
    {
      "cell_type": "code",
      "execution_count": 101,
      "metadata": {
        "colab": {
          "base_uri": "https://localhost:8080/",
          "height": 424
        },
        "id": "H8Yd_TSLaXp-",
        "outputId": "c78bd2b7-90e9-42c4-8137-9bf3a46420f8"
      },
      "outputs": [
        {
          "output_type": "execute_result",
          "data": {
            "text/plain": [
              "     symboling  normalized-losses  wheel-base  length  width  height  \\\n",
              "0            2                164        99.4   176.6   66.4    54.3   \n",
              "1           -1                161       115.6   202.6   71.7    56.5   \n",
              "2            3                150        99.1   186.6   66.5    56.1   \n",
              "3            0                102        97.0   172.0   65.4    54.3   \n",
              "4            1                154        93.7   167.3   63.8    50.8   \n",
              "..         ...                ...         ...     ...    ...     ...   \n",
              "159         -1                 93       110.0   190.9   70.3    56.5   \n",
              "160          0                161       100.4   180.2   66.9    55.1   \n",
              "161          0                161       108.0   186.7   68.3    56.0   \n",
              "162          0                145       113.0   199.6   69.6    52.8   \n",
              "163          2                134        98.4   176.2   65.6    53.0   \n",
              "\n",
              "     curb-weight  engine-size  bore  stroke  ...   46   47   48   49   50  \\\n",
              "0           2824          136  3.19    3.40  ...  0.0  0.0  0.0  0.0  0.0   \n",
              "1           3740          234  3.46    3.10  ...  0.0  0.0  0.0  0.0  0.0   \n",
              "2           2707          121  2.54    2.07  ...  0.0  0.0  0.0  0.0  0.0   \n",
              "3           2510          108  3.62    2.64  ...  0.0  0.0  0.0  0.0  0.0   \n",
              "4           2191           98  2.97    3.23  ...  0.0  0.0  0.0  1.0  0.0   \n",
              "..           ...          ...   ...     ...  ...  ...  ...  ...  ...  ...   \n",
              "159         3515          183  3.58    3.64  ...  0.0  0.0  0.0  0.0  0.0   \n",
              "160         2579           97  3.01    3.40  ...  0.0  0.0  0.0  0.0  0.0   \n",
              "161         3130          134  3.61    3.21  ...  0.0  0.0  0.0  0.0  0.0   \n",
              "162         4066          258  3.63    4.17  ...  0.0  0.0  0.0  0.0  0.0   \n",
              "163         2975          146  3.62    3.50  ...  0.0  0.0  0.0  0.0  0.0   \n",
              "\n",
              "      51   52   53   54   55  \n",
              "0    0.0  0.0  1.0  0.0  0.0  \n",
              "1    0.0  0.0  1.0  0.0  0.0  \n",
              "2    0.0  0.0  1.0  0.0  0.0  \n",
              "3    0.0  0.0  1.0  0.0  0.0  \n",
              "4    0.0  0.0  0.0  0.0  0.0  \n",
              "..   ...  ...  ...  ...  ...  \n",
              "159  1.0  0.0  0.0  0.0  0.0  \n",
              "160  1.0  0.0  0.0  0.0  0.0  \n",
              "161  0.0  0.0  1.0  0.0  0.0  \n",
              "162  0.0  0.0  1.0  0.0  0.0  \n",
              "163  0.0  0.0  1.0  0.0  0.0  \n",
              "\n",
              "[164 rows x 70 columns]"
            ],
            "text/html": [
              "\n",
              "  <div id=\"df-e1ff13b2-10f8-4d63-a92e-5835db119a64\">\n",
              "    <div class=\"colab-df-container\">\n",
              "      <div>\n",
              "<style scoped>\n",
              "    .dataframe tbody tr th:only-of-type {\n",
              "        vertical-align: middle;\n",
              "    }\n",
              "\n",
              "    .dataframe tbody tr th {\n",
              "        vertical-align: top;\n",
              "    }\n",
              "\n",
              "    .dataframe thead th {\n",
              "        text-align: right;\n",
              "    }\n",
              "</style>\n",
              "<table border=\"1\" class=\"dataframe\">\n",
              "  <thead>\n",
              "    <tr style=\"text-align: right;\">\n",
              "      <th></th>\n",
              "      <th>symboling</th>\n",
              "      <th>normalized-losses</th>\n",
              "      <th>wheel-base</th>\n",
              "      <th>length</th>\n",
              "      <th>width</th>\n",
              "      <th>height</th>\n",
              "      <th>curb-weight</th>\n",
              "      <th>engine-size</th>\n",
              "      <th>bore</th>\n",
              "      <th>stroke</th>\n",
              "      <th>...</th>\n",
              "      <th>46</th>\n",
              "      <th>47</th>\n",
              "      <th>48</th>\n",
              "      <th>49</th>\n",
              "      <th>50</th>\n",
              "      <th>51</th>\n",
              "      <th>52</th>\n",
              "      <th>53</th>\n",
              "      <th>54</th>\n",
              "      <th>55</th>\n",
              "    </tr>\n",
              "  </thead>\n",
              "  <tbody>\n",
              "    <tr>\n",
              "      <th>0</th>\n",
              "      <td>2</td>\n",
              "      <td>164</td>\n",
              "      <td>99.4</td>\n",
              "      <td>176.6</td>\n",
              "      <td>66.4</td>\n",
              "      <td>54.3</td>\n",
              "      <td>2824</td>\n",
              "      <td>136</td>\n",
              "      <td>3.19</td>\n",
              "      <td>3.40</td>\n",
              "      <td>...</td>\n",
              "      <td>0.0</td>\n",
              "      <td>0.0</td>\n",
              "      <td>0.0</td>\n",
              "      <td>0.0</td>\n",
              "      <td>0.0</td>\n",
              "      <td>0.0</td>\n",
              "      <td>0.0</td>\n",
              "      <td>1.0</td>\n",
              "      <td>0.0</td>\n",
              "      <td>0.0</td>\n",
              "    </tr>\n",
              "    <tr>\n",
              "      <th>1</th>\n",
              "      <td>-1</td>\n",
              "      <td>161</td>\n",
              "      <td>115.6</td>\n",
              "      <td>202.6</td>\n",
              "      <td>71.7</td>\n",
              "      <td>56.5</td>\n",
              "      <td>3740</td>\n",
              "      <td>234</td>\n",
              "      <td>3.46</td>\n",
              "      <td>3.10</td>\n",
              "      <td>...</td>\n",
              "      <td>0.0</td>\n",
              "      <td>0.0</td>\n",
              "      <td>0.0</td>\n",
              "      <td>0.0</td>\n",
              "      <td>0.0</td>\n",
              "      <td>0.0</td>\n",
              "      <td>0.0</td>\n",
              "      <td>1.0</td>\n",
              "      <td>0.0</td>\n",
              "      <td>0.0</td>\n",
              "    </tr>\n",
              "    <tr>\n",
              "      <th>2</th>\n",
              "      <td>3</td>\n",
              "      <td>150</td>\n",
              "      <td>99.1</td>\n",
              "      <td>186.6</td>\n",
              "      <td>66.5</td>\n",
              "      <td>56.1</td>\n",
              "      <td>2707</td>\n",
              "      <td>121</td>\n",
              "      <td>2.54</td>\n",
              "      <td>2.07</td>\n",
              "      <td>...</td>\n",
              "      <td>0.0</td>\n",
              "      <td>0.0</td>\n",
              "      <td>0.0</td>\n",
              "      <td>0.0</td>\n",
              "      <td>0.0</td>\n",
              "      <td>0.0</td>\n",
              "      <td>0.0</td>\n",
              "      <td>1.0</td>\n",
              "      <td>0.0</td>\n",
              "      <td>0.0</td>\n",
              "    </tr>\n",
              "    <tr>\n",
              "      <th>3</th>\n",
              "      <td>0</td>\n",
              "      <td>102</td>\n",
              "      <td>97.0</td>\n",
              "      <td>172.0</td>\n",
              "      <td>65.4</td>\n",
              "      <td>54.3</td>\n",
              "      <td>2510</td>\n",
              "      <td>108</td>\n",
              "      <td>3.62</td>\n",
              "      <td>2.64</td>\n",
              "      <td>...</td>\n",
              "      <td>0.0</td>\n",
              "      <td>0.0</td>\n",
              "      <td>0.0</td>\n",
              "      <td>0.0</td>\n",
              "      <td>0.0</td>\n",
              "      <td>0.0</td>\n",
              "      <td>0.0</td>\n",
              "      <td>1.0</td>\n",
              "      <td>0.0</td>\n",
              "      <td>0.0</td>\n",
              "    </tr>\n",
              "    <tr>\n",
              "      <th>4</th>\n",
              "      <td>1</td>\n",
              "      <td>154</td>\n",
              "      <td>93.7</td>\n",
              "      <td>167.3</td>\n",
              "      <td>63.8</td>\n",
              "      <td>50.8</td>\n",
              "      <td>2191</td>\n",
              "      <td>98</td>\n",
              "      <td>2.97</td>\n",
              "      <td>3.23</td>\n",
              "      <td>...</td>\n",
              "      <td>0.0</td>\n",
              "      <td>0.0</td>\n",
              "      <td>0.0</td>\n",
              "      <td>1.0</td>\n",
              "      <td>0.0</td>\n",
              "      <td>0.0</td>\n",
              "      <td>0.0</td>\n",
              "      <td>0.0</td>\n",
              "      <td>0.0</td>\n",
              "      <td>0.0</td>\n",
              "    </tr>\n",
              "    <tr>\n",
              "      <th>...</th>\n",
              "      <td>...</td>\n",
              "      <td>...</td>\n",
              "      <td>...</td>\n",
              "      <td>...</td>\n",
              "      <td>...</td>\n",
              "      <td>...</td>\n",
              "      <td>...</td>\n",
              "      <td>...</td>\n",
              "      <td>...</td>\n",
              "      <td>...</td>\n",
              "      <td>...</td>\n",
              "      <td>...</td>\n",
              "      <td>...</td>\n",
              "      <td>...</td>\n",
              "      <td>...</td>\n",
              "      <td>...</td>\n",
              "      <td>...</td>\n",
              "      <td>...</td>\n",
              "      <td>...</td>\n",
              "      <td>...</td>\n",
              "      <td>...</td>\n",
              "    </tr>\n",
              "    <tr>\n",
              "      <th>159</th>\n",
              "      <td>-1</td>\n",
              "      <td>93</td>\n",
              "      <td>110.0</td>\n",
              "      <td>190.9</td>\n",
              "      <td>70.3</td>\n",
              "      <td>56.5</td>\n",
              "      <td>3515</td>\n",
              "      <td>183</td>\n",
              "      <td>3.58</td>\n",
              "      <td>3.64</td>\n",
              "      <td>...</td>\n",
              "      <td>0.0</td>\n",
              "      <td>0.0</td>\n",
              "      <td>0.0</td>\n",
              "      <td>0.0</td>\n",
              "      <td>0.0</td>\n",
              "      <td>1.0</td>\n",
              "      <td>0.0</td>\n",
              "      <td>0.0</td>\n",
              "      <td>0.0</td>\n",
              "      <td>0.0</td>\n",
              "    </tr>\n",
              "    <tr>\n",
              "      <th>160</th>\n",
              "      <td>0</td>\n",
              "      <td>161</td>\n",
              "      <td>100.4</td>\n",
              "      <td>180.2</td>\n",
              "      <td>66.9</td>\n",
              "      <td>55.1</td>\n",
              "      <td>2579</td>\n",
              "      <td>97</td>\n",
              "      <td>3.01</td>\n",
              "      <td>3.40</td>\n",
              "      <td>...</td>\n",
              "      <td>0.0</td>\n",
              "      <td>0.0</td>\n",
              "      <td>0.0</td>\n",
              "      <td>0.0</td>\n",
              "      <td>0.0</td>\n",
              "      <td>1.0</td>\n",
              "      <td>0.0</td>\n",
              "      <td>0.0</td>\n",
              "      <td>0.0</td>\n",
              "      <td>0.0</td>\n",
              "    </tr>\n",
              "    <tr>\n",
              "      <th>161</th>\n",
              "      <td>0</td>\n",
              "      <td>161</td>\n",
              "      <td>108.0</td>\n",
              "      <td>186.7</td>\n",
              "      <td>68.3</td>\n",
              "      <td>56.0</td>\n",
              "      <td>3130</td>\n",
              "      <td>134</td>\n",
              "      <td>3.61</td>\n",
              "      <td>3.21</td>\n",
              "      <td>...</td>\n",
              "      <td>0.0</td>\n",
              "      <td>0.0</td>\n",
              "      <td>0.0</td>\n",
              "      <td>0.0</td>\n",
              "      <td>0.0</td>\n",
              "      <td>0.0</td>\n",
              "      <td>0.0</td>\n",
              "      <td>1.0</td>\n",
              "      <td>0.0</td>\n",
              "      <td>0.0</td>\n",
              "    </tr>\n",
              "    <tr>\n",
              "      <th>162</th>\n",
              "      <td>0</td>\n",
              "      <td>145</td>\n",
              "      <td>113.0</td>\n",
              "      <td>199.6</td>\n",
              "      <td>69.6</td>\n",
              "      <td>52.8</td>\n",
              "      <td>4066</td>\n",
              "      <td>258</td>\n",
              "      <td>3.63</td>\n",
              "      <td>4.17</td>\n",
              "      <td>...</td>\n",
              "      <td>0.0</td>\n",
              "      <td>0.0</td>\n",
              "      <td>0.0</td>\n",
              "      <td>0.0</td>\n",
              "      <td>0.0</td>\n",
              "      <td>0.0</td>\n",
              "      <td>0.0</td>\n",
              "      <td>1.0</td>\n",
              "      <td>0.0</td>\n",
              "      <td>0.0</td>\n",
              "    </tr>\n",
              "    <tr>\n",
              "      <th>163</th>\n",
              "      <td>2</td>\n",
              "      <td>134</td>\n",
              "      <td>98.4</td>\n",
              "      <td>176.2</td>\n",
              "      <td>65.6</td>\n",
              "      <td>53.0</td>\n",
              "      <td>2975</td>\n",
              "      <td>146</td>\n",
              "      <td>3.62</td>\n",
              "      <td>3.50</td>\n",
              "      <td>...</td>\n",
              "      <td>0.0</td>\n",
              "      <td>0.0</td>\n",
              "      <td>0.0</td>\n",
              "      <td>0.0</td>\n",
              "      <td>0.0</td>\n",
              "      <td>0.0</td>\n",
              "      <td>0.0</td>\n",
              "      <td>1.0</td>\n",
              "      <td>0.0</td>\n",
              "      <td>0.0</td>\n",
              "    </tr>\n",
              "  </tbody>\n",
              "</table>\n",
              "<p>164 rows × 70 columns</p>\n",
              "</div>\n",
              "      <button class=\"colab-df-convert\" onclick=\"convertToInteractive('df-e1ff13b2-10f8-4d63-a92e-5835db119a64')\"\n",
              "              title=\"Convert this dataframe to an interactive table.\"\n",
              "              style=\"display:none;\">\n",
              "        \n",
              "  <svg xmlns=\"http://www.w3.org/2000/svg\" height=\"24px\"viewBox=\"0 0 24 24\"\n",
              "       width=\"24px\">\n",
              "    <path d=\"M0 0h24v24H0V0z\" fill=\"none\"/>\n",
              "    <path d=\"M18.56 5.44l.94 2.06.94-2.06 2.06-.94-2.06-.94-.94-2.06-.94 2.06-2.06.94zm-11 1L8.5 8.5l.94-2.06 2.06-.94-2.06-.94L8.5 2.5l-.94 2.06-2.06.94zm10 10l.94 2.06.94-2.06 2.06-.94-2.06-.94-.94-2.06-.94 2.06-2.06.94z\"/><path d=\"M17.41 7.96l-1.37-1.37c-.4-.4-.92-.59-1.43-.59-.52 0-1.04.2-1.43.59L10.3 9.45l-7.72 7.72c-.78.78-.78 2.05 0 2.83L4 21.41c.39.39.9.59 1.41.59.51 0 1.02-.2 1.41-.59l7.78-7.78 2.81-2.81c.8-.78.8-2.07 0-2.86zM5.41 20L4 18.59l7.72-7.72 1.47 1.35L5.41 20z\"/>\n",
              "  </svg>\n",
              "      </button>\n",
              "      \n",
              "  <style>\n",
              "    .colab-df-container {\n",
              "      display:flex;\n",
              "      flex-wrap:wrap;\n",
              "      gap: 12px;\n",
              "    }\n",
              "\n",
              "    .colab-df-convert {\n",
              "      background-color: #E8F0FE;\n",
              "      border: none;\n",
              "      border-radius: 50%;\n",
              "      cursor: pointer;\n",
              "      display: none;\n",
              "      fill: #1967D2;\n",
              "      height: 32px;\n",
              "      padding: 0 0 0 0;\n",
              "      width: 32px;\n",
              "    }\n",
              "\n",
              "    .colab-df-convert:hover {\n",
              "      background-color: #E2EBFA;\n",
              "      box-shadow: 0px 1px 2px rgba(60, 64, 67, 0.3), 0px 1px 3px 1px rgba(60, 64, 67, 0.15);\n",
              "      fill: #174EA6;\n",
              "    }\n",
              "\n",
              "    [theme=dark] .colab-df-convert {\n",
              "      background-color: #3B4455;\n",
              "      fill: #D2E3FC;\n",
              "    }\n",
              "\n",
              "    [theme=dark] .colab-df-convert:hover {\n",
              "      background-color: #434B5C;\n",
              "      box-shadow: 0px 1px 3px 1px rgba(0, 0, 0, 0.15);\n",
              "      filter: drop-shadow(0px 1px 2px rgba(0, 0, 0, 0.3));\n",
              "      fill: #FFFFFF;\n",
              "    }\n",
              "  </style>\n",
              "\n",
              "      <script>\n",
              "        const buttonEl =\n",
              "          document.querySelector('#df-e1ff13b2-10f8-4d63-a92e-5835db119a64 button.colab-df-convert');\n",
              "        buttonEl.style.display =\n",
              "          google.colab.kernel.accessAllowed ? 'block' : 'none';\n",
              "\n",
              "        async function convertToInteractive(key) {\n",
              "          const element = document.querySelector('#df-e1ff13b2-10f8-4d63-a92e-5835db119a64');\n",
              "          const dataTable =\n",
              "            await google.colab.kernel.invokeFunction('convertToInteractive',\n",
              "                                                     [key], {});\n",
              "          if (!dataTable) return;\n",
              "\n",
              "          const docLinkHtml = 'Like what you see? Visit the ' +\n",
              "            '<a target=\"_blank\" href=https://colab.research.google.com/notebooks/data_table.ipynb>data table notebook</a>'\n",
              "            + ' to learn more about interactive tables.';\n",
              "          element.innerHTML = '';\n",
              "          dataTable['output_type'] = 'display_data';\n",
              "          await google.colab.output.renderOutput(dataTable, element);\n",
              "          const docLink = document.createElement('div');\n",
              "          docLink.innerHTML = docLinkHtml;\n",
              "          element.appendChild(docLink);\n",
              "        }\n",
              "      </script>\n",
              "    </div>\n",
              "  </div>\n",
              "  "
            ]
          },
          "metadata": {},
          "execution_count": 101
        }
      ],
      "source": [
        "X_train"
      ]
    },
    {
      "cell_type": "code",
      "execution_count": 102,
      "metadata": {
        "colab": {
          "base_uri": "https://localhost:8080/",
          "height": 1000
        },
        "id": "Nyu7aWzqwKa1",
        "outputId": "5e954218-f4e8-40ea-cf07-4ea32933f9fe"
      },
      "outputs": [
        {
          "output_type": "execute_result",
          "data": {
            "text/plain": [
              "    symboling  normalized-losses  wheel-base  length  width  height  \\\n",
              "0           1                104        93.1   159.1   64.2    54.1   \n",
              "1          -1                134       104.5   187.8   66.5    54.1   \n",
              "2           2                134        99.8   177.3   66.3    53.1   \n",
              "3           2                121        88.4   141.1   60.3    53.2   \n",
              "4           2                 94        97.3   171.7   65.5    55.7   \n",
              "5           2                134        98.4   176.2   65.6    52.0   \n",
              "6           2                161        93.7   157.3   64.4    50.8   \n",
              "7           0                 81        95.7   169.7   63.6    59.1   \n",
              "8           3                194        91.3   170.7   67.9    49.7   \n",
              "9           1                101        93.7   150.0   64.0    52.6   \n",
              "10          0                188       101.2   176.8   64.8    54.3   \n",
              "11          1                134        98.4   175.7   72.3    50.5   \n",
              "12          3                150        95.3   169.0   65.7    49.6   \n",
              "13          0                134       104.9   175.0   66.1    54.4   \n",
              "14          0                134        94.5   155.9   63.6    52.0   \n",
              "15          2                134        98.4   176.2   65.6    52.0   \n",
              "16          0                134        96.1   181.5   66.5    55.2   \n",
              "17          1                134       105.8   192.7   71.4    55.7   \n",
              "18          0                106        96.5   167.5   65.2    53.3   \n",
              "19          1                 74        95.7   158.7   63.6    54.5   \n",
              "20          3                153        96.3   173.0   65.4    49.4   \n",
              "21          0                161       107.9   186.7   68.4    56.7   \n",
              "22          2                134        96.1   176.8   66.6    50.5   \n",
              "23          2                134        98.4   176.2   65.6    52.0   \n",
              "24          3                197       102.9   183.5   67.7    52.0   \n",
              "25          2                 83        93.7   156.9   63.4    53.7   \n",
              "26          0                 91        95.7   166.3   64.4    53.0   \n",
              "27          0                134       114.2   198.9   68.4    56.7   \n",
              "28          0                 91        95.7   166.3   64.4    52.8   \n",
              "29          1                128        94.5   165.3   63.8    54.5   \n",
              "30          2                122        97.3   171.7   65.5    55.7   \n",
              "31          0                134       100.4   183.1   66.9    55.1   \n",
              "32          3                186        94.5   168.9   68.3    50.2   \n",
              "33         -1                 65       102.4   175.6   66.5    54.9   \n",
              "34          1                122        94.5   165.3   63.8    54.5   \n",
              "35          0                134       103.5   193.8   67.9    53.7   \n",
              "36          3                134        94.5   159.3   64.2    55.6   \n",
              "37          3                150        99.1   186.6   66.5    56.1   \n",
              "38          1                118        93.7   157.3   63.8    50.8   \n",
              "39          1                134       112.0   199.2   72.0    55.4   \n",
              "40          1                134        94.5   155.9   63.6    52.0   \n",
              "\n",
              "    curb-weight  engine-size  bore  stroke  ...   40   41   42   43   44   45  \\\n",
              "0          1905           91  3.03    3.15  ...  1.0  0.0  0.0  0.0  0.0  1.0   \n",
              "1          3151          161  3.27    3.35  ...  0.0  1.0  0.0  0.0  0.0  0.0   \n",
              "2          2507          136  3.19    3.40  ...  0.0  0.0  0.0  0.0  0.0  0.0   \n",
              "3          1488           61  2.91    3.03  ...  0.0  0.0  1.0  0.0  0.0  1.0   \n",
              "4          2300          109  3.19    3.40  ...  1.0  0.0  0.0  0.0  0.0  0.0   \n",
              "5          2679          146  3.62    3.50  ...  1.0  0.0  0.0  0.0  0.0  0.0   \n",
              "6          1918           92  2.97    3.23  ...  1.0  0.0  0.0  0.0  0.0  1.0   \n",
              "7          2290           92  3.05    3.03  ...  1.0  0.0  0.0  0.0  0.0  1.0   \n",
              "8          3071          181  3.43    3.27  ...  0.0  1.0  0.0  0.0  0.0  0.0   \n",
              "9          1940           92  2.91    3.41  ...  1.0  0.0  0.0  0.0  1.0  0.0   \n",
              "10         2710          164  3.31    3.19  ...  0.0  1.0  0.0  0.0  0.0  0.0   \n",
              "11         3366          203  3.94    3.11  ...  0.0  0.0  0.0  0.0  0.0  0.0   \n",
              "12         2380           70  3.19    3.40  ...  0.0  0.0  0.0  1.0  0.0  0.0   \n",
              "13         2700          134  3.43    3.64  ...  1.0  0.0  0.0  0.0  0.0  0.0   \n",
              "14         1909           90  3.03    3.11  ...  1.0  0.0  0.0  0.0  0.0  1.0   \n",
              "15         2551          146  3.62    3.50  ...  1.0  0.0  0.0  0.0  0.0  0.0   \n",
              "16         2579          132  3.46    3.90  ...  1.0  0.0  0.0  0.0  0.0  0.0   \n",
              "17         2954          136  3.19    3.40  ...  0.0  0.0  0.0  0.0  0.0  0.0   \n",
              "18         2236          110  3.15    3.58  ...  1.0  0.0  0.0  0.0  1.0  0.0   \n",
              "19         2015           92  3.05    3.03  ...  1.0  0.0  0.0  0.0  0.0  1.0   \n",
              "20         2370          110  3.17    3.46  ...  1.0  0.0  0.0  0.0  0.0  0.0   \n",
              "21         3075          120  3.46    2.19  ...  1.0  0.0  0.0  0.0  0.0  0.0   \n",
              "22         2460          132  3.46    3.90  ...  1.0  0.0  0.0  0.0  0.0  0.0   \n",
              "23         2714          146  3.62    3.50  ...  1.0  0.0  0.0  0.0  0.0  0.0   \n",
              "24         3016          171  3.27    3.35  ...  0.0  1.0  0.0  0.0  0.0  0.0   \n",
              "25         2050           97  3.62    2.36  ...  1.0  0.0  0.0  0.0  0.0  1.0   \n",
              "26         2081           98  3.19    3.03  ...  1.0  0.0  0.0  0.0  0.0  1.0   \n",
              "27         3285          120  3.46    2.19  ...  1.0  0.0  0.0  0.0  0.0  0.0   \n",
              "28         2122           98  3.19    3.03  ...  1.0  0.0  0.0  0.0  0.0  1.0   \n",
              "29         1889           97  3.15    3.29  ...  1.0  0.0  0.0  0.0  0.0  1.0   \n",
              "30         2209          109  3.19    3.40  ...  1.0  0.0  0.0  0.0  0.0  0.0   \n",
              "31         2563          109  3.19    3.40  ...  1.0  0.0  0.0  0.0  0.0  0.0   \n",
              "32         2778          151  3.94    3.11  ...  1.0  0.0  0.0  0.0  0.0  0.0   \n",
              "33         2326          122  3.31    3.54  ...  1.0  0.0  0.0  0.0  0.0  0.0   \n",
              "34         1938           97  3.15    3.29  ...  1.0  0.0  0.0  0.0  0.0  1.0   \n",
              "35         3380          209  3.62    3.39  ...  0.0  1.0  0.0  0.0  0.0  0.0   \n",
              "36         2254          109  3.19    3.40  ...  1.0  0.0  0.0  0.0  0.0  0.0   \n",
              "37         2808          121  3.54    3.07  ...  1.0  0.0  0.0  0.0  0.0  0.0   \n",
              "38         1876           90  2.97    3.23  ...  1.0  0.0  0.0  0.0  0.0  1.0   \n",
              "39         3715          304  3.80    3.35  ...  0.0  0.0  0.0  0.0  0.0  0.0   \n",
              "40         1874           90  3.03    3.11  ...  1.0  0.0  0.0  0.0  0.0  1.0   \n",
              "\n",
              "     46   47   48   49  \n",
              "0   0.0  0.0  0.0  0.0  \n",
              "1   0.0  0.0  1.0  0.0  \n",
              "2   0.0  0.0  1.0  0.0  \n",
              "3   0.0  0.0  0.0  0.0  \n",
              "4   0.0  0.0  1.0  0.0  \n",
              "5   0.0  0.0  1.0  0.0  \n",
              "6   0.0  0.0  0.0  0.0  \n",
              "7   0.0  0.0  0.0  0.0  \n",
              "8   0.0  0.0  1.0  0.0  \n",
              "9   0.0  0.0  0.0  0.0  \n",
              "10  0.0  0.0  1.0  0.0  \n",
              "11  0.0  0.0  1.0  0.0  \n",
              "12  1.0  0.0  0.0  0.0  \n",
              "13  0.0  1.0  0.0  0.0  \n",
              "14  0.0  0.0  0.0  0.0  \n",
              "15  0.0  0.0  1.0  0.0  \n",
              "16  0.0  0.0  1.0  0.0  \n",
              "17  0.0  0.0  1.0  0.0  \n",
              "18  0.0  0.0  0.0  0.0  \n",
              "19  0.0  0.0  0.0  0.0  \n",
              "20  0.0  0.0  0.0  1.0  \n",
              "21  0.0  0.0  1.0  0.0  \n",
              "22  0.0  0.0  1.0  0.0  \n",
              "23  0.0  0.0  1.0  0.0  \n",
              "24  0.0  0.0  1.0  0.0  \n",
              "25  0.0  0.0  0.0  0.0  \n",
              "26  0.0  0.0  0.0  0.0  \n",
              "27  0.0  0.0  1.0  0.0  \n",
              "28  0.0  0.0  0.0  0.0  \n",
              "29  0.0  0.0  0.0  0.0  \n",
              "30  0.0  0.0  1.0  0.0  \n",
              "31  0.0  0.0  1.0  0.0  \n",
              "32  0.0  0.0  1.0  0.0  \n",
              "33  0.0  0.0  1.0  0.0  \n",
              "34  0.0  0.0  0.0  0.0  \n",
              "35  0.0  0.0  1.0  0.0  \n",
              "36  0.0  0.0  1.0  0.0  \n",
              "37  0.0  0.0  1.0  0.0  \n",
              "38  0.0  0.0  0.0  0.0  \n",
              "39  0.0  0.0  1.0  0.0  \n",
              "40  0.0  0.0  0.0  0.0  \n",
              "\n",
              "[41 rows x 64 columns]"
            ],
            "text/html": [
              "\n",
              "  <div id=\"df-d53aad07-1560-48ee-878a-66a2a611d5d6\">\n",
              "    <div class=\"colab-df-container\">\n",
              "      <div>\n",
              "<style scoped>\n",
              "    .dataframe tbody tr th:only-of-type {\n",
              "        vertical-align: middle;\n",
              "    }\n",
              "\n",
              "    .dataframe tbody tr th {\n",
              "        vertical-align: top;\n",
              "    }\n",
              "\n",
              "    .dataframe thead th {\n",
              "        text-align: right;\n",
              "    }\n",
              "</style>\n",
              "<table border=\"1\" class=\"dataframe\">\n",
              "  <thead>\n",
              "    <tr style=\"text-align: right;\">\n",
              "      <th></th>\n",
              "      <th>symboling</th>\n",
              "      <th>normalized-losses</th>\n",
              "      <th>wheel-base</th>\n",
              "      <th>length</th>\n",
              "      <th>width</th>\n",
              "      <th>height</th>\n",
              "      <th>curb-weight</th>\n",
              "      <th>engine-size</th>\n",
              "      <th>bore</th>\n",
              "      <th>stroke</th>\n",
              "      <th>...</th>\n",
              "      <th>40</th>\n",
              "      <th>41</th>\n",
              "      <th>42</th>\n",
              "      <th>43</th>\n",
              "      <th>44</th>\n",
              "      <th>45</th>\n",
              "      <th>46</th>\n",
              "      <th>47</th>\n",
              "      <th>48</th>\n",
              "      <th>49</th>\n",
              "    </tr>\n",
              "  </thead>\n",
              "  <tbody>\n",
              "    <tr>\n",
              "      <th>0</th>\n",
              "      <td>1</td>\n",
              "      <td>104</td>\n",
              "      <td>93.1</td>\n",
              "      <td>159.1</td>\n",
              "      <td>64.2</td>\n",
              "      <td>54.1</td>\n",
              "      <td>1905</td>\n",
              "      <td>91</td>\n",
              "      <td>3.03</td>\n",
              "      <td>3.15</td>\n",
              "      <td>...</td>\n",
              "      <td>1.0</td>\n",
              "      <td>0.0</td>\n",
              "      <td>0.0</td>\n",
              "      <td>0.0</td>\n",
              "      <td>0.0</td>\n",
              "      <td>1.0</td>\n",
              "      <td>0.0</td>\n",
              "      <td>0.0</td>\n",
              "      <td>0.0</td>\n",
              "      <td>0.0</td>\n",
              "    </tr>\n",
              "    <tr>\n",
              "      <th>1</th>\n",
              "      <td>-1</td>\n",
              "      <td>134</td>\n",
              "      <td>104.5</td>\n",
              "      <td>187.8</td>\n",
              "      <td>66.5</td>\n",
              "      <td>54.1</td>\n",
              "      <td>3151</td>\n",
              "      <td>161</td>\n",
              "      <td>3.27</td>\n",
              "      <td>3.35</td>\n",
              "      <td>...</td>\n",
              "      <td>0.0</td>\n",
              "      <td>1.0</td>\n",
              "      <td>0.0</td>\n",
              "      <td>0.0</td>\n",
              "      <td>0.0</td>\n",
              "      <td>0.0</td>\n",
              "      <td>0.0</td>\n",
              "      <td>0.0</td>\n",
              "      <td>1.0</td>\n",
              "      <td>0.0</td>\n",
              "    </tr>\n",
              "    <tr>\n",
              "      <th>2</th>\n",
              "      <td>2</td>\n",
              "      <td>134</td>\n",
              "      <td>99.8</td>\n",
              "      <td>177.3</td>\n",
              "      <td>66.3</td>\n",
              "      <td>53.1</td>\n",
              "      <td>2507</td>\n",
              "      <td>136</td>\n",
              "      <td>3.19</td>\n",
              "      <td>3.40</td>\n",
              "      <td>...</td>\n",
              "      <td>0.0</td>\n",
              "      <td>0.0</td>\n",
              "      <td>0.0</td>\n",
              "      <td>0.0</td>\n",
              "      <td>0.0</td>\n",
              "      <td>0.0</td>\n",
              "      <td>0.0</td>\n",
              "      <td>0.0</td>\n",
              "      <td>1.0</td>\n",
              "      <td>0.0</td>\n",
              "    </tr>\n",
              "    <tr>\n",
              "      <th>3</th>\n",
              "      <td>2</td>\n",
              "      <td>121</td>\n",
              "      <td>88.4</td>\n",
              "      <td>141.1</td>\n",
              "      <td>60.3</td>\n",
              "      <td>53.2</td>\n",
              "      <td>1488</td>\n",
              "      <td>61</td>\n",
              "      <td>2.91</td>\n",
              "      <td>3.03</td>\n",
              "      <td>...</td>\n",
              "      <td>0.0</td>\n",
              "      <td>0.0</td>\n",
              "      <td>1.0</td>\n",
              "      <td>0.0</td>\n",
              "      <td>0.0</td>\n",
              "      <td>1.0</td>\n",
              "      <td>0.0</td>\n",
              "      <td>0.0</td>\n",
              "      <td>0.0</td>\n",
              "      <td>0.0</td>\n",
              "    </tr>\n",
              "    <tr>\n",
              "      <th>4</th>\n",
              "      <td>2</td>\n",
              "      <td>94</td>\n",
              "      <td>97.3</td>\n",
              "      <td>171.7</td>\n",
              "      <td>65.5</td>\n",
              "      <td>55.7</td>\n",
              "      <td>2300</td>\n",
              "      <td>109</td>\n",
              "      <td>3.19</td>\n",
              "      <td>3.40</td>\n",
              "      <td>...</td>\n",
              "      <td>1.0</td>\n",
              "      <td>0.0</td>\n",
              "      <td>0.0</td>\n",
              "      <td>0.0</td>\n",
              "      <td>0.0</td>\n",
              "      <td>0.0</td>\n",
              "      <td>0.0</td>\n",
              "      <td>0.0</td>\n",
              "      <td>1.0</td>\n",
              "      <td>0.0</td>\n",
              "    </tr>\n",
              "    <tr>\n",
              "      <th>5</th>\n",
              "      <td>2</td>\n",
              "      <td>134</td>\n",
              "      <td>98.4</td>\n",
              "      <td>176.2</td>\n",
              "      <td>65.6</td>\n",
              "      <td>52.0</td>\n",
              "      <td>2679</td>\n",
              "      <td>146</td>\n",
              "      <td>3.62</td>\n",
              "      <td>3.50</td>\n",
              "      <td>...</td>\n",
              "      <td>1.0</td>\n",
              "      <td>0.0</td>\n",
              "      <td>0.0</td>\n",
              "      <td>0.0</td>\n",
              "      <td>0.0</td>\n",
              "      <td>0.0</td>\n",
              "      <td>0.0</td>\n",
              "      <td>0.0</td>\n",
              "      <td>1.0</td>\n",
              "      <td>0.0</td>\n",
              "    </tr>\n",
              "    <tr>\n",
              "      <th>6</th>\n",
              "      <td>2</td>\n",
              "      <td>161</td>\n",
              "      <td>93.7</td>\n",
              "      <td>157.3</td>\n",
              "      <td>64.4</td>\n",
              "      <td>50.8</td>\n",
              "      <td>1918</td>\n",
              "      <td>92</td>\n",
              "      <td>2.97</td>\n",
              "      <td>3.23</td>\n",
              "      <td>...</td>\n",
              "      <td>1.0</td>\n",
              "      <td>0.0</td>\n",
              "      <td>0.0</td>\n",
              "      <td>0.0</td>\n",
              "      <td>0.0</td>\n",
              "      <td>1.0</td>\n",
              "      <td>0.0</td>\n",
              "      <td>0.0</td>\n",
              "      <td>0.0</td>\n",
              "      <td>0.0</td>\n",
              "    </tr>\n",
              "    <tr>\n",
              "      <th>7</th>\n",
              "      <td>0</td>\n",
              "      <td>81</td>\n",
              "      <td>95.7</td>\n",
              "      <td>169.7</td>\n",
              "      <td>63.6</td>\n",
              "      <td>59.1</td>\n",
              "      <td>2290</td>\n",
              "      <td>92</td>\n",
              "      <td>3.05</td>\n",
              "      <td>3.03</td>\n",
              "      <td>...</td>\n",
              "      <td>1.0</td>\n",
              "      <td>0.0</td>\n",
              "      <td>0.0</td>\n",
              "      <td>0.0</td>\n",
              "      <td>0.0</td>\n",
              "      <td>1.0</td>\n",
              "      <td>0.0</td>\n",
              "      <td>0.0</td>\n",
              "      <td>0.0</td>\n",
              "      <td>0.0</td>\n",
              "    </tr>\n",
              "    <tr>\n",
              "      <th>8</th>\n",
              "      <td>3</td>\n",
              "      <td>194</td>\n",
              "      <td>91.3</td>\n",
              "      <td>170.7</td>\n",
              "      <td>67.9</td>\n",
              "      <td>49.7</td>\n",
              "      <td>3071</td>\n",
              "      <td>181</td>\n",
              "      <td>3.43</td>\n",
              "      <td>3.27</td>\n",
              "      <td>...</td>\n",
              "      <td>0.0</td>\n",
              "      <td>1.0</td>\n",
              "      <td>0.0</td>\n",
              "      <td>0.0</td>\n",
              "      <td>0.0</td>\n",
              "      <td>0.0</td>\n",
              "      <td>0.0</td>\n",
              "      <td>0.0</td>\n",
              "      <td>1.0</td>\n",
              "      <td>0.0</td>\n",
              "    </tr>\n",
              "    <tr>\n",
              "      <th>9</th>\n",
              "      <td>1</td>\n",
              "      <td>101</td>\n",
              "      <td>93.7</td>\n",
              "      <td>150.0</td>\n",
              "      <td>64.0</td>\n",
              "      <td>52.6</td>\n",
              "      <td>1940</td>\n",
              "      <td>92</td>\n",
              "      <td>2.91</td>\n",
              "      <td>3.41</td>\n",
              "      <td>...</td>\n",
              "      <td>1.0</td>\n",
              "      <td>0.0</td>\n",
              "      <td>0.0</td>\n",
              "      <td>0.0</td>\n",
              "      <td>1.0</td>\n",
              "      <td>0.0</td>\n",
              "      <td>0.0</td>\n",
              "      <td>0.0</td>\n",
              "      <td>0.0</td>\n",
              "      <td>0.0</td>\n",
              "    </tr>\n",
              "    <tr>\n",
              "      <th>10</th>\n",
              "      <td>0</td>\n",
              "      <td>188</td>\n",
              "      <td>101.2</td>\n",
              "      <td>176.8</td>\n",
              "      <td>64.8</td>\n",
              "      <td>54.3</td>\n",
              "      <td>2710</td>\n",
              "      <td>164</td>\n",
              "      <td>3.31</td>\n",
              "      <td>3.19</td>\n",
              "      <td>...</td>\n",
              "      <td>0.0</td>\n",
              "      <td>1.0</td>\n",
              "      <td>0.0</td>\n",
              "      <td>0.0</td>\n",
              "      <td>0.0</td>\n",
              "      <td>0.0</td>\n",
              "      <td>0.0</td>\n",
              "      <td>0.0</td>\n",
              "      <td>1.0</td>\n",
              "      <td>0.0</td>\n",
              "    </tr>\n",
              "    <tr>\n",
              "      <th>11</th>\n",
              "      <td>1</td>\n",
              "      <td>134</td>\n",
              "      <td>98.4</td>\n",
              "      <td>175.7</td>\n",
              "      <td>72.3</td>\n",
              "      <td>50.5</td>\n",
              "      <td>3366</td>\n",
              "      <td>203</td>\n",
              "      <td>3.94</td>\n",
              "      <td>3.11</td>\n",
              "      <td>...</td>\n",
              "      <td>0.0</td>\n",
              "      <td>0.0</td>\n",
              "      <td>0.0</td>\n",
              "      <td>0.0</td>\n",
              "      <td>0.0</td>\n",
              "      <td>0.0</td>\n",
              "      <td>0.0</td>\n",
              "      <td>0.0</td>\n",
              "      <td>1.0</td>\n",
              "      <td>0.0</td>\n",
              "    </tr>\n",
              "    <tr>\n",
              "      <th>12</th>\n",
              "      <td>3</td>\n",
              "      <td>150</td>\n",
              "      <td>95.3</td>\n",
              "      <td>169.0</td>\n",
              "      <td>65.7</td>\n",
              "      <td>49.6</td>\n",
              "      <td>2380</td>\n",
              "      <td>70</td>\n",
              "      <td>3.19</td>\n",
              "      <td>3.40</td>\n",
              "      <td>...</td>\n",
              "      <td>0.0</td>\n",
              "      <td>0.0</td>\n",
              "      <td>0.0</td>\n",
              "      <td>1.0</td>\n",
              "      <td>0.0</td>\n",
              "      <td>0.0</td>\n",
              "      <td>1.0</td>\n",
              "      <td>0.0</td>\n",
              "      <td>0.0</td>\n",
              "      <td>0.0</td>\n",
              "    </tr>\n",
              "    <tr>\n",
              "      <th>13</th>\n",
              "      <td>0</td>\n",
              "      <td>134</td>\n",
              "      <td>104.9</td>\n",
              "      <td>175.0</td>\n",
              "      <td>66.1</td>\n",
              "      <td>54.4</td>\n",
              "      <td>2700</td>\n",
              "      <td>134</td>\n",
              "      <td>3.43</td>\n",
              "      <td>3.64</td>\n",
              "      <td>...</td>\n",
              "      <td>1.0</td>\n",
              "      <td>0.0</td>\n",
              "      <td>0.0</td>\n",
              "      <td>0.0</td>\n",
              "      <td>0.0</td>\n",
              "      <td>0.0</td>\n",
              "      <td>0.0</td>\n",
              "      <td>1.0</td>\n",
              "      <td>0.0</td>\n",
              "      <td>0.0</td>\n",
              "    </tr>\n",
              "    <tr>\n",
              "      <th>14</th>\n",
              "      <td>0</td>\n",
              "      <td>134</td>\n",
              "      <td>94.5</td>\n",
              "      <td>155.9</td>\n",
              "      <td>63.6</td>\n",
              "      <td>52.0</td>\n",
              "      <td>1909</td>\n",
              "      <td>90</td>\n",
              "      <td>3.03</td>\n",
              "      <td>3.11</td>\n",
              "      <td>...</td>\n",
              "      <td>1.0</td>\n",
              "      <td>0.0</td>\n",
              "      <td>0.0</td>\n",
              "      <td>0.0</td>\n",
              "      <td>0.0</td>\n",
              "      <td>1.0</td>\n",
              "      <td>0.0</td>\n",
              "      <td>0.0</td>\n",
              "      <td>0.0</td>\n",
              "      <td>0.0</td>\n",
              "    </tr>\n",
              "    <tr>\n",
              "      <th>15</th>\n",
              "      <td>2</td>\n",
              "      <td>134</td>\n",
              "      <td>98.4</td>\n",
              "      <td>176.2</td>\n",
              "      <td>65.6</td>\n",
              "      <td>52.0</td>\n",
              "      <td>2551</td>\n",
              "      <td>146</td>\n",
              "      <td>3.62</td>\n",
              "      <td>3.50</td>\n",
              "      <td>...</td>\n",
              "      <td>1.0</td>\n",
              "      <td>0.0</td>\n",
              "      <td>0.0</td>\n",
              "      <td>0.0</td>\n",
              "      <td>0.0</td>\n",
              "      <td>0.0</td>\n",
              "      <td>0.0</td>\n",
              "      <td>0.0</td>\n",
              "      <td>1.0</td>\n",
              "      <td>0.0</td>\n",
              "    </tr>\n",
              "    <tr>\n",
              "      <th>16</th>\n",
              "      <td>0</td>\n",
              "      <td>134</td>\n",
              "      <td>96.1</td>\n",
              "      <td>181.5</td>\n",
              "      <td>66.5</td>\n",
              "      <td>55.2</td>\n",
              "      <td>2579</td>\n",
              "      <td>132</td>\n",
              "      <td>3.46</td>\n",
              "      <td>3.90</td>\n",
              "      <td>...</td>\n",
              "      <td>1.0</td>\n",
              "      <td>0.0</td>\n",
              "      <td>0.0</td>\n",
              "      <td>0.0</td>\n",
              "      <td>0.0</td>\n",
              "      <td>0.0</td>\n",
              "      <td>0.0</td>\n",
              "      <td>0.0</td>\n",
              "      <td>1.0</td>\n",
              "      <td>0.0</td>\n",
              "    </tr>\n",
              "    <tr>\n",
              "      <th>17</th>\n",
              "      <td>1</td>\n",
              "      <td>134</td>\n",
              "      <td>105.8</td>\n",
              "      <td>192.7</td>\n",
              "      <td>71.4</td>\n",
              "      <td>55.7</td>\n",
              "      <td>2954</td>\n",
              "      <td>136</td>\n",
              "      <td>3.19</td>\n",
              "      <td>3.40</td>\n",
              "      <td>...</td>\n",
              "      <td>0.0</td>\n",
              "      <td>0.0</td>\n",
              "      <td>0.0</td>\n",
              "      <td>0.0</td>\n",
              "      <td>0.0</td>\n",
              "      <td>0.0</td>\n",
              "      <td>0.0</td>\n",
              "      <td>0.0</td>\n",
              "      <td>1.0</td>\n",
              "      <td>0.0</td>\n",
              "    </tr>\n",
              "    <tr>\n",
              "      <th>18</th>\n",
              "      <td>0</td>\n",
              "      <td>106</td>\n",
              "      <td>96.5</td>\n",
              "      <td>167.5</td>\n",
              "      <td>65.2</td>\n",
              "      <td>53.3</td>\n",
              "      <td>2236</td>\n",
              "      <td>110</td>\n",
              "      <td>3.15</td>\n",
              "      <td>3.58</td>\n",
              "      <td>...</td>\n",
              "      <td>1.0</td>\n",
              "      <td>0.0</td>\n",
              "      <td>0.0</td>\n",
              "      <td>0.0</td>\n",
              "      <td>1.0</td>\n",
              "      <td>0.0</td>\n",
              "      <td>0.0</td>\n",
              "      <td>0.0</td>\n",
              "      <td>0.0</td>\n",
              "      <td>0.0</td>\n",
              "    </tr>\n",
              "    <tr>\n",
              "      <th>19</th>\n",
              "      <td>1</td>\n",
              "      <td>74</td>\n",
              "      <td>95.7</td>\n",
              "      <td>158.7</td>\n",
              "      <td>63.6</td>\n",
              "      <td>54.5</td>\n",
              "      <td>2015</td>\n",
              "      <td>92</td>\n",
              "      <td>3.05</td>\n",
              "      <td>3.03</td>\n",
              "      <td>...</td>\n",
              "      <td>1.0</td>\n",
              "      <td>0.0</td>\n",
              "      <td>0.0</td>\n",
              "      <td>0.0</td>\n",
              "      <td>0.0</td>\n",
              "      <td>1.0</td>\n",
              "      <td>0.0</td>\n",
              "      <td>0.0</td>\n",
              "      <td>0.0</td>\n",
              "      <td>0.0</td>\n",
              "    </tr>\n",
              "    <tr>\n",
              "      <th>20</th>\n",
              "      <td>3</td>\n",
              "      <td>153</td>\n",
              "      <td>96.3</td>\n",
              "      <td>173.0</td>\n",
              "      <td>65.4</td>\n",
              "      <td>49.4</td>\n",
              "      <td>2370</td>\n",
              "      <td>110</td>\n",
              "      <td>3.17</td>\n",
              "      <td>3.46</td>\n",
              "      <td>...</td>\n",
              "      <td>1.0</td>\n",
              "      <td>0.0</td>\n",
              "      <td>0.0</td>\n",
              "      <td>0.0</td>\n",
              "      <td>0.0</td>\n",
              "      <td>0.0</td>\n",
              "      <td>0.0</td>\n",
              "      <td>0.0</td>\n",
              "      <td>0.0</td>\n",
              "      <td>1.0</td>\n",
              "    </tr>\n",
              "    <tr>\n",
              "      <th>21</th>\n",
              "      <td>0</td>\n",
              "      <td>161</td>\n",
              "      <td>107.9</td>\n",
              "      <td>186.7</td>\n",
              "      <td>68.4</td>\n",
              "      <td>56.7</td>\n",
              "      <td>3075</td>\n",
              "      <td>120</td>\n",
              "      <td>3.46</td>\n",
              "      <td>2.19</td>\n",
              "      <td>...</td>\n",
              "      <td>1.0</td>\n",
              "      <td>0.0</td>\n",
              "      <td>0.0</td>\n",
              "      <td>0.0</td>\n",
              "      <td>0.0</td>\n",
              "      <td>0.0</td>\n",
              "      <td>0.0</td>\n",
              "      <td>0.0</td>\n",
              "      <td>1.0</td>\n",
              "      <td>0.0</td>\n",
              "    </tr>\n",
              "    <tr>\n",
              "      <th>22</th>\n",
              "      <td>2</td>\n",
              "      <td>134</td>\n",
              "      <td>96.1</td>\n",
              "      <td>176.8</td>\n",
              "      <td>66.6</td>\n",
              "      <td>50.5</td>\n",
              "      <td>2460</td>\n",
              "      <td>132</td>\n",
              "      <td>3.46</td>\n",
              "      <td>3.90</td>\n",
              "      <td>...</td>\n",
              "      <td>1.0</td>\n",
              "      <td>0.0</td>\n",
              "      <td>0.0</td>\n",
              "      <td>0.0</td>\n",
              "      <td>0.0</td>\n",
              "      <td>0.0</td>\n",
              "      <td>0.0</td>\n",
              "      <td>0.0</td>\n",
              "      <td>1.0</td>\n",
              "      <td>0.0</td>\n",
              "    </tr>\n",
              "    <tr>\n",
              "      <th>23</th>\n",
              "      <td>2</td>\n",
              "      <td>134</td>\n",
              "      <td>98.4</td>\n",
              "      <td>176.2</td>\n",
              "      <td>65.6</td>\n",
              "      <td>52.0</td>\n",
              "      <td>2714</td>\n",
              "      <td>146</td>\n",
              "      <td>3.62</td>\n",
              "      <td>3.50</td>\n",
              "      <td>...</td>\n",
              "      <td>1.0</td>\n",
              "      <td>0.0</td>\n",
              "      <td>0.0</td>\n",
              "      <td>0.0</td>\n",
              "      <td>0.0</td>\n",
              "      <td>0.0</td>\n",
              "      <td>0.0</td>\n",
              "      <td>0.0</td>\n",
              "      <td>1.0</td>\n",
              "      <td>0.0</td>\n",
              "    </tr>\n",
              "    <tr>\n",
              "      <th>24</th>\n",
              "      <td>3</td>\n",
              "      <td>197</td>\n",
              "      <td>102.9</td>\n",
              "      <td>183.5</td>\n",
              "      <td>67.7</td>\n",
              "      <td>52.0</td>\n",
              "      <td>3016</td>\n",
              "      <td>171</td>\n",
              "      <td>3.27</td>\n",
              "      <td>3.35</td>\n",
              "      <td>...</td>\n",
              "      <td>0.0</td>\n",
              "      <td>1.0</td>\n",
              "      <td>0.0</td>\n",
              "      <td>0.0</td>\n",
              "      <td>0.0</td>\n",
              "      <td>0.0</td>\n",
              "      <td>0.0</td>\n",
              "      <td>0.0</td>\n",
              "      <td>1.0</td>\n",
              "      <td>0.0</td>\n",
              "    </tr>\n",
              "    <tr>\n",
              "      <th>25</th>\n",
              "      <td>2</td>\n",
              "      <td>83</td>\n",
              "      <td>93.7</td>\n",
              "      <td>156.9</td>\n",
              "      <td>63.4</td>\n",
              "      <td>53.7</td>\n",
              "      <td>2050</td>\n",
              "      <td>97</td>\n",
              "      <td>3.62</td>\n",
              "      <td>2.36</td>\n",
              "      <td>...</td>\n",
              "      <td>1.0</td>\n",
              "      <td>0.0</td>\n",
              "      <td>0.0</td>\n",
              "      <td>0.0</td>\n",
              "      <td>0.0</td>\n",
              "      <td>1.0</td>\n",
              "      <td>0.0</td>\n",
              "      <td>0.0</td>\n",
              "      <td>0.0</td>\n",
              "      <td>0.0</td>\n",
              "    </tr>\n",
              "    <tr>\n",
              "      <th>26</th>\n",
              "      <td>0</td>\n",
              "      <td>91</td>\n",
              "      <td>95.7</td>\n",
              "      <td>166.3</td>\n",
              "      <td>64.4</td>\n",
              "      <td>53.0</td>\n",
              "      <td>2081</td>\n",
              "      <td>98</td>\n",
              "      <td>3.19</td>\n",
              "      <td>3.03</td>\n",
              "      <td>...</td>\n",
              "      <td>1.0</td>\n",
              "      <td>0.0</td>\n",
              "      <td>0.0</td>\n",
              "      <td>0.0</td>\n",
              "      <td>0.0</td>\n",
              "      <td>1.0</td>\n",
              "      <td>0.0</td>\n",
              "      <td>0.0</td>\n",
              "      <td>0.0</td>\n",
              "      <td>0.0</td>\n",
              "    </tr>\n",
              "    <tr>\n",
              "      <th>27</th>\n",
              "      <td>0</td>\n",
              "      <td>134</td>\n",
              "      <td>114.2</td>\n",
              "      <td>198.9</td>\n",
              "      <td>68.4</td>\n",
              "      <td>56.7</td>\n",
              "      <td>3285</td>\n",
              "      <td>120</td>\n",
              "      <td>3.46</td>\n",
              "      <td>2.19</td>\n",
              "      <td>...</td>\n",
              "      <td>1.0</td>\n",
              "      <td>0.0</td>\n",
              "      <td>0.0</td>\n",
              "      <td>0.0</td>\n",
              "      <td>0.0</td>\n",
              "      <td>0.0</td>\n",
              "      <td>0.0</td>\n",
              "      <td>0.0</td>\n",
              "      <td>1.0</td>\n",
              "      <td>0.0</td>\n",
              "    </tr>\n",
              "    <tr>\n",
              "      <th>28</th>\n",
              "      <td>0</td>\n",
              "      <td>91</td>\n",
              "      <td>95.7</td>\n",
              "      <td>166.3</td>\n",
              "      <td>64.4</td>\n",
              "      <td>52.8</td>\n",
              "      <td>2122</td>\n",
              "      <td>98</td>\n",
              "      <td>3.19</td>\n",
              "      <td>3.03</td>\n",
              "      <td>...</td>\n",
              "      <td>1.0</td>\n",
              "      <td>0.0</td>\n",
              "      <td>0.0</td>\n",
              "      <td>0.0</td>\n",
              "      <td>0.0</td>\n",
              "      <td>1.0</td>\n",
              "      <td>0.0</td>\n",
              "      <td>0.0</td>\n",
              "      <td>0.0</td>\n",
              "      <td>0.0</td>\n",
              "    </tr>\n",
              "    <tr>\n",
              "      <th>29</th>\n",
              "      <td>1</td>\n",
              "      <td>128</td>\n",
              "      <td>94.5</td>\n",
              "      <td>165.3</td>\n",
              "      <td>63.8</td>\n",
              "      <td>54.5</td>\n",
              "      <td>1889</td>\n",
              "      <td>97</td>\n",
              "      <td>3.15</td>\n",
              "      <td>3.29</td>\n",
              "      <td>...</td>\n",
              "      <td>1.0</td>\n",
              "      <td>0.0</td>\n",
              "      <td>0.0</td>\n",
              "      <td>0.0</td>\n",
              "      <td>0.0</td>\n",
              "      <td>1.0</td>\n",
              "      <td>0.0</td>\n",
              "      <td>0.0</td>\n",
              "      <td>0.0</td>\n",
              "      <td>0.0</td>\n",
              "    </tr>\n",
              "    <tr>\n",
              "      <th>30</th>\n",
              "      <td>2</td>\n",
              "      <td>122</td>\n",
              "      <td>97.3</td>\n",
              "      <td>171.7</td>\n",
              "      <td>65.5</td>\n",
              "      <td>55.7</td>\n",
              "      <td>2209</td>\n",
              "      <td>109</td>\n",
              "      <td>3.19</td>\n",
              "      <td>3.40</td>\n",
              "      <td>...</td>\n",
              "      <td>1.0</td>\n",
              "      <td>0.0</td>\n",
              "      <td>0.0</td>\n",
              "      <td>0.0</td>\n",
              "      <td>0.0</td>\n",
              "      <td>0.0</td>\n",
              "      <td>0.0</td>\n",
              "      <td>0.0</td>\n",
              "      <td>1.0</td>\n",
              "      <td>0.0</td>\n",
              "    </tr>\n",
              "    <tr>\n",
              "      <th>31</th>\n",
              "      <td>0</td>\n",
              "      <td>134</td>\n",
              "      <td>100.4</td>\n",
              "      <td>183.1</td>\n",
              "      <td>66.9</td>\n",
              "      <td>55.1</td>\n",
              "      <td>2563</td>\n",
              "      <td>109</td>\n",
              "      <td>3.19</td>\n",
              "      <td>3.40</td>\n",
              "      <td>...</td>\n",
              "      <td>1.0</td>\n",
              "      <td>0.0</td>\n",
              "      <td>0.0</td>\n",
              "      <td>0.0</td>\n",
              "      <td>0.0</td>\n",
              "      <td>0.0</td>\n",
              "      <td>0.0</td>\n",
              "      <td>0.0</td>\n",
              "      <td>1.0</td>\n",
              "      <td>0.0</td>\n",
              "    </tr>\n",
              "    <tr>\n",
              "      <th>32</th>\n",
              "      <td>3</td>\n",
              "      <td>186</td>\n",
              "      <td>94.5</td>\n",
              "      <td>168.9</td>\n",
              "      <td>68.3</td>\n",
              "      <td>50.2</td>\n",
              "      <td>2778</td>\n",
              "      <td>151</td>\n",
              "      <td>3.94</td>\n",
              "      <td>3.11</td>\n",
              "      <td>...</td>\n",
              "      <td>1.0</td>\n",
              "      <td>0.0</td>\n",
              "      <td>0.0</td>\n",
              "      <td>0.0</td>\n",
              "      <td>0.0</td>\n",
              "      <td>0.0</td>\n",
              "      <td>0.0</td>\n",
              "      <td>0.0</td>\n",
              "      <td>1.0</td>\n",
              "      <td>0.0</td>\n",
              "    </tr>\n",
              "    <tr>\n",
              "      <th>33</th>\n",
              "      <td>-1</td>\n",
              "      <td>65</td>\n",
              "      <td>102.4</td>\n",
              "      <td>175.6</td>\n",
              "      <td>66.5</td>\n",
              "      <td>54.9</td>\n",
              "      <td>2326</td>\n",
              "      <td>122</td>\n",
              "      <td>3.31</td>\n",
              "      <td>3.54</td>\n",
              "      <td>...</td>\n",
              "      <td>1.0</td>\n",
              "      <td>0.0</td>\n",
              "      <td>0.0</td>\n",
              "      <td>0.0</td>\n",
              "      <td>0.0</td>\n",
              "      <td>0.0</td>\n",
              "      <td>0.0</td>\n",
              "      <td>0.0</td>\n",
              "      <td>1.0</td>\n",
              "      <td>0.0</td>\n",
              "    </tr>\n",
              "    <tr>\n",
              "      <th>34</th>\n",
              "      <td>1</td>\n",
              "      <td>122</td>\n",
              "      <td>94.5</td>\n",
              "      <td>165.3</td>\n",
              "      <td>63.8</td>\n",
              "      <td>54.5</td>\n",
              "      <td>1938</td>\n",
              "      <td>97</td>\n",
              "      <td>3.15</td>\n",
              "      <td>3.29</td>\n",
              "      <td>...</td>\n",
              "      <td>1.0</td>\n",
              "      <td>0.0</td>\n",
              "      <td>0.0</td>\n",
              "      <td>0.0</td>\n",
              "      <td>0.0</td>\n",
              "      <td>1.0</td>\n",
              "      <td>0.0</td>\n",
              "      <td>0.0</td>\n",
              "      <td>0.0</td>\n",
              "      <td>0.0</td>\n",
              "    </tr>\n",
              "    <tr>\n",
              "      <th>35</th>\n",
              "      <td>0</td>\n",
              "      <td>134</td>\n",
              "      <td>103.5</td>\n",
              "      <td>193.8</td>\n",
              "      <td>67.9</td>\n",
              "      <td>53.7</td>\n",
              "      <td>3380</td>\n",
              "      <td>209</td>\n",
              "      <td>3.62</td>\n",
              "      <td>3.39</td>\n",
              "      <td>...</td>\n",
              "      <td>0.0</td>\n",
              "      <td>1.0</td>\n",
              "      <td>0.0</td>\n",
              "      <td>0.0</td>\n",
              "      <td>0.0</td>\n",
              "      <td>0.0</td>\n",
              "      <td>0.0</td>\n",
              "      <td>0.0</td>\n",
              "      <td>1.0</td>\n",
              "      <td>0.0</td>\n",
              "    </tr>\n",
              "    <tr>\n",
              "      <th>36</th>\n",
              "      <td>3</td>\n",
              "      <td>134</td>\n",
              "      <td>94.5</td>\n",
              "      <td>159.3</td>\n",
              "      <td>64.2</td>\n",
              "      <td>55.6</td>\n",
              "      <td>2254</td>\n",
              "      <td>109</td>\n",
              "      <td>3.19</td>\n",
              "      <td>3.40</td>\n",
              "      <td>...</td>\n",
              "      <td>1.0</td>\n",
              "      <td>0.0</td>\n",
              "      <td>0.0</td>\n",
              "      <td>0.0</td>\n",
              "      <td>0.0</td>\n",
              "      <td>0.0</td>\n",
              "      <td>0.0</td>\n",
              "      <td>0.0</td>\n",
              "      <td>1.0</td>\n",
              "      <td>0.0</td>\n",
              "    </tr>\n",
              "    <tr>\n",
              "      <th>37</th>\n",
              "      <td>3</td>\n",
              "      <td>150</td>\n",
              "      <td>99.1</td>\n",
              "      <td>186.6</td>\n",
              "      <td>66.5</td>\n",
              "      <td>56.1</td>\n",
              "      <td>2808</td>\n",
              "      <td>121</td>\n",
              "      <td>3.54</td>\n",
              "      <td>3.07</td>\n",
              "      <td>...</td>\n",
              "      <td>1.0</td>\n",
              "      <td>0.0</td>\n",
              "      <td>0.0</td>\n",
              "      <td>0.0</td>\n",
              "      <td>0.0</td>\n",
              "      <td>0.0</td>\n",
              "      <td>0.0</td>\n",
              "      <td>0.0</td>\n",
              "      <td>1.0</td>\n",
              "      <td>0.0</td>\n",
              "    </tr>\n",
              "    <tr>\n",
              "      <th>38</th>\n",
              "      <td>1</td>\n",
              "      <td>118</td>\n",
              "      <td>93.7</td>\n",
              "      <td>157.3</td>\n",
              "      <td>63.8</td>\n",
              "      <td>50.8</td>\n",
              "      <td>1876</td>\n",
              "      <td>90</td>\n",
              "      <td>2.97</td>\n",
              "      <td>3.23</td>\n",
              "      <td>...</td>\n",
              "      <td>1.0</td>\n",
              "      <td>0.0</td>\n",
              "      <td>0.0</td>\n",
              "      <td>0.0</td>\n",
              "      <td>0.0</td>\n",
              "      <td>1.0</td>\n",
              "      <td>0.0</td>\n",
              "      <td>0.0</td>\n",
              "      <td>0.0</td>\n",
              "      <td>0.0</td>\n",
              "    </tr>\n",
              "    <tr>\n",
              "      <th>39</th>\n",
              "      <td>1</td>\n",
              "      <td>134</td>\n",
              "      <td>112.0</td>\n",
              "      <td>199.2</td>\n",
              "      <td>72.0</td>\n",
              "      <td>55.4</td>\n",
              "      <td>3715</td>\n",
              "      <td>304</td>\n",
              "      <td>3.80</td>\n",
              "      <td>3.35</td>\n",
              "      <td>...</td>\n",
              "      <td>0.0</td>\n",
              "      <td>0.0</td>\n",
              "      <td>0.0</td>\n",
              "      <td>0.0</td>\n",
              "      <td>0.0</td>\n",
              "      <td>0.0</td>\n",
              "      <td>0.0</td>\n",
              "      <td>0.0</td>\n",
              "      <td>1.0</td>\n",
              "      <td>0.0</td>\n",
              "    </tr>\n",
              "    <tr>\n",
              "      <th>40</th>\n",
              "      <td>1</td>\n",
              "      <td>134</td>\n",
              "      <td>94.5</td>\n",
              "      <td>155.9</td>\n",
              "      <td>63.6</td>\n",
              "      <td>52.0</td>\n",
              "      <td>1874</td>\n",
              "      <td>90</td>\n",
              "      <td>3.03</td>\n",
              "      <td>3.11</td>\n",
              "      <td>...</td>\n",
              "      <td>1.0</td>\n",
              "      <td>0.0</td>\n",
              "      <td>0.0</td>\n",
              "      <td>0.0</td>\n",
              "      <td>0.0</td>\n",
              "      <td>1.0</td>\n",
              "      <td>0.0</td>\n",
              "      <td>0.0</td>\n",
              "      <td>0.0</td>\n",
              "      <td>0.0</td>\n",
              "    </tr>\n",
              "  </tbody>\n",
              "</table>\n",
              "<p>41 rows × 64 columns</p>\n",
              "</div>\n",
              "      <button class=\"colab-df-convert\" onclick=\"convertToInteractive('df-d53aad07-1560-48ee-878a-66a2a611d5d6')\"\n",
              "              title=\"Convert this dataframe to an interactive table.\"\n",
              "              style=\"display:none;\">\n",
              "        \n",
              "  <svg xmlns=\"http://www.w3.org/2000/svg\" height=\"24px\"viewBox=\"0 0 24 24\"\n",
              "       width=\"24px\">\n",
              "    <path d=\"M0 0h24v24H0V0z\" fill=\"none\"/>\n",
              "    <path d=\"M18.56 5.44l.94 2.06.94-2.06 2.06-.94-2.06-.94-.94-2.06-.94 2.06-2.06.94zm-11 1L8.5 8.5l.94-2.06 2.06-.94-2.06-.94L8.5 2.5l-.94 2.06-2.06.94zm10 10l.94 2.06.94-2.06 2.06-.94-2.06-.94-.94-2.06-.94 2.06-2.06.94z\"/><path d=\"M17.41 7.96l-1.37-1.37c-.4-.4-.92-.59-1.43-.59-.52 0-1.04.2-1.43.59L10.3 9.45l-7.72 7.72c-.78.78-.78 2.05 0 2.83L4 21.41c.39.39.9.59 1.41.59.51 0 1.02-.2 1.41-.59l7.78-7.78 2.81-2.81c.8-.78.8-2.07 0-2.86zM5.41 20L4 18.59l7.72-7.72 1.47 1.35L5.41 20z\"/>\n",
              "  </svg>\n",
              "      </button>\n",
              "      \n",
              "  <style>\n",
              "    .colab-df-container {\n",
              "      display:flex;\n",
              "      flex-wrap:wrap;\n",
              "      gap: 12px;\n",
              "    }\n",
              "\n",
              "    .colab-df-convert {\n",
              "      background-color: #E8F0FE;\n",
              "      border: none;\n",
              "      border-radius: 50%;\n",
              "      cursor: pointer;\n",
              "      display: none;\n",
              "      fill: #1967D2;\n",
              "      height: 32px;\n",
              "      padding: 0 0 0 0;\n",
              "      width: 32px;\n",
              "    }\n",
              "\n",
              "    .colab-df-convert:hover {\n",
              "      background-color: #E2EBFA;\n",
              "      box-shadow: 0px 1px 2px rgba(60, 64, 67, 0.3), 0px 1px 3px 1px rgba(60, 64, 67, 0.15);\n",
              "      fill: #174EA6;\n",
              "    }\n",
              "\n",
              "    [theme=dark] .colab-df-convert {\n",
              "      background-color: #3B4455;\n",
              "      fill: #D2E3FC;\n",
              "    }\n",
              "\n",
              "    [theme=dark] .colab-df-convert:hover {\n",
              "      background-color: #434B5C;\n",
              "      box-shadow: 0px 1px 3px 1px rgba(0, 0, 0, 0.15);\n",
              "      filter: drop-shadow(0px 1px 2px rgba(0, 0, 0, 0.3));\n",
              "      fill: #FFFFFF;\n",
              "    }\n",
              "  </style>\n",
              "\n",
              "      <script>\n",
              "        const buttonEl =\n",
              "          document.querySelector('#df-d53aad07-1560-48ee-878a-66a2a611d5d6 button.colab-df-convert');\n",
              "        buttonEl.style.display =\n",
              "          google.colab.kernel.accessAllowed ? 'block' : 'none';\n",
              "\n",
              "        async function convertToInteractive(key) {\n",
              "          const element = document.querySelector('#df-d53aad07-1560-48ee-878a-66a2a611d5d6');\n",
              "          const dataTable =\n",
              "            await google.colab.kernel.invokeFunction('convertToInteractive',\n",
              "                                                     [key], {});\n",
              "          if (!dataTable) return;\n",
              "\n",
              "          const docLinkHtml = 'Like what you see? Visit the ' +\n",
              "            '<a target=\"_blank\" href=https://colab.research.google.com/notebooks/data_table.ipynb>data table notebook</a>'\n",
              "            + ' to learn more about interactive tables.';\n",
              "          element.innerHTML = '';\n",
              "          dataTable['output_type'] = 'display_data';\n",
              "          await google.colab.output.renderOutput(dataTable, element);\n",
              "          const docLink = document.createElement('div');\n",
              "          docLink.innerHTML = docLinkHtml;\n",
              "          element.appendChild(docLink);\n",
              "        }\n",
              "      </script>\n",
              "    </div>\n",
              "  </div>\n",
              "  "
            ]
          },
          "metadata": {},
          "execution_count": 102
        }
      ],
      "source": [
        "X_test"
      ]
    },
    {
      "cell_type": "code",
      "execution_count": 103,
      "metadata": {
        "colab": {
          "base_uri": "https://localhost:8080/"
        },
        "id": "XLRZS_XUaavb",
        "outputId": "bf79da02-af03-4d9e-bc36-32bb3e35ec93"
      },
      "outputs": [
        {
          "output_type": "execute_result",
          "data": {
            "text/plain": [
              "(164, 70)"
            ]
          },
          "metadata": {},
          "execution_count": 103
        }
      ],
      "source": [
        "X_train.shape"
      ]
    },
    {
      "cell_type": "code",
      "execution_count": 104,
      "metadata": {
        "colab": {
          "base_uri": "https://localhost:8080/"
        },
        "id": "1-ssWOJcuARc",
        "outputId": "3b68880e-7658-4f8a-f4a9-367c4defed9e"
      },
      "outputs": [
        {
          "output_type": "execute_result",
          "data": {
            "text/plain": [
              "(41, 64)"
            ]
          },
          "metadata": {},
          "execution_count": 104
        }
      ],
      "source": [
        "X_test.shape"
      ]
    },
    {
      "cell_type": "markdown",
      "metadata": {
        "id": "C0C4XuobhBqG"
      },
      "source": [
        "# Dimensionality reduction by PCA"
      ]
    },
    {
      "cell_type": "code",
      "execution_count": 105,
      "metadata": {
        "id": "YDVtDlLeae7j"
      },
      "outputs": [],
      "source": [
        "from sklearn.decomposition import PCA"
      ]
    },
    {
      "cell_type": "code",
      "execution_count": 106,
      "metadata": {
        "id": "wk9msuvwhqTE"
      },
      "outputs": [],
      "source": [
        "pca = PCA(n_components = 15, random_state = 1)"
      ]
    },
    {
      "cell_type": "code",
      "execution_count": 107,
      "metadata": {
        "colab": {
          "base_uri": "https://localhost:8080/"
        },
        "id": "ZQDSyP6khw2L",
        "outputId": "ef4c5999-9b29-439a-99a9-6f18a6217ce9"
      },
      "outputs": [
        {
          "output_type": "stream",
          "name": "stderr",
          "text": [
            "/usr/local/lib/python3.7/dist-packages/sklearn/utils/validation.py:1692: FutureWarning: Feature names only support names that are all strings. Got feature names with dtypes: ['int', 'str']. An error will be raised in 1.2.\n",
            "  FutureWarning,\n"
          ]
        }
      ],
      "source": [
        "X_train = pca.fit_transform(X_train)"
      ]
    },
    {
      "cell_type": "code",
      "execution_count": 108,
      "metadata": {
        "colab": {
          "base_uri": "https://localhost:8080/"
        },
        "id": "VzENFlm8uf3Z",
        "outputId": "b45ade4d-c23a-4f83-b423-5e019f79ecfe"
      },
      "outputs": [
        {
          "output_type": "stream",
          "name": "stderr",
          "text": [
            "/usr/local/lib/python3.7/dist-packages/sklearn/utils/validation.py:1692: FutureWarning: Feature names only support names that are all strings. Got feature names with dtypes: ['int', 'str']. An error will be raised in 1.2.\n",
            "  FutureWarning,\n"
          ]
        }
      ],
      "source": [
        "X_test = pca.fit_transform(X_test)"
      ]
    },
    {
      "cell_type": "code",
      "execution_count": 109,
      "metadata": {
        "colab": {
          "base_uri": "https://localhost:8080/"
        },
        "id": "MfvDIKmmiJyk",
        "outputId": "4b06ca79-55aa-4cea-eb4c-d32702058ed0"
      },
      "outputs": [
        {
          "output_type": "execute_result",
          "data": {
            "text/plain": [
              "(164, 15)"
            ]
          },
          "metadata": {},
          "execution_count": 109
        }
      ],
      "source": [
        "X_train.shape"
      ]
    },
    {
      "cell_type": "code",
      "execution_count": 110,
      "metadata": {
        "colab": {
          "base_uri": "https://localhost:8080/"
        },
        "id": "9WMS2aXLwuxp",
        "outputId": "0e8e4efc-c7a2-4858-eac2-01b630d79b2c"
      },
      "outputs": [
        {
          "output_type": "execute_result",
          "data": {
            "text/plain": [
              "(41, 15)"
            ]
          },
          "metadata": {},
          "execution_count": 110
        }
      ],
      "source": [
        "X_test.shape"
      ]
    },
    {
      "cell_type": "code",
      "execution_count": 111,
      "metadata": {
        "colab": {
          "base_uri": "https://localhost:8080/"
        },
        "id": "w-ivDd2aoNrA",
        "outputId": "2a55ed4d-22d1-4bec-a710-4093f1c7e716"
      },
      "outputs": [
        {
          "output_type": "execute_result",
          "data": {
            "text/plain": [
              "array([5.91227743e-01, 4.04742334e-01, 1.91255098e-03, 1.45982894e-03,\n",
              "       5.41114079e-04, 6.34014804e-05, 2.46404558e-05, 8.56486465e-06,\n",
              "       6.60724770e-06, 5.23547401e-06, 2.19535689e-06, 1.80440071e-06,\n",
              "       6.29328571e-07, 5.14454787e-07, 4.75091987e-07])"
            ]
          },
          "metadata": {},
          "execution_count": 111
        }
      ],
      "source": [
        "pca.explained_variance_ratio_"
      ]
    },
    {
      "cell_type": "code",
      "execution_count": 112,
      "metadata": {
        "colab": {
          "base_uri": "https://localhost:8080/"
        },
        "id": "_AVGENbvpNqj",
        "outputId": "d0c49e68-7343-42e3-e678-657d302b6387"
      },
      "outputs": [
        {
          "output_type": "execute_result",
          "data": {
            "text/plain": [
              "array([2.74016062e+05, 1.87585751e+05, 8.86409161e+02, 6.76586274e+02,\n",
              "       2.50789904e+02, 2.93846562e+01, 1.14201012e+01, 3.96955404e+00,\n",
              "       3.06225818e+00, 2.42648283e+00, 1.01748109e+00, 8.36284800e-01,\n",
              "       2.91674636e-01, 2.38434133e-01, 2.20190674e-01])"
            ]
          },
          "metadata": {},
          "execution_count": 112
        }
      ],
      "source": [
        "pca.explained_variance_"
      ]
    },
    {
      "cell_type": "code",
      "execution_count": 113,
      "metadata": {
        "id": "3TBZV9InpPGa"
      },
      "outputs": [],
      "source": [
        "X_train = pd.DataFrame(X_train)\n",
        "X_test = pd.DataFrame(X_test)"
      ]
    },
    {
      "cell_type": "code",
      "execution_count": 114,
      "metadata": {
        "colab": {
          "base_uri": "https://localhost:8080/",
          "height": 424
        },
        "id": "tRf57oe0pf87",
        "outputId": "c688026e-bd1e-4a53-b906-8b2e650cf613"
      },
      "outputs": [
        {
          "output_type": "execute_result",
          "data": {
            "text/plain": [
              "              0           1          2          3          4         5   \\\n",
              "0     -40.526582  457.733484  16.903075 -24.334373   4.657451  2.612517   \n",
              "1    1147.555635  430.839828  21.294593   4.322833  27.858052 -7.419413   \n",
              "2      19.864532  187.958844  10.540239 -20.854987  -6.174356 -8.061557   \n",
              "3     139.753275 -289.015236 -15.317831  10.615903 -25.335627  0.506578   \n",
              "4    -542.592468   67.107168  17.754182 -27.201454  14.452303  1.854804   \n",
              "..           ...         ...        ...        ...        ...       ...   \n",
              "159  1211.671049  -27.975673 -40.923888  -2.991212   7.092932  5.925039   \n",
              "160   376.495099 -485.229331  29.983663 -48.689201  -7.294960 -1.588530   \n",
              "161   139.953451  724.652878   2.012197 -32.888105 -13.602968 -2.535615   \n",
              "162  1405.947819  631.225435   1.993301  14.750169  28.489406  5.013124   \n",
              "163   508.108835   -2.982236   2.391214  -8.834566  -3.575305  8.660150   \n",
              "\n",
              "            6         7         8         9         10        11        12  \\\n",
              "0    -5.380851  0.938544 -2.192558  1.518468 -0.425625  0.629434  0.345928   \n",
              "1    -5.155062 -2.836797  0.013965 -0.261800 -0.560545  0.872001 -0.708911   \n",
              "2     0.634713  4.413346  1.812448  1.407212 -2.270115 -1.067742  0.032669   \n",
              "3    -2.002411 -0.518281  0.766155  0.477686  0.803966  0.842983 -0.350502   \n",
              "4     0.384641  2.234618  3.177277 -1.726710  1.314282  0.314873  0.541321   \n",
              "..         ...       ...       ...       ...       ...       ...       ...   \n",
              "159   4.349567 -0.844126 -4.757324 -0.450319 -0.242740  0.847293  0.120304   \n",
              "160  10.518966  1.870184 -1.623652  0.115089  0.614804  1.365018  0.386118   \n",
              "161   0.596995 -4.948352  2.786139  0.162336 -0.009945  0.251022  0.329504   \n",
              "162  -4.438810 -1.440157  3.520303 -2.578404  0.959516 -1.314911  0.488572   \n",
              "163  -1.620332  1.092857  3.948993 -0.422239 -0.220169 -1.556392 -0.386198   \n",
              "\n",
              "           13        14  \n",
              "0    1.152728 -0.341978  \n",
              "1    0.056052  0.201946  \n",
              "2   -0.371095 -0.040890  \n",
              "3    1.077507  0.339735  \n",
              "4    0.328151  0.428287  \n",
              "..        ...       ...  \n",
              "159 -0.201623 -0.152366  \n",
              "160 -0.155469  0.003422  \n",
              "161  0.488565  0.087348  \n",
              "162  0.811912  0.302861  \n",
              "163  0.317745 -0.918485  \n",
              "\n",
              "[164 rows x 15 columns]"
            ],
            "text/html": [
              "\n",
              "  <div id=\"df-5eb70ce4-476c-4aa8-aa5f-adccd9e26ae6\">\n",
              "    <div class=\"colab-df-container\">\n",
              "      <div>\n",
              "<style scoped>\n",
              "    .dataframe tbody tr th:only-of-type {\n",
              "        vertical-align: middle;\n",
              "    }\n",
              "\n",
              "    .dataframe tbody tr th {\n",
              "        vertical-align: top;\n",
              "    }\n",
              "\n",
              "    .dataframe thead th {\n",
              "        text-align: right;\n",
              "    }\n",
              "</style>\n",
              "<table border=\"1\" class=\"dataframe\">\n",
              "  <thead>\n",
              "    <tr style=\"text-align: right;\">\n",
              "      <th></th>\n",
              "      <th>0</th>\n",
              "      <th>1</th>\n",
              "      <th>2</th>\n",
              "      <th>3</th>\n",
              "      <th>4</th>\n",
              "      <th>5</th>\n",
              "      <th>6</th>\n",
              "      <th>7</th>\n",
              "      <th>8</th>\n",
              "      <th>9</th>\n",
              "      <th>10</th>\n",
              "      <th>11</th>\n",
              "      <th>12</th>\n",
              "      <th>13</th>\n",
              "      <th>14</th>\n",
              "    </tr>\n",
              "  </thead>\n",
              "  <tbody>\n",
              "    <tr>\n",
              "      <th>0</th>\n",
              "      <td>-40.526582</td>\n",
              "      <td>457.733484</td>\n",
              "      <td>16.903075</td>\n",
              "      <td>-24.334373</td>\n",
              "      <td>4.657451</td>\n",
              "      <td>2.612517</td>\n",
              "      <td>-5.380851</td>\n",
              "      <td>0.938544</td>\n",
              "      <td>-2.192558</td>\n",
              "      <td>1.518468</td>\n",
              "      <td>-0.425625</td>\n",
              "      <td>0.629434</td>\n",
              "      <td>0.345928</td>\n",
              "      <td>1.152728</td>\n",
              "      <td>-0.341978</td>\n",
              "    </tr>\n",
              "    <tr>\n",
              "      <th>1</th>\n",
              "      <td>1147.555635</td>\n",
              "      <td>430.839828</td>\n",
              "      <td>21.294593</td>\n",
              "      <td>4.322833</td>\n",
              "      <td>27.858052</td>\n",
              "      <td>-7.419413</td>\n",
              "      <td>-5.155062</td>\n",
              "      <td>-2.836797</td>\n",
              "      <td>0.013965</td>\n",
              "      <td>-0.261800</td>\n",
              "      <td>-0.560545</td>\n",
              "      <td>0.872001</td>\n",
              "      <td>-0.708911</td>\n",
              "      <td>0.056052</td>\n",
              "      <td>0.201946</td>\n",
              "    </tr>\n",
              "    <tr>\n",
              "      <th>2</th>\n",
              "      <td>19.864532</td>\n",
              "      <td>187.958844</td>\n",
              "      <td>10.540239</td>\n",
              "      <td>-20.854987</td>\n",
              "      <td>-6.174356</td>\n",
              "      <td>-8.061557</td>\n",
              "      <td>0.634713</td>\n",
              "      <td>4.413346</td>\n",
              "      <td>1.812448</td>\n",
              "      <td>1.407212</td>\n",
              "      <td>-2.270115</td>\n",
              "      <td>-1.067742</td>\n",
              "      <td>0.032669</td>\n",
              "      <td>-0.371095</td>\n",
              "      <td>-0.040890</td>\n",
              "    </tr>\n",
              "    <tr>\n",
              "      <th>3</th>\n",
              "      <td>139.753275</td>\n",
              "      <td>-289.015236</td>\n",
              "      <td>-15.317831</td>\n",
              "      <td>10.615903</td>\n",
              "      <td>-25.335627</td>\n",
              "      <td>0.506578</td>\n",
              "      <td>-2.002411</td>\n",
              "      <td>-0.518281</td>\n",
              "      <td>0.766155</td>\n",
              "      <td>0.477686</td>\n",
              "      <td>0.803966</td>\n",
              "      <td>0.842983</td>\n",
              "      <td>-0.350502</td>\n",
              "      <td>1.077507</td>\n",
              "      <td>0.339735</td>\n",
              "    </tr>\n",
              "    <tr>\n",
              "      <th>4</th>\n",
              "      <td>-542.592468</td>\n",
              "      <td>67.107168</td>\n",
              "      <td>17.754182</td>\n",
              "      <td>-27.201454</td>\n",
              "      <td>14.452303</td>\n",
              "      <td>1.854804</td>\n",
              "      <td>0.384641</td>\n",
              "      <td>2.234618</td>\n",
              "      <td>3.177277</td>\n",
              "      <td>-1.726710</td>\n",
              "      <td>1.314282</td>\n",
              "      <td>0.314873</td>\n",
              "      <td>0.541321</td>\n",
              "      <td>0.328151</td>\n",
              "      <td>0.428287</td>\n",
              "    </tr>\n",
              "    <tr>\n",
              "      <th>...</th>\n",
              "      <td>...</td>\n",
              "      <td>...</td>\n",
              "      <td>...</td>\n",
              "      <td>...</td>\n",
              "      <td>...</td>\n",
              "      <td>...</td>\n",
              "      <td>...</td>\n",
              "      <td>...</td>\n",
              "      <td>...</td>\n",
              "      <td>...</td>\n",
              "      <td>...</td>\n",
              "      <td>...</td>\n",
              "      <td>...</td>\n",
              "      <td>...</td>\n",
              "      <td>...</td>\n",
              "    </tr>\n",
              "    <tr>\n",
              "      <th>159</th>\n",
              "      <td>1211.671049</td>\n",
              "      <td>-27.975673</td>\n",
              "      <td>-40.923888</td>\n",
              "      <td>-2.991212</td>\n",
              "      <td>7.092932</td>\n",
              "      <td>5.925039</td>\n",
              "      <td>4.349567</td>\n",
              "      <td>-0.844126</td>\n",
              "      <td>-4.757324</td>\n",
              "      <td>-0.450319</td>\n",
              "      <td>-0.242740</td>\n",
              "      <td>0.847293</td>\n",
              "      <td>0.120304</td>\n",
              "      <td>-0.201623</td>\n",
              "      <td>-0.152366</td>\n",
              "    </tr>\n",
              "    <tr>\n",
              "      <th>160</th>\n",
              "      <td>376.495099</td>\n",
              "      <td>-485.229331</td>\n",
              "      <td>29.983663</td>\n",
              "      <td>-48.689201</td>\n",
              "      <td>-7.294960</td>\n",
              "      <td>-1.588530</td>\n",
              "      <td>10.518966</td>\n",
              "      <td>1.870184</td>\n",
              "      <td>-1.623652</td>\n",
              "      <td>0.115089</td>\n",
              "      <td>0.614804</td>\n",
              "      <td>1.365018</td>\n",
              "      <td>0.386118</td>\n",
              "      <td>-0.155469</td>\n",
              "      <td>0.003422</td>\n",
              "    </tr>\n",
              "    <tr>\n",
              "      <th>161</th>\n",
              "      <td>139.953451</td>\n",
              "      <td>724.652878</td>\n",
              "      <td>2.012197</td>\n",
              "      <td>-32.888105</td>\n",
              "      <td>-13.602968</td>\n",
              "      <td>-2.535615</td>\n",
              "      <td>0.596995</td>\n",
              "      <td>-4.948352</td>\n",
              "      <td>2.786139</td>\n",
              "      <td>0.162336</td>\n",
              "      <td>-0.009945</td>\n",
              "      <td>0.251022</td>\n",
              "      <td>0.329504</td>\n",
              "      <td>0.488565</td>\n",
              "      <td>0.087348</td>\n",
              "    </tr>\n",
              "    <tr>\n",
              "      <th>162</th>\n",
              "      <td>1405.947819</td>\n",
              "      <td>631.225435</td>\n",
              "      <td>1.993301</td>\n",
              "      <td>14.750169</td>\n",
              "      <td>28.489406</td>\n",
              "      <td>5.013124</td>\n",
              "      <td>-4.438810</td>\n",
              "      <td>-1.440157</td>\n",
              "      <td>3.520303</td>\n",
              "      <td>-2.578404</td>\n",
              "      <td>0.959516</td>\n",
              "      <td>-1.314911</td>\n",
              "      <td>0.488572</td>\n",
              "      <td>0.811912</td>\n",
              "      <td>0.302861</td>\n",
              "    </tr>\n",
              "    <tr>\n",
              "      <th>163</th>\n",
              "      <td>508.108835</td>\n",
              "      <td>-2.982236</td>\n",
              "      <td>2.391214</td>\n",
              "      <td>-8.834566</td>\n",
              "      <td>-3.575305</td>\n",
              "      <td>8.660150</td>\n",
              "      <td>-1.620332</td>\n",
              "      <td>1.092857</td>\n",
              "      <td>3.948993</td>\n",
              "      <td>-0.422239</td>\n",
              "      <td>-0.220169</td>\n",
              "      <td>-1.556392</td>\n",
              "      <td>-0.386198</td>\n",
              "      <td>0.317745</td>\n",
              "      <td>-0.918485</td>\n",
              "    </tr>\n",
              "  </tbody>\n",
              "</table>\n",
              "<p>164 rows × 15 columns</p>\n",
              "</div>\n",
              "      <button class=\"colab-df-convert\" onclick=\"convertToInteractive('df-5eb70ce4-476c-4aa8-aa5f-adccd9e26ae6')\"\n",
              "              title=\"Convert this dataframe to an interactive table.\"\n",
              "              style=\"display:none;\">\n",
              "        \n",
              "  <svg xmlns=\"http://www.w3.org/2000/svg\" height=\"24px\"viewBox=\"0 0 24 24\"\n",
              "       width=\"24px\">\n",
              "    <path d=\"M0 0h24v24H0V0z\" fill=\"none\"/>\n",
              "    <path d=\"M18.56 5.44l.94 2.06.94-2.06 2.06-.94-2.06-.94-.94-2.06-.94 2.06-2.06.94zm-11 1L8.5 8.5l.94-2.06 2.06-.94-2.06-.94L8.5 2.5l-.94 2.06-2.06.94zm10 10l.94 2.06.94-2.06 2.06-.94-2.06-.94-.94-2.06-.94 2.06-2.06.94z\"/><path d=\"M17.41 7.96l-1.37-1.37c-.4-.4-.92-.59-1.43-.59-.52 0-1.04.2-1.43.59L10.3 9.45l-7.72 7.72c-.78.78-.78 2.05 0 2.83L4 21.41c.39.39.9.59 1.41.59.51 0 1.02-.2 1.41-.59l7.78-7.78 2.81-2.81c.8-.78.8-2.07 0-2.86zM5.41 20L4 18.59l7.72-7.72 1.47 1.35L5.41 20z\"/>\n",
              "  </svg>\n",
              "      </button>\n",
              "      \n",
              "  <style>\n",
              "    .colab-df-container {\n",
              "      display:flex;\n",
              "      flex-wrap:wrap;\n",
              "      gap: 12px;\n",
              "    }\n",
              "\n",
              "    .colab-df-convert {\n",
              "      background-color: #E8F0FE;\n",
              "      border: none;\n",
              "      border-radius: 50%;\n",
              "      cursor: pointer;\n",
              "      display: none;\n",
              "      fill: #1967D2;\n",
              "      height: 32px;\n",
              "      padding: 0 0 0 0;\n",
              "      width: 32px;\n",
              "    }\n",
              "\n",
              "    .colab-df-convert:hover {\n",
              "      background-color: #E2EBFA;\n",
              "      box-shadow: 0px 1px 2px rgba(60, 64, 67, 0.3), 0px 1px 3px 1px rgba(60, 64, 67, 0.15);\n",
              "      fill: #174EA6;\n",
              "    }\n",
              "\n",
              "    [theme=dark] .colab-df-convert {\n",
              "      background-color: #3B4455;\n",
              "      fill: #D2E3FC;\n",
              "    }\n",
              "\n",
              "    [theme=dark] .colab-df-convert:hover {\n",
              "      background-color: #434B5C;\n",
              "      box-shadow: 0px 1px 3px 1px rgba(0, 0, 0, 0.15);\n",
              "      filter: drop-shadow(0px 1px 2px rgba(0, 0, 0, 0.3));\n",
              "      fill: #FFFFFF;\n",
              "    }\n",
              "  </style>\n",
              "\n",
              "      <script>\n",
              "        const buttonEl =\n",
              "          document.querySelector('#df-5eb70ce4-476c-4aa8-aa5f-adccd9e26ae6 button.colab-df-convert');\n",
              "        buttonEl.style.display =\n",
              "          google.colab.kernel.accessAllowed ? 'block' : 'none';\n",
              "\n",
              "        async function convertToInteractive(key) {\n",
              "          const element = document.querySelector('#df-5eb70ce4-476c-4aa8-aa5f-adccd9e26ae6');\n",
              "          const dataTable =\n",
              "            await google.colab.kernel.invokeFunction('convertToInteractive',\n",
              "                                                     [key], {});\n",
              "          if (!dataTable) return;\n",
              "\n",
              "          const docLinkHtml = 'Like what you see? Visit the ' +\n",
              "            '<a target=\"_blank\" href=https://colab.research.google.com/notebooks/data_table.ipynb>data table notebook</a>'\n",
              "            + ' to learn more about interactive tables.';\n",
              "          element.innerHTML = '';\n",
              "          dataTable['output_type'] = 'display_data';\n",
              "          await google.colab.output.renderOutput(dataTable, element);\n",
              "          const docLink = document.createElement('div');\n",
              "          docLink.innerHTML = docLinkHtml;\n",
              "          element.appendChild(docLink);\n",
              "        }\n",
              "      </script>\n",
              "    </div>\n",
              "  </div>\n",
              "  "
            ]
          },
          "metadata": {},
          "execution_count": 114
        }
      ],
      "source": [
        "X_train"
      ]
    },
    {
      "cell_type": "code",
      "execution_count": 115,
      "metadata": {
        "colab": {
          "base_uri": "https://localhost:8080/",
          "height": 1000
        },
        "id": "J_R1dREPw6or",
        "outputId": "b3521a50-a302-4aa1-8fa0-ededa210004f"
      },
      "outputs": [
        {
          "output_type": "execute_result",
          "data": {
            "text/plain": [
              "             0           1          2          3          4          5   \\\n",
              "0   -477.169587  367.491894  -8.847697  -8.187126  -3.253791  -0.574061   \n",
              "1    638.003349 -235.091717  11.579670 -13.494481  -9.806306   0.534580   \n",
              "2    -70.418225 -304.668719  -2.123759  -2.715271  13.678669  -5.758781   \n",
              "3   -905.166057  410.757335 -23.156836  17.204038  -8.619591   7.233567   \n",
              "4   -268.321337 -235.020396   8.673954 -34.986832   0.667168  -2.405748   \n",
              "5    323.353116  298.903738  -6.166989   3.635894  -2.993068   0.776799   \n",
              "6   -628.974361 -109.788948 -13.329140  40.447958  10.336974   0.360706   \n",
              "7    -50.242671  430.895685  38.067640 -29.019843  -6.798026   3.375757   \n",
              "8    565.429832 -210.766217 -28.056888  42.419469   2.239648  12.524404   \n",
              "9   -774.493803 -587.464562   3.315613 -26.105830  18.239643   9.850805   \n",
              "10   537.066340  805.689191 -37.649775  59.869386  -6.904811  -5.020578   \n",
              "11   668.768407 -831.093410 -82.952239 -50.763566 -49.944197   5.995768   \n",
              "12  -359.992947 -733.875154  35.184275  17.998444 -17.484289   0.873312   \n",
              "13   537.747854  860.331942  26.846982  21.169075  -0.578917   8.953680   \n",
              "14  -605.026768  -11.888060 -10.147261  15.468178   4.899259   2.510737   \n",
              "15   203.229936  340.798270 -19.293251   4.181311  -1.746599  -4.001779   \n",
              "16    -2.766486 -328.462410   3.508970  -3.629087   5.905469  -5.878752   \n",
              "17   349.478209 -451.064230  45.857728  -5.193285  10.367548  -4.928137   \n",
              "18  -428.174558 -496.635084  13.124979 -24.620385  18.570265   1.410037   \n",
              "19  -308.779058  521.174085   9.896396 -34.258496  -4.941082   5.323884   \n",
              "20  -200.248457 -260.252833  -9.614572  19.261153  -9.401335  -6.244975   \n",
              "21   626.702150  -18.795949  65.204602  32.343126  -6.979083   4.218384   \n",
              "22  -114.549784 -289.496674  -9.420031  -2.855716   6.772740  -5.514090   \n",
              "23   356.198786  287.447808  -2.582217   3.489879  -3.351010   2.114461   \n",
              "24   513.610090 -192.844106 -26.649830  46.287596  -4.317694  -4.266490   \n",
              "25  -308.035146  414.764701   4.467029 -28.844414  -3.362139   7.192247   \n",
              "26  -245.369201  498.630056   4.139057 -20.438808  -5.655624  -1.523651   \n",
              "27   823.503605  -86.914190  94.375339   4.817480  -8.150323   0.974892   \n",
              "28  -206.861260  485.190100   8.401940 -20.619414  -5.948888  -0.539115   \n",
              "29  -557.114999  183.326685 -16.335898  11.325087   6.571351  -8.580437   \n",
              "30  -271.421287   30.601004   0.334333  -1.323067   4.401552  -5.735466   \n",
              "31   -21.078327 -321.598188  37.133957   4.577510   6.433511  -4.815239   \n",
              "32   187.904824 -396.420205 -20.690377  39.092256   0.766807   6.806324   \n",
              "33   185.663211  983.590361  -3.670081 -46.389628 -18.490756  -6.413061   \n",
              "34  -511.261818  167.441042  -9.979133   5.272267   6.084532  -6.421569   \n",
              "35   791.990557 -500.562567 -10.132706 -28.720098  13.956353  -0.534464   \n",
              "36  -311.494336 -220.438110   1.069090   6.220838   6.847370   6.352146   \n",
              "37   214.592866 -405.908928  -1.212552   4.587042 -32.149355  -9.890054   \n",
              "38  -669.445715  -94.949904  -6.889781  -0.937903   9.353909   0.597350   \n",
              "39  1411.036424  237.400610 -48.514814 -32.207515  59.538096  -0.155723   \n",
              "40  -637.873365   -0.433948 -13.765726  15.642780   5.246019   1.222331   \n",
              "\n",
              "          6         7         8         9         10        11        12  \\\n",
              "0  -1.457415  0.114943 -0.349150  0.325373  0.895449 -0.190189 -0.698314   \n",
              "1   0.707589 -0.349532 -0.630189 -0.066489 -2.996695 -0.916191 -0.640367   \n",
              "2  -3.066487 -1.853491  1.410567  0.739272 -0.137044  0.013072  0.659061   \n",
              "3   6.035624  1.044818 -3.594966 -0.684650 -0.357328  1.804603 -0.211674   \n",
              "4   0.423248  0.235111  0.495442  2.345843  0.310385  0.715415  1.123834   \n",
              "5  -1.582926  1.720725  0.741156 -1.387717 -0.423739  0.998193  0.791320   \n",
              "6   3.664310 -0.659338 -0.241455 -1.481661  0.635006  0.212245 -0.552089   \n",
              "7  -4.147084  2.860385 -2.473986  2.832138 -0.303538 -0.456572 -0.770838   \n",
              "8  -4.964690  5.448733 -0.334174 -0.575888  0.849416 -0.750571 -0.051983   \n",
              "9  -1.843179 -3.563289  0.470025  0.858990 -0.861591 -0.390823 -0.011445   \n",
              "10 -3.246508 -2.612448 -1.941670  1.274719 -1.342211 -1.571915  0.245048   \n",
              "11  5.145972 -2.035368 -0.145685  0.141355  1.199070 -0.892343  0.001849   \n",
              "12 -7.345664 -1.728021  4.157727 -0.350719 -0.527040 -0.297377 -0.423782   \n",
              "13  9.474499  0.332242  6.691008  3.805006 -0.192741  0.101843 -0.045653   \n",
              "14  5.164805 -0.978888 -1.180416 -1.090353 -0.579133 -1.243294  0.272754   \n",
              "15 -1.877715  0.634002  1.363210 -0.986212 -0.274299  0.867472  0.236864   \n",
              "16  2.223375  4.635223 -1.177313  1.203826 -0.097751 -1.203926 -0.171581   \n",
              "17  2.690012  0.284113 -0.156465 -0.485755  3.057748 -0.661370 -0.475771   \n",
              "18  1.297528  0.212663  0.502336 -0.118036 -1.006622 -0.379207 -0.374253   \n",
              "19 -1.633328 -0.412586 -0.598714 -0.760439  0.259186  0.488227 -0.310632   \n",
              "20 -1.873214 -0.229659  1.568299 -2.623798 -0.190557  1.095930 -0.048947   \n",
              "21 -0.488585 -2.573229 -2.686654 -0.199655  0.838266 -0.898333  0.462142   \n",
              "22  0.640727  2.573234  2.002240 -1.895414  0.246731  0.478321  0.319249   \n",
              "23 -1.539148  2.044323  0.649215 -1.608764 -0.435933  1.186583  0.476939   \n",
              "24 -0.411448 -2.620261  0.219056  0.296033 -0.416335  0.881796 -0.792427   \n",
              "25 -3.781782  0.152781 -0.170572 -0.390482  0.320779  1.359755 -0.470277   \n",
              "26 -0.681874  1.123003  0.480378 -1.565874  0.008045 -1.003735  0.226421   \n",
              "27  3.438935 -2.465293 -1.886375 -2.410689 -0.254710  1.115840  0.071984   \n",
              "28 -3.279362  0.694649  1.130667 -1.447495 -0.055403 -1.007188 -0.577882   \n",
              "29  0.433146 -0.256994 -0.105118  1.605563  0.038236 -0.539011 -0.206821   \n",
              "30  0.763629  0.069369 -0.782803  1.667700  1.004480  0.780968  0.919996   \n",
              "31  3.142053  2.251579 -0.669266  0.045652  0.323065 -0.739237  0.050205   \n",
              "32 -2.496381  0.954819  0.652086 -0.218842  1.613450 -0.537251  0.423172   \n",
              "33 -1.120599 -2.106196  0.485054 -1.610759  0.951736 -1.069593  0.649890   \n",
              "34  0.541587  0.338448 -0.229757  1.359801  0.027317 -0.799728 -0.135717   \n",
              "35  1.774108  2.537116 -0.899360 -0.435045 -2.633609  0.039129  0.782750   \n",
              "36 -5.417133 -2.030584 -1.742735  3.298524  0.362969  0.786173  0.970300   \n",
              "37 -0.180327  0.950032 -0.925926  3.003941 -0.046096  2.124635 -0.860183   \n",
              "38  0.544781 -1.002390  1.343226 -1.399299 -0.444776 -0.237344 -0.402306   \n",
              "39 -0.560788 -2.444263 -0.561032 -0.048154  0.910571  0.809279 -0.850133   \n",
              "40  4.889712 -1.290484 -0.877910 -0.961547 -0.274756 -0.074284  0.399297   \n",
              "\n",
              "          13        14  \n",
              "0  -0.199024 -0.611676  \n",
              "1   0.076293  1.108669  \n",
              "2   0.824436  0.297985  \n",
              "3   0.499157  0.562093  \n",
              "4   0.439097  0.486330  \n",
              "5  -0.256451  0.281741  \n",
              "6  -0.271703  0.016576  \n",
              "7  -0.086104  0.077447  \n",
              "8   0.644963  0.002038  \n",
              "9  -0.950744  0.008198  \n",
              "10 -0.284782 -0.383453  \n",
              "11 -0.032072 -0.241014  \n",
              "12  1.021111  0.025194  \n",
              "13 -0.036610 -0.159589  \n",
              "14  0.440648  0.187205  \n",
              "15 -0.644447  0.244515  \n",
              "16 -0.646667  0.192405  \n",
              "17  0.458788  0.737797  \n",
              "18 -0.952511 -0.611650  \n",
              "19 -0.003019  0.529271  \n",
              "20 -0.207623 -0.414589  \n",
              "21 -0.073033 -0.758137  \n",
              "22 -0.458352 -0.079677  \n",
              "23 -0.508726  0.145460  \n",
              "24 -0.051619  1.145854  \n",
              "25  0.668700 -0.740946  \n",
              "26  0.497645  0.055326  \n",
              "27 -0.029356 -0.388479  \n",
              "28 -0.212694  0.130425  \n",
              "29  0.394127 -0.683827  \n",
              "30  0.038115 -0.083127  \n",
              "31 -0.433603  0.353336  \n",
              "32 -0.621436 -0.164468  \n",
              "33 -0.316166  0.258773  \n",
              "34  0.636739 -0.110447  \n",
              "35  0.733956 -0.784016  \n",
              "36 -0.460349  0.549986  \n",
              "37 -0.214735 -0.610519  \n",
              "38 -0.175696 -0.204435  \n",
              "39  0.269958 -0.138105  \n",
              "40  0.483789 -0.228468  "
            ],
            "text/html": [
              "\n",
              "  <div id=\"df-08d816e7-5f43-4b99-8a76-bedfb3e5ecb1\">\n",
              "    <div class=\"colab-df-container\">\n",
              "      <div>\n",
              "<style scoped>\n",
              "    .dataframe tbody tr th:only-of-type {\n",
              "        vertical-align: middle;\n",
              "    }\n",
              "\n",
              "    .dataframe tbody tr th {\n",
              "        vertical-align: top;\n",
              "    }\n",
              "\n",
              "    .dataframe thead th {\n",
              "        text-align: right;\n",
              "    }\n",
              "</style>\n",
              "<table border=\"1\" class=\"dataframe\">\n",
              "  <thead>\n",
              "    <tr style=\"text-align: right;\">\n",
              "      <th></th>\n",
              "      <th>0</th>\n",
              "      <th>1</th>\n",
              "      <th>2</th>\n",
              "      <th>3</th>\n",
              "      <th>4</th>\n",
              "      <th>5</th>\n",
              "      <th>6</th>\n",
              "      <th>7</th>\n",
              "      <th>8</th>\n",
              "      <th>9</th>\n",
              "      <th>10</th>\n",
              "      <th>11</th>\n",
              "      <th>12</th>\n",
              "      <th>13</th>\n",
              "      <th>14</th>\n",
              "    </tr>\n",
              "  </thead>\n",
              "  <tbody>\n",
              "    <tr>\n",
              "      <th>0</th>\n",
              "      <td>-477.169587</td>\n",
              "      <td>367.491894</td>\n",
              "      <td>-8.847697</td>\n",
              "      <td>-8.187126</td>\n",
              "      <td>-3.253791</td>\n",
              "      <td>-0.574061</td>\n",
              "      <td>-1.457415</td>\n",
              "      <td>0.114943</td>\n",
              "      <td>-0.349150</td>\n",
              "      <td>0.325373</td>\n",
              "      <td>0.895449</td>\n",
              "      <td>-0.190189</td>\n",
              "      <td>-0.698314</td>\n",
              "      <td>-0.199024</td>\n",
              "      <td>-0.611676</td>\n",
              "    </tr>\n",
              "    <tr>\n",
              "      <th>1</th>\n",
              "      <td>638.003349</td>\n",
              "      <td>-235.091717</td>\n",
              "      <td>11.579670</td>\n",
              "      <td>-13.494481</td>\n",
              "      <td>-9.806306</td>\n",
              "      <td>0.534580</td>\n",
              "      <td>0.707589</td>\n",
              "      <td>-0.349532</td>\n",
              "      <td>-0.630189</td>\n",
              "      <td>-0.066489</td>\n",
              "      <td>-2.996695</td>\n",
              "      <td>-0.916191</td>\n",
              "      <td>-0.640367</td>\n",
              "      <td>0.076293</td>\n",
              "      <td>1.108669</td>\n",
              "    </tr>\n",
              "    <tr>\n",
              "      <th>2</th>\n",
              "      <td>-70.418225</td>\n",
              "      <td>-304.668719</td>\n",
              "      <td>-2.123759</td>\n",
              "      <td>-2.715271</td>\n",
              "      <td>13.678669</td>\n",
              "      <td>-5.758781</td>\n",
              "      <td>-3.066487</td>\n",
              "      <td>-1.853491</td>\n",
              "      <td>1.410567</td>\n",
              "      <td>0.739272</td>\n",
              "      <td>-0.137044</td>\n",
              "      <td>0.013072</td>\n",
              "      <td>0.659061</td>\n",
              "      <td>0.824436</td>\n",
              "      <td>0.297985</td>\n",
              "    </tr>\n",
              "    <tr>\n",
              "      <th>3</th>\n",
              "      <td>-905.166057</td>\n",
              "      <td>410.757335</td>\n",
              "      <td>-23.156836</td>\n",
              "      <td>17.204038</td>\n",
              "      <td>-8.619591</td>\n",
              "      <td>7.233567</td>\n",
              "      <td>6.035624</td>\n",
              "      <td>1.044818</td>\n",
              "      <td>-3.594966</td>\n",
              "      <td>-0.684650</td>\n",
              "      <td>-0.357328</td>\n",
              "      <td>1.804603</td>\n",
              "      <td>-0.211674</td>\n",
              "      <td>0.499157</td>\n",
              "      <td>0.562093</td>\n",
              "    </tr>\n",
              "    <tr>\n",
              "      <th>4</th>\n",
              "      <td>-268.321337</td>\n",
              "      <td>-235.020396</td>\n",
              "      <td>8.673954</td>\n",
              "      <td>-34.986832</td>\n",
              "      <td>0.667168</td>\n",
              "      <td>-2.405748</td>\n",
              "      <td>0.423248</td>\n",
              "      <td>0.235111</td>\n",
              "      <td>0.495442</td>\n",
              "      <td>2.345843</td>\n",
              "      <td>0.310385</td>\n",
              "      <td>0.715415</td>\n",
              "      <td>1.123834</td>\n",
              "      <td>0.439097</td>\n",
              "      <td>0.486330</td>\n",
              "    </tr>\n",
              "    <tr>\n",
              "      <th>5</th>\n",
              "      <td>323.353116</td>\n",
              "      <td>298.903738</td>\n",
              "      <td>-6.166989</td>\n",
              "      <td>3.635894</td>\n",
              "      <td>-2.993068</td>\n",
              "      <td>0.776799</td>\n",
              "      <td>-1.582926</td>\n",
              "      <td>1.720725</td>\n",
              "      <td>0.741156</td>\n",
              "      <td>-1.387717</td>\n",
              "      <td>-0.423739</td>\n",
              "      <td>0.998193</td>\n",
              "      <td>0.791320</td>\n",
              "      <td>-0.256451</td>\n",
              "      <td>0.281741</td>\n",
              "    </tr>\n",
              "    <tr>\n",
              "      <th>6</th>\n",
              "      <td>-628.974361</td>\n",
              "      <td>-109.788948</td>\n",
              "      <td>-13.329140</td>\n",
              "      <td>40.447958</td>\n",
              "      <td>10.336974</td>\n",
              "      <td>0.360706</td>\n",
              "      <td>3.664310</td>\n",
              "      <td>-0.659338</td>\n",
              "      <td>-0.241455</td>\n",
              "      <td>-1.481661</td>\n",
              "      <td>0.635006</td>\n",
              "      <td>0.212245</td>\n",
              "      <td>-0.552089</td>\n",
              "      <td>-0.271703</td>\n",
              "      <td>0.016576</td>\n",
              "    </tr>\n",
              "    <tr>\n",
              "      <th>7</th>\n",
              "      <td>-50.242671</td>\n",
              "      <td>430.895685</td>\n",
              "      <td>38.067640</td>\n",
              "      <td>-29.019843</td>\n",
              "      <td>-6.798026</td>\n",
              "      <td>3.375757</td>\n",
              "      <td>-4.147084</td>\n",
              "      <td>2.860385</td>\n",
              "      <td>-2.473986</td>\n",
              "      <td>2.832138</td>\n",
              "      <td>-0.303538</td>\n",
              "      <td>-0.456572</td>\n",
              "      <td>-0.770838</td>\n",
              "      <td>-0.086104</td>\n",
              "      <td>0.077447</td>\n",
              "    </tr>\n",
              "    <tr>\n",
              "      <th>8</th>\n",
              "      <td>565.429832</td>\n",
              "      <td>-210.766217</td>\n",
              "      <td>-28.056888</td>\n",
              "      <td>42.419469</td>\n",
              "      <td>2.239648</td>\n",
              "      <td>12.524404</td>\n",
              "      <td>-4.964690</td>\n",
              "      <td>5.448733</td>\n",
              "      <td>-0.334174</td>\n",
              "      <td>-0.575888</td>\n",
              "      <td>0.849416</td>\n",
              "      <td>-0.750571</td>\n",
              "      <td>-0.051983</td>\n",
              "      <td>0.644963</td>\n",
              "      <td>0.002038</td>\n",
              "    </tr>\n",
              "    <tr>\n",
              "      <th>9</th>\n",
              "      <td>-774.493803</td>\n",
              "      <td>-587.464562</td>\n",
              "      <td>3.315613</td>\n",
              "      <td>-26.105830</td>\n",
              "      <td>18.239643</td>\n",
              "      <td>9.850805</td>\n",
              "      <td>-1.843179</td>\n",
              "      <td>-3.563289</td>\n",
              "      <td>0.470025</td>\n",
              "      <td>0.858990</td>\n",
              "      <td>-0.861591</td>\n",
              "      <td>-0.390823</td>\n",
              "      <td>-0.011445</td>\n",
              "      <td>-0.950744</td>\n",
              "      <td>0.008198</td>\n",
              "    </tr>\n",
              "    <tr>\n",
              "      <th>10</th>\n",
              "      <td>537.066340</td>\n",
              "      <td>805.689191</td>\n",
              "      <td>-37.649775</td>\n",
              "      <td>59.869386</td>\n",
              "      <td>-6.904811</td>\n",
              "      <td>-5.020578</td>\n",
              "      <td>-3.246508</td>\n",
              "      <td>-2.612448</td>\n",
              "      <td>-1.941670</td>\n",
              "      <td>1.274719</td>\n",
              "      <td>-1.342211</td>\n",
              "      <td>-1.571915</td>\n",
              "      <td>0.245048</td>\n",
              "      <td>-0.284782</td>\n",
              "      <td>-0.383453</td>\n",
              "    </tr>\n",
              "    <tr>\n",
              "      <th>11</th>\n",
              "      <td>668.768407</td>\n",
              "      <td>-831.093410</td>\n",
              "      <td>-82.952239</td>\n",
              "      <td>-50.763566</td>\n",
              "      <td>-49.944197</td>\n",
              "      <td>5.995768</td>\n",
              "      <td>5.145972</td>\n",
              "      <td>-2.035368</td>\n",
              "      <td>-0.145685</td>\n",
              "      <td>0.141355</td>\n",
              "      <td>1.199070</td>\n",
              "      <td>-0.892343</td>\n",
              "      <td>0.001849</td>\n",
              "      <td>-0.032072</td>\n",
              "      <td>-0.241014</td>\n",
              "    </tr>\n",
              "    <tr>\n",
              "      <th>12</th>\n",
              "      <td>-359.992947</td>\n",
              "      <td>-733.875154</td>\n",
              "      <td>35.184275</td>\n",
              "      <td>17.998444</td>\n",
              "      <td>-17.484289</td>\n",
              "      <td>0.873312</td>\n",
              "      <td>-7.345664</td>\n",
              "      <td>-1.728021</td>\n",
              "      <td>4.157727</td>\n",
              "      <td>-0.350719</td>\n",
              "      <td>-0.527040</td>\n",
              "      <td>-0.297377</td>\n",
              "      <td>-0.423782</td>\n",
              "      <td>1.021111</td>\n",
              "      <td>0.025194</td>\n",
              "    </tr>\n",
              "    <tr>\n",
              "      <th>13</th>\n",
              "      <td>537.747854</td>\n",
              "      <td>860.331942</td>\n",
              "      <td>26.846982</td>\n",
              "      <td>21.169075</td>\n",
              "      <td>-0.578917</td>\n",
              "      <td>8.953680</td>\n",
              "      <td>9.474499</td>\n",
              "      <td>0.332242</td>\n",
              "      <td>6.691008</td>\n",
              "      <td>3.805006</td>\n",
              "      <td>-0.192741</td>\n",
              "      <td>0.101843</td>\n",
              "      <td>-0.045653</td>\n",
              "      <td>-0.036610</td>\n",
              "      <td>-0.159589</td>\n",
              "    </tr>\n",
              "    <tr>\n",
              "      <th>14</th>\n",
              "      <td>-605.026768</td>\n",
              "      <td>-11.888060</td>\n",
              "      <td>-10.147261</td>\n",
              "      <td>15.468178</td>\n",
              "      <td>4.899259</td>\n",
              "      <td>2.510737</td>\n",
              "      <td>5.164805</td>\n",
              "      <td>-0.978888</td>\n",
              "      <td>-1.180416</td>\n",
              "      <td>-1.090353</td>\n",
              "      <td>-0.579133</td>\n",
              "      <td>-1.243294</td>\n",
              "      <td>0.272754</td>\n",
              "      <td>0.440648</td>\n",
              "      <td>0.187205</td>\n",
              "    </tr>\n",
              "    <tr>\n",
              "      <th>15</th>\n",
              "      <td>203.229936</td>\n",
              "      <td>340.798270</td>\n",
              "      <td>-19.293251</td>\n",
              "      <td>4.181311</td>\n",
              "      <td>-1.746599</td>\n",
              "      <td>-4.001779</td>\n",
              "      <td>-1.877715</td>\n",
              "      <td>0.634002</td>\n",
              "      <td>1.363210</td>\n",
              "      <td>-0.986212</td>\n",
              "      <td>-0.274299</td>\n",
              "      <td>0.867472</td>\n",
              "      <td>0.236864</td>\n",
              "      <td>-0.644447</td>\n",
              "      <td>0.244515</td>\n",
              "    </tr>\n",
              "    <tr>\n",
              "      <th>16</th>\n",
              "      <td>-2.766486</td>\n",
              "      <td>-328.462410</td>\n",
              "      <td>3.508970</td>\n",
              "      <td>-3.629087</td>\n",
              "      <td>5.905469</td>\n",
              "      <td>-5.878752</td>\n",
              "      <td>2.223375</td>\n",
              "      <td>4.635223</td>\n",
              "      <td>-1.177313</td>\n",
              "      <td>1.203826</td>\n",
              "      <td>-0.097751</td>\n",
              "      <td>-1.203926</td>\n",
              "      <td>-0.171581</td>\n",
              "      <td>-0.646667</td>\n",
              "      <td>0.192405</td>\n",
              "    </tr>\n",
              "    <tr>\n",
              "      <th>17</th>\n",
              "      <td>349.478209</td>\n",
              "      <td>-451.064230</td>\n",
              "      <td>45.857728</td>\n",
              "      <td>-5.193285</td>\n",
              "      <td>10.367548</td>\n",
              "      <td>-4.928137</td>\n",
              "      <td>2.690012</td>\n",
              "      <td>0.284113</td>\n",
              "      <td>-0.156465</td>\n",
              "      <td>-0.485755</td>\n",
              "      <td>3.057748</td>\n",
              "      <td>-0.661370</td>\n",
              "      <td>-0.475771</td>\n",
              "      <td>0.458788</td>\n",
              "      <td>0.737797</td>\n",
              "    </tr>\n",
              "    <tr>\n",
              "      <th>18</th>\n",
              "      <td>-428.174558</td>\n",
              "      <td>-496.635084</td>\n",
              "      <td>13.124979</td>\n",
              "      <td>-24.620385</td>\n",
              "      <td>18.570265</td>\n",
              "      <td>1.410037</td>\n",
              "      <td>1.297528</td>\n",
              "      <td>0.212663</td>\n",
              "      <td>0.502336</td>\n",
              "      <td>-0.118036</td>\n",
              "      <td>-1.006622</td>\n",
              "      <td>-0.379207</td>\n",
              "      <td>-0.374253</td>\n",
              "      <td>-0.952511</td>\n",
              "      <td>-0.611650</td>\n",
              "    </tr>\n",
              "    <tr>\n",
              "      <th>19</th>\n",
              "      <td>-308.779058</td>\n",
              "      <td>521.174085</td>\n",
              "      <td>9.896396</td>\n",
              "      <td>-34.258496</td>\n",
              "      <td>-4.941082</td>\n",
              "      <td>5.323884</td>\n",
              "      <td>-1.633328</td>\n",
              "      <td>-0.412586</td>\n",
              "      <td>-0.598714</td>\n",
              "      <td>-0.760439</td>\n",
              "      <td>0.259186</td>\n",
              "      <td>0.488227</td>\n",
              "      <td>-0.310632</td>\n",
              "      <td>-0.003019</td>\n",
              "      <td>0.529271</td>\n",
              "    </tr>\n",
              "    <tr>\n",
              "      <th>20</th>\n",
              "      <td>-200.248457</td>\n",
              "      <td>-260.252833</td>\n",
              "      <td>-9.614572</td>\n",
              "      <td>19.261153</td>\n",
              "      <td>-9.401335</td>\n",
              "      <td>-6.244975</td>\n",
              "      <td>-1.873214</td>\n",
              "      <td>-0.229659</td>\n",
              "      <td>1.568299</td>\n",
              "      <td>-2.623798</td>\n",
              "      <td>-0.190557</td>\n",
              "      <td>1.095930</td>\n",
              "      <td>-0.048947</td>\n",
              "      <td>-0.207623</td>\n",
              "      <td>-0.414589</td>\n",
              "    </tr>\n",
              "    <tr>\n",
              "      <th>21</th>\n",
              "      <td>626.702150</td>\n",
              "      <td>-18.795949</td>\n",
              "      <td>65.204602</td>\n",
              "      <td>32.343126</td>\n",
              "      <td>-6.979083</td>\n",
              "      <td>4.218384</td>\n",
              "      <td>-0.488585</td>\n",
              "      <td>-2.573229</td>\n",
              "      <td>-2.686654</td>\n",
              "      <td>-0.199655</td>\n",
              "      <td>0.838266</td>\n",
              "      <td>-0.898333</td>\n",
              "      <td>0.462142</td>\n",
              "      <td>-0.073033</td>\n",
              "      <td>-0.758137</td>\n",
              "    </tr>\n",
              "    <tr>\n",
              "      <th>22</th>\n",
              "      <td>-114.549784</td>\n",
              "      <td>-289.496674</td>\n",
              "      <td>-9.420031</td>\n",
              "      <td>-2.855716</td>\n",
              "      <td>6.772740</td>\n",
              "      <td>-5.514090</td>\n",
              "      <td>0.640727</td>\n",
              "      <td>2.573234</td>\n",
              "      <td>2.002240</td>\n",
              "      <td>-1.895414</td>\n",
              "      <td>0.246731</td>\n",
              "      <td>0.478321</td>\n",
              "      <td>0.319249</td>\n",
              "      <td>-0.458352</td>\n",
              "      <td>-0.079677</td>\n",
              "    </tr>\n",
              "    <tr>\n",
              "      <th>23</th>\n",
              "      <td>356.198786</td>\n",
              "      <td>287.447808</td>\n",
              "      <td>-2.582217</td>\n",
              "      <td>3.489879</td>\n",
              "      <td>-3.351010</td>\n",
              "      <td>2.114461</td>\n",
              "      <td>-1.539148</td>\n",
              "      <td>2.044323</td>\n",
              "      <td>0.649215</td>\n",
              "      <td>-1.608764</td>\n",
              "      <td>-0.435933</td>\n",
              "      <td>1.186583</td>\n",
              "      <td>0.476939</td>\n",
              "      <td>-0.508726</td>\n",
              "      <td>0.145460</td>\n",
              "    </tr>\n",
              "    <tr>\n",
              "      <th>24</th>\n",
              "      <td>513.610090</td>\n",
              "      <td>-192.844106</td>\n",
              "      <td>-26.649830</td>\n",
              "      <td>46.287596</td>\n",
              "      <td>-4.317694</td>\n",
              "      <td>-4.266490</td>\n",
              "      <td>-0.411448</td>\n",
              "      <td>-2.620261</td>\n",
              "      <td>0.219056</td>\n",
              "      <td>0.296033</td>\n",
              "      <td>-0.416335</td>\n",
              "      <td>0.881796</td>\n",
              "      <td>-0.792427</td>\n",
              "      <td>-0.051619</td>\n",
              "      <td>1.145854</td>\n",
              "    </tr>\n",
              "    <tr>\n",
              "      <th>25</th>\n",
              "      <td>-308.035146</td>\n",
              "      <td>414.764701</td>\n",
              "      <td>4.467029</td>\n",
              "      <td>-28.844414</td>\n",
              "      <td>-3.362139</td>\n",
              "      <td>7.192247</td>\n",
              "      <td>-3.781782</td>\n",
              "      <td>0.152781</td>\n",
              "      <td>-0.170572</td>\n",
              "      <td>-0.390482</td>\n",
              "      <td>0.320779</td>\n",
              "      <td>1.359755</td>\n",
              "      <td>-0.470277</td>\n",
              "      <td>0.668700</td>\n",
              "      <td>-0.740946</td>\n",
              "    </tr>\n",
              "    <tr>\n",
              "      <th>26</th>\n",
              "      <td>-245.369201</td>\n",
              "      <td>498.630056</td>\n",
              "      <td>4.139057</td>\n",
              "      <td>-20.438808</td>\n",
              "      <td>-5.655624</td>\n",
              "      <td>-1.523651</td>\n",
              "      <td>-0.681874</td>\n",
              "      <td>1.123003</td>\n",
              "      <td>0.480378</td>\n",
              "      <td>-1.565874</td>\n",
              "      <td>0.008045</td>\n",
              "      <td>-1.003735</td>\n",
              "      <td>0.226421</td>\n",
              "      <td>0.497645</td>\n",
              "      <td>0.055326</td>\n",
              "    </tr>\n",
              "    <tr>\n",
              "      <th>27</th>\n",
              "      <td>823.503605</td>\n",
              "      <td>-86.914190</td>\n",
              "      <td>94.375339</td>\n",
              "      <td>4.817480</td>\n",
              "      <td>-8.150323</td>\n",
              "      <td>0.974892</td>\n",
              "      <td>3.438935</td>\n",
              "      <td>-2.465293</td>\n",
              "      <td>-1.886375</td>\n",
              "      <td>-2.410689</td>\n",
              "      <td>-0.254710</td>\n",
              "      <td>1.115840</td>\n",
              "      <td>0.071984</td>\n",
              "      <td>-0.029356</td>\n",
              "      <td>-0.388479</td>\n",
              "    </tr>\n",
              "    <tr>\n",
              "      <th>28</th>\n",
              "      <td>-206.861260</td>\n",
              "      <td>485.190100</td>\n",
              "      <td>8.401940</td>\n",
              "      <td>-20.619414</td>\n",
              "      <td>-5.948888</td>\n",
              "      <td>-0.539115</td>\n",
              "      <td>-3.279362</td>\n",
              "      <td>0.694649</td>\n",
              "      <td>1.130667</td>\n",
              "      <td>-1.447495</td>\n",
              "      <td>-0.055403</td>\n",
              "      <td>-1.007188</td>\n",
              "      <td>-0.577882</td>\n",
              "      <td>-0.212694</td>\n",
              "      <td>0.130425</td>\n",
              "    </tr>\n",
              "    <tr>\n",
              "      <th>29</th>\n",
              "      <td>-557.114999</td>\n",
              "      <td>183.326685</td>\n",
              "      <td>-16.335898</td>\n",
              "      <td>11.325087</td>\n",
              "      <td>6.571351</td>\n",
              "      <td>-8.580437</td>\n",
              "      <td>0.433146</td>\n",
              "      <td>-0.256994</td>\n",
              "      <td>-0.105118</td>\n",
              "      <td>1.605563</td>\n",
              "      <td>0.038236</td>\n",
              "      <td>-0.539011</td>\n",
              "      <td>-0.206821</td>\n",
              "      <td>0.394127</td>\n",
              "      <td>-0.683827</td>\n",
              "    </tr>\n",
              "    <tr>\n",
              "      <th>30</th>\n",
              "      <td>-271.421287</td>\n",
              "      <td>30.601004</td>\n",
              "      <td>0.334333</td>\n",
              "      <td>-1.323067</td>\n",
              "      <td>4.401552</td>\n",
              "      <td>-5.735466</td>\n",
              "      <td>0.763629</td>\n",
              "      <td>0.069369</td>\n",
              "      <td>-0.782803</td>\n",
              "      <td>1.667700</td>\n",
              "      <td>1.004480</td>\n",
              "      <td>0.780968</td>\n",
              "      <td>0.919996</td>\n",
              "      <td>0.038115</td>\n",
              "      <td>-0.083127</td>\n",
              "    </tr>\n",
              "    <tr>\n",
              "      <th>31</th>\n",
              "      <td>-21.078327</td>\n",
              "      <td>-321.598188</td>\n",
              "      <td>37.133957</td>\n",
              "      <td>4.577510</td>\n",
              "      <td>6.433511</td>\n",
              "      <td>-4.815239</td>\n",
              "      <td>3.142053</td>\n",
              "      <td>2.251579</td>\n",
              "      <td>-0.669266</td>\n",
              "      <td>0.045652</td>\n",
              "      <td>0.323065</td>\n",
              "      <td>-0.739237</td>\n",
              "      <td>0.050205</td>\n",
              "      <td>-0.433603</td>\n",
              "      <td>0.353336</td>\n",
              "    </tr>\n",
              "    <tr>\n",
              "      <th>32</th>\n",
              "      <td>187.904824</td>\n",
              "      <td>-396.420205</td>\n",
              "      <td>-20.690377</td>\n",
              "      <td>39.092256</td>\n",
              "      <td>0.766807</td>\n",
              "      <td>6.806324</td>\n",
              "      <td>-2.496381</td>\n",
              "      <td>0.954819</td>\n",
              "      <td>0.652086</td>\n",
              "      <td>-0.218842</td>\n",
              "      <td>1.613450</td>\n",
              "      <td>-0.537251</td>\n",
              "      <td>0.423172</td>\n",
              "      <td>-0.621436</td>\n",
              "      <td>-0.164468</td>\n",
              "    </tr>\n",
              "    <tr>\n",
              "      <th>33</th>\n",
              "      <td>185.663211</td>\n",
              "      <td>983.590361</td>\n",
              "      <td>-3.670081</td>\n",
              "      <td>-46.389628</td>\n",
              "      <td>-18.490756</td>\n",
              "      <td>-6.413061</td>\n",
              "      <td>-1.120599</td>\n",
              "      <td>-2.106196</td>\n",
              "      <td>0.485054</td>\n",
              "      <td>-1.610759</td>\n",
              "      <td>0.951736</td>\n",
              "      <td>-1.069593</td>\n",
              "      <td>0.649890</td>\n",
              "      <td>-0.316166</td>\n",
              "      <td>0.258773</td>\n",
              "    </tr>\n",
              "    <tr>\n",
              "      <th>34</th>\n",
              "      <td>-511.261818</td>\n",
              "      <td>167.441042</td>\n",
              "      <td>-9.979133</td>\n",
              "      <td>5.272267</td>\n",
              "      <td>6.084532</td>\n",
              "      <td>-6.421569</td>\n",
              "      <td>0.541587</td>\n",
              "      <td>0.338448</td>\n",
              "      <td>-0.229757</td>\n",
              "      <td>1.359801</td>\n",
              "      <td>0.027317</td>\n",
              "      <td>-0.799728</td>\n",
              "      <td>-0.135717</td>\n",
              "      <td>0.636739</td>\n",
              "      <td>-0.110447</td>\n",
              "    </tr>\n",
              "    <tr>\n",
              "      <th>35</th>\n",
              "      <td>791.990557</td>\n",
              "      <td>-500.562567</td>\n",
              "      <td>-10.132706</td>\n",
              "      <td>-28.720098</td>\n",
              "      <td>13.956353</td>\n",
              "      <td>-0.534464</td>\n",
              "      <td>1.774108</td>\n",
              "      <td>2.537116</td>\n",
              "      <td>-0.899360</td>\n",
              "      <td>-0.435045</td>\n",
              "      <td>-2.633609</td>\n",
              "      <td>0.039129</td>\n",
              "      <td>0.782750</td>\n",
              "      <td>0.733956</td>\n",
              "      <td>-0.784016</td>\n",
              "    </tr>\n",
              "    <tr>\n",
              "      <th>36</th>\n",
              "      <td>-311.494336</td>\n",
              "      <td>-220.438110</td>\n",
              "      <td>1.069090</td>\n",
              "      <td>6.220838</td>\n",
              "      <td>6.847370</td>\n",
              "      <td>6.352146</td>\n",
              "      <td>-5.417133</td>\n",
              "      <td>-2.030584</td>\n",
              "      <td>-1.742735</td>\n",
              "      <td>3.298524</td>\n",
              "      <td>0.362969</td>\n",
              "      <td>0.786173</td>\n",
              "      <td>0.970300</td>\n",
              "      <td>-0.460349</td>\n",
              "      <td>0.549986</td>\n",
              "    </tr>\n",
              "    <tr>\n",
              "      <th>37</th>\n",
              "      <td>214.592866</td>\n",
              "      <td>-405.908928</td>\n",
              "      <td>-1.212552</td>\n",
              "      <td>4.587042</td>\n",
              "      <td>-32.149355</td>\n",
              "      <td>-9.890054</td>\n",
              "      <td>-0.180327</td>\n",
              "      <td>0.950032</td>\n",
              "      <td>-0.925926</td>\n",
              "      <td>3.003941</td>\n",
              "      <td>-0.046096</td>\n",
              "      <td>2.124635</td>\n",
              "      <td>-0.860183</td>\n",
              "      <td>-0.214735</td>\n",
              "      <td>-0.610519</td>\n",
              "    </tr>\n",
              "    <tr>\n",
              "      <th>38</th>\n",
              "      <td>-669.445715</td>\n",
              "      <td>-94.949904</td>\n",
              "      <td>-6.889781</td>\n",
              "      <td>-0.937903</td>\n",
              "      <td>9.353909</td>\n",
              "      <td>0.597350</td>\n",
              "      <td>0.544781</td>\n",
              "      <td>-1.002390</td>\n",
              "      <td>1.343226</td>\n",
              "      <td>-1.399299</td>\n",
              "      <td>-0.444776</td>\n",
              "      <td>-0.237344</td>\n",
              "      <td>-0.402306</td>\n",
              "      <td>-0.175696</td>\n",
              "      <td>-0.204435</td>\n",
              "    </tr>\n",
              "    <tr>\n",
              "      <th>39</th>\n",
              "      <td>1411.036424</td>\n",
              "      <td>237.400610</td>\n",
              "      <td>-48.514814</td>\n",
              "      <td>-32.207515</td>\n",
              "      <td>59.538096</td>\n",
              "      <td>-0.155723</td>\n",
              "      <td>-0.560788</td>\n",
              "      <td>-2.444263</td>\n",
              "      <td>-0.561032</td>\n",
              "      <td>-0.048154</td>\n",
              "      <td>0.910571</td>\n",
              "      <td>0.809279</td>\n",
              "      <td>-0.850133</td>\n",
              "      <td>0.269958</td>\n",
              "      <td>-0.138105</td>\n",
              "    </tr>\n",
              "    <tr>\n",
              "      <th>40</th>\n",
              "      <td>-637.873365</td>\n",
              "      <td>-0.433948</td>\n",
              "      <td>-13.765726</td>\n",
              "      <td>15.642780</td>\n",
              "      <td>5.246019</td>\n",
              "      <td>1.222331</td>\n",
              "      <td>4.889712</td>\n",
              "      <td>-1.290484</td>\n",
              "      <td>-0.877910</td>\n",
              "      <td>-0.961547</td>\n",
              "      <td>-0.274756</td>\n",
              "      <td>-0.074284</td>\n",
              "      <td>0.399297</td>\n",
              "      <td>0.483789</td>\n",
              "      <td>-0.228468</td>\n",
              "    </tr>\n",
              "  </tbody>\n",
              "</table>\n",
              "</div>\n",
              "      <button class=\"colab-df-convert\" onclick=\"convertToInteractive('df-08d816e7-5f43-4b99-8a76-bedfb3e5ecb1')\"\n",
              "              title=\"Convert this dataframe to an interactive table.\"\n",
              "              style=\"display:none;\">\n",
              "        \n",
              "  <svg xmlns=\"http://www.w3.org/2000/svg\" height=\"24px\"viewBox=\"0 0 24 24\"\n",
              "       width=\"24px\">\n",
              "    <path d=\"M0 0h24v24H0V0z\" fill=\"none\"/>\n",
              "    <path d=\"M18.56 5.44l.94 2.06.94-2.06 2.06-.94-2.06-.94-.94-2.06-.94 2.06-2.06.94zm-11 1L8.5 8.5l.94-2.06 2.06-.94-2.06-.94L8.5 2.5l-.94 2.06-2.06.94zm10 10l.94 2.06.94-2.06 2.06-.94-2.06-.94-.94-2.06-.94 2.06-2.06.94z\"/><path d=\"M17.41 7.96l-1.37-1.37c-.4-.4-.92-.59-1.43-.59-.52 0-1.04.2-1.43.59L10.3 9.45l-7.72 7.72c-.78.78-.78 2.05 0 2.83L4 21.41c.39.39.9.59 1.41.59.51 0 1.02-.2 1.41-.59l7.78-7.78 2.81-2.81c.8-.78.8-2.07 0-2.86zM5.41 20L4 18.59l7.72-7.72 1.47 1.35L5.41 20z\"/>\n",
              "  </svg>\n",
              "      </button>\n",
              "      \n",
              "  <style>\n",
              "    .colab-df-container {\n",
              "      display:flex;\n",
              "      flex-wrap:wrap;\n",
              "      gap: 12px;\n",
              "    }\n",
              "\n",
              "    .colab-df-convert {\n",
              "      background-color: #E8F0FE;\n",
              "      border: none;\n",
              "      border-radius: 50%;\n",
              "      cursor: pointer;\n",
              "      display: none;\n",
              "      fill: #1967D2;\n",
              "      height: 32px;\n",
              "      padding: 0 0 0 0;\n",
              "      width: 32px;\n",
              "    }\n",
              "\n",
              "    .colab-df-convert:hover {\n",
              "      background-color: #E2EBFA;\n",
              "      box-shadow: 0px 1px 2px rgba(60, 64, 67, 0.3), 0px 1px 3px 1px rgba(60, 64, 67, 0.15);\n",
              "      fill: #174EA6;\n",
              "    }\n",
              "\n",
              "    [theme=dark] .colab-df-convert {\n",
              "      background-color: #3B4455;\n",
              "      fill: #D2E3FC;\n",
              "    }\n",
              "\n",
              "    [theme=dark] .colab-df-convert:hover {\n",
              "      background-color: #434B5C;\n",
              "      box-shadow: 0px 1px 3px 1px rgba(0, 0, 0, 0.15);\n",
              "      filter: drop-shadow(0px 1px 2px rgba(0, 0, 0, 0.3));\n",
              "      fill: #FFFFFF;\n",
              "    }\n",
              "  </style>\n",
              "\n",
              "      <script>\n",
              "        const buttonEl =\n",
              "          document.querySelector('#df-08d816e7-5f43-4b99-8a76-bedfb3e5ecb1 button.colab-df-convert');\n",
              "        buttonEl.style.display =\n",
              "          google.colab.kernel.accessAllowed ? 'block' : 'none';\n",
              "\n",
              "        async function convertToInteractive(key) {\n",
              "          const element = document.querySelector('#df-08d816e7-5f43-4b99-8a76-bedfb3e5ecb1');\n",
              "          const dataTable =\n",
              "            await google.colab.kernel.invokeFunction('convertToInteractive',\n",
              "                                                     [key], {});\n",
              "          if (!dataTable) return;\n",
              "\n",
              "          const docLinkHtml = 'Like what you see? Visit the ' +\n",
              "            '<a target=\"_blank\" href=https://colab.research.google.com/notebooks/data_table.ipynb>data table notebook</a>'\n",
              "            + ' to learn more about interactive tables.';\n",
              "          element.innerHTML = '';\n",
              "          dataTable['output_type'] = 'display_data';\n",
              "          await google.colab.output.renderOutput(dataTable, element);\n",
              "          const docLink = document.createElement('div');\n",
              "          docLink.innerHTML = docLinkHtml;\n",
              "          element.appendChild(docLink);\n",
              "        }\n",
              "      </script>\n",
              "    </div>\n",
              "  </div>\n",
              "  "
            ]
          },
          "metadata": {},
          "execution_count": 115
        }
      ],
      "source": [
        "X_test"
      ]
    },
    {
      "cell_type": "markdown",
      "metadata": {
        "id": "ImYLmpu8pkxl"
      },
      "source": [
        "#Scaling"
      ]
    },
    {
      "cell_type": "code",
      "execution_count": 116,
      "metadata": {
        "id": "txzQi7J0plVG"
      },
      "outputs": [],
      "source": [
        "from sklearn.preprocessing import StandardScaler"
      ]
    },
    {
      "cell_type": "code",
      "execution_count": 117,
      "metadata": {
        "id": "3yEZ35RbswTF"
      },
      "outputs": [],
      "source": [
        "ss = StandardScaler()"
      ]
    },
    {
      "cell_type": "code",
      "execution_count": 118,
      "metadata": {
        "id": "Ls8cyaD-s-yd"
      },
      "outputs": [],
      "source": [
        "X_train = ss.fit_transform(X_train)\n",
        "X_test = ss.transform(X_test)"
      ]
    },
    {
      "cell_type": "markdown",
      "metadata": {
        "id": "uwQdHZ71xDuC"
      },
      "source": [
        "# Model Building"
      ]
    },
    {
      "cell_type": "code",
      "execution_count": 119,
      "metadata": {
        "id": "_1KOCW1bxL6h"
      },
      "outputs": [],
      "source": [
        "from sklearn.linear_model import LinearRegression, SGDRegressor\n",
        "from sklearn.svm import SVR\n",
        "from sklearn.tree import DecisionTreeRegressor\n",
        "from sklearn.ensemble import RandomForestRegressor, GradientBoostingRegressor"
      ]
    },
    {
      "cell_type": "code",
      "execution_count": 120,
      "metadata": {
        "id": "GEWpIV4byKwI"
      },
      "outputs": [],
      "source": [
        "lr = LinearRegression()\n",
        "sgd = SGDRegressor()\n",
        "svr = SVR()\n",
        "dtr = DecisionTreeRegressor()\n",
        "rfr = RandomForestRegressor()\n",
        "gbr = GradientBoostingRegressor()"
      ]
    },
    {
      "cell_type": "code",
      "execution_count": 121,
      "metadata": {
        "colab": {
          "base_uri": "https://localhost:8080/"
        },
        "id": "RS8CyfwNyCSo",
        "outputId": "c2b7c606-4a9b-409a-c8d0-a5d2ffaeab4c"
      },
      "outputs": [
        {
          "output_type": "execute_result",
          "data": {
            "text/plain": [
              "GradientBoostingRegressor()"
            ]
          },
          "metadata": {},
          "execution_count": 121
        }
      ],
      "source": [
        "lr.fit(X_train, y_train)\n",
        "sgd.fit(X_train, y_train)\n",
        "svr.fit(X_train, y_train)\n",
        "dtr.fit(X_train, y_train)\n",
        "rfr.fit(X_train, y_train)\n",
        "gbr.fit(X_train, y_train)"
      ]
    },
    {
      "cell_type": "code",
      "source": [
        "y_pred1 = lr.predict(X_test)\n",
        "y_pred2 = sgd.predict(X_test)\n",
        "y_pred3 = svr.predict(X_test)\n",
        "y_pred4 = dtr.predict(X_test)\n",
        "y_pred5 = rfr.predict(X_test)\n",
        "y_pred6 = gbr.predict(X_test)"
      ],
      "metadata": {
        "id": "pjG9380hIq7t"
      },
      "execution_count": 122,
      "outputs": []
    },
    {
      "cell_type": "markdown",
      "source": [
        "# R2 Score"
      ],
      "metadata": {
        "id": "KXLfJQwZK5PG"
      }
    },
    {
      "cell_type": "code",
      "source": [
        "print(lr.score(X_test, y_test))\n",
        "print(sgd.score(X_test, y_test))\n",
        "print(svr.score(X_test, y_test))\n",
        "print(dtr.score(X_test, y_test))\n",
        "print(rfr.score(X_test, y_test))\n",
        "print(gbr.score(X_test, y_test))"
      ],
      "metadata": {
        "colab": {
          "base_uri": "https://localhost:8080/"
        },
        "id": "1gbzh_QeHBxj",
        "outputId": "51fb9ba5-912e-4a1e-ef3c-0d5edd25d93f"
      },
      "execution_count": 123,
      "outputs": [
        {
          "output_type": "stream",
          "name": "stdout",
          "text": [
            "0.10082319378076432\n",
            "0.09958275853122223\n",
            "-0.0862239362035715\n",
            "0.13324958109946106\n",
            "0.43311156998173317\n",
            "0.490487224115419\n"
          ]
        }
      ]
    },
    {
      "cell_type": "code",
      "source": [
        "from sklearn.metrics import mean_absolute_error"
      ],
      "metadata": {
        "id": "Lo3YvIOAIYYY"
      },
      "execution_count": 124,
      "outputs": []
    },
    {
      "cell_type": "markdown",
      "source": [
        "# Mean Absolute Error (MAE)"
      ],
      "metadata": {
        "id": "vV7O_13cK_Dl"
      }
    },
    {
      "cell_type": "code",
      "source": [
        "print(mean_absolute_error(y_test, y_pred1))\n",
        "print(mean_absolute_error(y_test, y_pred2))\n",
        "print(mean_absolute_error(y_test, y_pred3))\n",
        "print(mean_absolute_error(y_test, y_pred4))\n",
        "print(mean_absolute_error(y_test, y_pred5))\n",
        "print(mean_absolute_error(y_test, y_pred6))"
      ],
      "metadata": {
        "colab": {
          "base_uri": "https://localhost:8080/"
        },
        "id": "q6N6Xn5aIiAc",
        "outputId": "68d3bd0d-d14c-4fed-b052-527bd576fe10"
      },
      "execution_count": 125,
      "outputs": [
        {
          "output_type": "stream",
          "name": "stdout",
          "text": [
            "6327.86581759069\n",
            "6333.056958676815\n",
            "5268.916460763981\n",
            "5890.392279704199\n",
            "4892.236753641736\n",
            "4789.107702943129\n"
          ]
        }
      ]
    },
    {
      "cell_type": "code",
      "source": [
        "from sklearn.metrics import mean_squared_error"
      ],
      "metadata": {
        "id": "_76gd1q9JeLf"
      },
      "execution_count": 126,
      "outputs": []
    },
    {
      "cell_type": "markdown",
      "source": [
        "# Mean Squared Error (MSE)"
      ],
      "metadata": {
        "id": "udx5nf-WLEvY"
      }
    },
    {
      "cell_type": "code",
      "source": [
        "print(mean_squared_error(y_test, y_pred1))\n",
        "print(mean_squared_error(y_test, y_pred2))\n",
        "print(mean_squared_error(y_test, y_pred3))\n",
        "print(mean_squared_error(y_test, y_pred4))\n",
        "print(mean_squared_error(y_test, y_pred5))\n",
        "print(mean_squared_error(y_test, y_pred6))"
      ],
      "metadata": {
        "colab": {
          "base_uri": "https://localhost:8080/"
        },
        "id": "ubEOkxdpJjMO",
        "outputId": "223672d8-f135-4a7e-8a02-be630ac72d98"
      },
      "execution_count": 127,
      "outputs": [
        {
          "output_type": "stream",
          "name": "stdout",
          "text": [
            "61471441.97617175\n",
            "61556243.255453005\n",
            "74258756.68237217\n",
            "59254640.14946612\n",
            "38754835.52489959\n",
            "34832398.72545235\n"
          ]
        }
      ]
    }
  ],
  "metadata": {
    "colab": {
      "collapsed_sections": [],
      "provenance": [],
      "authorship_tag": "ABX9TyNjUjj/hx/wwS6qV7d7kR+R",
      "include_colab_link": true
    },
    "kernelspec": {
      "display_name": "Python 3",
      "name": "python3"
    },
    "language_info": {
      "name": "python"
    }
  },
  "nbformat": 4,
  "nbformat_minor": 0
}